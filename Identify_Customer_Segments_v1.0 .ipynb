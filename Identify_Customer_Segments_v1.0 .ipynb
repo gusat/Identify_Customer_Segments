{
 "cells": [
  {
   "cell_type": "markdown",
   "metadata": {},
   "source": [
    "# Project: Identify Customer Segments\n",
    "\n",
    "In this project, you will apply unsupervised learning techniques to identify segments of the population that form the core customer base for a mail-order sales company in Germany. These segments can then be used to direct marketing campaigns towards audiences that will have the highest expected rate of returns. The data that you will use has been provided by our partners at Bertelsmann Arvato Analytics, and represents a real-life data science task.\n",
    "\n",
    "This notebook will help you complete this task by providing a framework within which you will perform your analysis steps. In each step of the project, you will see some text describing the subtask that you will perform, followed by one or more code cells for you to complete your work. **Feel free to add additional code and markdown cells as you go along so that you can explore everything in precise chunks.** The code cells provided in the base template will outline only the major tasks, and will usually not be enough to cover all of the minor tasks that comprise it.\n",
    "\n",
    "It should be noted that while there will be precise guidelines on how you should handle certain tasks in the project, there will also be places where an exact specification is not provided. **There will be times in the project where you will need to make and justify your own decisions on how to treat the data.** These are places where there may not be only one way to handle the data. In real-life tasks, there may be many valid ways to approach an analysis task. One of the most important things you can do is clearly document your approach so that other scientists can understand the decisions you've made.\n",
    "\n",
    "At the end of most sections, there will be a Markdown cell labeled **Discussion**. In these cells, you will report your findings for the completed section, as well as document the decisions that you made in your approach to each subtask. **Your project will be evaluated not just on the code used to complete the tasks outlined, but also your communication about your observations and conclusions at each stage.**"
   ]
  },
  {
   "cell_type": "code",
   "execution_count": 1,
   "metadata": {},
   "outputs": [
    {
     "data": {
      "text/plain": [
       "'\\nImport note: The classroom currently uses sklearn version 0.19.\\nIf you need to use an imputer, it is available in sklearn.preprocessing.Imputer,\\ninstead of sklearn.impute as in newer versions of sklearn.\\n'"
      ]
     },
     "execution_count": 1,
     "metadata": {},
     "output_type": "execute_result"
    }
   ],
   "source": [
    "# import libraries here; add more as necessary\n",
    "import numpy as np\n",
    "import pandas as pd\n",
    "import matplotlib.pyplot as plt\n",
    "import seaborn as sns\n",
    "import time\n",
    "from scipy import stats\n",
    "from sklearn.impute import SimpleImputer\n",
    "from sklearn.decomposition import PCA\n",
    "from sklearn.cluster import KMeans\n",
    "from sklearn.preprocessing import OneHotEncoder, StandardScaler\n",
    "\n",
    "\n",
    "# magic word for producing visualizations in notebook\n",
    "%matplotlib inline\n",
    "\n",
    "'''\n",
    "Import note: The classroom currently uses sklearn version 0.19.\n",
    "If you need to use an imputer, it is available in sklearn.preprocessing.Imputer,\n",
    "instead of sklearn.imputer as in newer versions of sklearn.\n",
    "'''"
   ]
  },
  {
   "cell_type": "markdown",
   "metadata": {},
   "source": [
    "### Step 0: Load the Data\n",
    "\n",
    "There are four files associated with this project (not including this one):\n",
    "\n",
    "- `Udacity_AZDIAS_Subset.csv`: Demographics data for the general population of Germany; 891211 persons (rows) x 85 features (columns).\n",
    "- `Udacity_CUSTOMERS_Subset.csv`: Demographics data for customers of a mail-order company; 191652 persons (rows) x 85 features (columns).\n",
    "- `Data_Dictionary.md`: Detailed information file about the features in the provided datasets.\n",
    "- `AZDIAS_Feature_Summary.csv`: Summary of feature attributes for demographics data; 85 features (rows) x 4 columns\n",
    "\n",
    "Each row of the demographics files represents a single person, but also includes information outside of individuals, including information about their household, building, and neighborhood. You will use this information to cluster the general population into groups with similar demographic properties. Then, you will see how the people in the customers dataset fit into those created clusters. The hope here is that certain clusters are over-represented in the customers data, as compared to the general population; those over-represented clusters will be assumed to be part of the core userbase. This information can then be used for further applications, such as targeting for a marketing campaign.\n",
    "\n",
    "To start off with, load in the demographics data for the general population into a pandas DataFrame, and do the same for the feature attributes summary. Note for all of the `.csv` data files in this project: they're semicolon (`;`) delimited, so you'll need an additional argument in your [`read_csv()`](https://pandas.pydata.org/pandas-docs/stable/generated/pandas.read_csv.html) call to read in the data properly. Also, considering the size of the main dataset, it may take some time for it to load completely.\n",
    "\n",
    "Once the dataset is loaded, it's recommended that you take a little bit of time just browsing the general structure of the dataset and feature summary file. You'll be getting deep into the innards of the cleaning in the first major step of the project, so gaining some general familiarity can help you get your bearings."
   ]
  },
  {
   "cell_type": "code",
   "execution_count": 2,
   "metadata": {},
   "outputs": [],
   "source": [
    "# Load in the general demographics data.\n",
    "azdias = pd.read_csv('Udacity_AZDIAS_Subset.csv', delimiter=';')\n",
    "\n",
    "# Load in the feature summary file.\n",
    "feat_info = pd.read_csv('AZDIAS_Feature_Summary.csv', delimiter=';')"
   ]
  },
  {
   "cell_type": "code",
   "execution_count": 3,
   "metadata": {},
   "outputs": [
    {
     "name": "stdout",
     "output_type": "stream",
     "text": [
      "Demographics data shape:  (891221, 85)\n",
      "Feature summary data shape:  (85, 4)\n",
      "Rows: 891221 \n",
      "Columns: 85\n"
     ]
    },
    {
     "data": {
      "text/html": [
       "<div>\n",
       "<style scoped>\n",
       "    .dataframe tbody tr th:only-of-type {\n",
       "        vertical-align: middle;\n",
       "    }\n",
       "\n",
       "    .dataframe tbody tr th {\n",
       "        vertical-align: top;\n",
       "    }\n",
       "\n",
       "    .dataframe thead th {\n",
       "        text-align: right;\n",
       "    }\n",
       "</style>\n",
       "<table border=\"1\" class=\"dataframe\">\n",
       "  <thead>\n",
       "    <tr style=\"text-align: right;\">\n",
       "      <th></th>\n",
       "      <th>count</th>\n",
       "      <th>unique</th>\n",
       "      <th>top</th>\n",
       "      <th>freq</th>\n",
       "      <th>mean</th>\n",
       "      <th>std</th>\n",
       "      <th>min</th>\n",
       "      <th>25%</th>\n",
       "      <th>50%</th>\n",
       "      <th>75%</th>\n",
       "      <th>max</th>\n",
       "    </tr>\n",
       "  </thead>\n",
       "  <tbody>\n",
       "    <tr>\n",
       "      <th>AGER_TYP</th>\n",
       "      <td>891221.0</td>\n",
       "      <td>NaN</td>\n",
       "      <td>NaN</td>\n",
       "      <td>NaN</td>\n",
       "      <td>-0.358435</td>\n",
       "      <td>1.198724</td>\n",
       "      <td>-1.0</td>\n",
       "      <td>-1.0</td>\n",
       "      <td>-1.0</td>\n",
       "      <td>-1.0</td>\n",
       "      <td>3.0</td>\n",
       "    </tr>\n",
       "    <tr>\n",
       "      <th>ALTERSKATEGORIE_GROB</th>\n",
       "      <td>891221.0</td>\n",
       "      <td>NaN</td>\n",
       "      <td>NaN</td>\n",
       "      <td>NaN</td>\n",
       "      <td>2.777398</td>\n",
       "      <td>1.068775</td>\n",
       "      <td>1.0</td>\n",
       "      <td>2.0</td>\n",
       "      <td>3.0</td>\n",
       "      <td>4.0</td>\n",
       "      <td>9.0</td>\n",
       "    </tr>\n",
       "    <tr>\n",
       "      <th>ANREDE_KZ</th>\n",
       "      <td>891221.0</td>\n",
       "      <td>NaN</td>\n",
       "      <td>NaN</td>\n",
       "      <td>NaN</td>\n",
       "      <td>1.522098</td>\n",
       "      <td>0.499512</td>\n",
       "      <td>1.0</td>\n",
       "      <td>1.0</td>\n",
       "      <td>2.0</td>\n",
       "      <td>2.0</td>\n",
       "      <td>2.0</td>\n",
       "    </tr>\n",
       "    <tr>\n",
       "      <th>CJT_GESAMTTYP</th>\n",
       "      <td>886367.0</td>\n",
       "      <td>NaN</td>\n",
       "      <td>NaN</td>\n",
       "      <td>NaN</td>\n",
       "      <td>3.632838</td>\n",
       "      <td>1.595021</td>\n",
       "      <td>1.0</td>\n",
       "      <td>2.0</td>\n",
       "      <td>4.0</td>\n",
       "      <td>5.0</td>\n",
       "      <td>6.0</td>\n",
       "    </tr>\n",
       "    <tr>\n",
       "      <th>FINANZ_MINIMALIST</th>\n",
       "      <td>891221.0</td>\n",
       "      <td>NaN</td>\n",
       "      <td>NaN</td>\n",
       "      <td>NaN</td>\n",
       "      <td>3.074528</td>\n",
       "      <td>1.321055</td>\n",
       "      <td>1.0</td>\n",
       "      <td>2.0</td>\n",
       "      <td>3.0</td>\n",
       "      <td>4.0</td>\n",
       "      <td>5.0</td>\n",
       "    </tr>\n",
       "    <tr>\n",
       "      <th>...</th>\n",
       "      <td>...</td>\n",
       "      <td>...</td>\n",
       "      <td>...</td>\n",
       "      <td>...</td>\n",
       "      <td>...</td>\n",
       "      <td>...</td>\n",
       "      <td>...</td>\n",
       "      <td>...</td>\n",
       "      <td>...</td>\n",
       "      <td>...</td>\n",
       "      <td>...</td>\n",
       "    </tr>\n",
       "    <tr>\n",
       "      <th>PLZ8_HHZ</th>\n",
       "      <td>774706.0</td>\n",
       "      <td>NaN</td>\n",
       "      <td>NaN</td>\n",
       "      <td>NaN</td>\n",
       "      <td>3.612821</td>\n",
       "      <td>0.973967</td>\n",
       "      <td>1.0</td>\n",
       "      <td>3.0</td>\n",
       "      <td>4.0</td>\n",
       "      <td>4.0</td>\n",
       "      <td>5.0</td>\n",
       "    </tr>\n",
       "    <tr>\n",
       "      <th>PLZ8_GBZ</th>\n",
       "      <td>774706.0</td>\n",
       "      <td>NaN</td>\n",
       "      <td>NaN</td>\n",
       "      <td>NaN</td>\n",
       "      <td>3.381087</td>\n",
       "      <td>1.111598</td>\n",
       "      <td>1.0</td>\n",
       "      <td>3.0</td>\n",
       "      <td>3.0</td>\n",
       "      <td>4.0</td>\n",
       "      <td>5.0</td>\n",
       "    </tr>\n",
       "    <tr>\n",
       "      <th>ARBEIT</th>\n",
       "      <td>794005.0</td>\n",
       "      <td>NaN</td>\n",
       "      <td>NaN</td>\n",
       "      <td>NaN</td>\n",
       "      <td>3.167854</td>\n",
       "      <td>1.002376</td>\n",
       "      <td>1.0</td>\n",
       "      <td>3.0</td>\n",
       "      <td>3.0</td>\n",
       "      <td>4.0</td>\n",
       "      <td>9.0</td>\n",
       "    </tr>\n",
       "    <tr>\n",
       "      <th>ORTSGR_KLS9</th>\n",
       "      <td>794005.0</td>\n",
       "      <td>NaN</td>\n",
       "      <td>NaN</td>\n",
       "      <td>NaN</td>\n",
       "      <td>5.293002</td>\n",
       "      <td>2.303739</td>\n",
       "      <td>0.0</td>\n",
       "      <td>4.0</td>\n",
       "      <td>5.0</td>\n",
       "      <td>7.0</td>\n",
       "      <td>9.0</td>\n",
       "    </tr>\n",
       "    <tr>\n",
       "      <th>RELAT_AB</th>\n",
       "      <td>794005.0</td>\n",
       "      <td>NaN</td>\n",
       "      <td>NaN</td>\n",
       "      <td>NaN</td>\n",
       "      <td>3.07222</td>\n",
       "      <td>1.36298</td>\n",
       "      <td>1.0</td>\n",
       "      <td>2.0</td>\n",
       "      <td>3.0</td>\n",
       "      <td>4.0</td>\n",
       "      <td>9.0</td>\n",
       "    </tr>\n",
       "  </tbody>\n",
       "</table>\n",
       "<p>85 rows × 11 columns</p>\n",
       "</div>"
      ],
      "text/plain": [
       "                         count unique  top freq      mean       std  min  25%  \\\n",
       "AGER_TYP              891221.0    NaN  NaN  NaN -0.358435  1.198724 -1.0 -1.0   \n",
       "ALTERSKATEGORIE_GROB  891221.0    NaN  NaN  NaN  2.777398  1.068775  1.0  2.0   \n",
       "ANREDE_KZ             891221.0    NaN  NaN  NaN  1.522098  0.499512  1.0  1.0   \n",
       "CJT_GESAMTTYP         886367.0    NaN  NaN  NaN  3.632838  1.595021  1.0  2.0   \n",
       "FINANZ_MINIMALIST     891221.0    NaN  NaN  NaN  3.074528  1.321055  1.0  2.0   \n",
       "...                        ...    ...  ...  ...       ...       ...  ...  ...   \n",
       "PLZ8_HHZ              774706.0    NaN  NaN  NaN  3.612821  0.973967  1.0  3.0   \n",
       "PLZ8_GBZ              774706.0    NaN  NaN  NaN  3.381087  1.111598  1.0  3.0   \n",
       "ARBEIT                794005.0    NaN  NaN  NaN  3.167854  1.002376  1.0  3.0   \n",
       "ORTSGR_KLS9           794005.0    NaN  NaN  NaN  5.293002  2.303739  0.0  4.0   \n",
       "RELAT_AB              794005.0    NaN  NaN  NaN   3.07222   1.36298  1.0  2.0   \n",
       "\n",
       "                      50%  75%  max  \n",
       "AGER_TYP             -1.0 -1.0  3.0  \n",
       "ALTERSKATEGORIE_GROB  3.0  4.0  9.0  \n",
       "ANREDE_KZ             2.0  2.0  2.0  \n",
       "CJT_GESAMTTYP         4.0  5.0  6.0  \n",
       "FINANZ_MINIMALIST     3.0  4.0  5.0  \n",
       "...                   ...  ...  ...  \n",
       "PLZ8_HHZ              4.0  4.0  5.0  \n",
       "PLZ8_GBZ              3.0  4.0  5.0  \n",
       "ARBEIT                3.0  4.0  9.0  \n",
       "ORTSGR_KLS9           5.0  7.0  9.0  \n",
       "RELAT_AB              3.0  4.0  9.0  \n",
       "\n",
       "[85 rows x 11 columns]"
      ]
     },
     "execution_count": 3,
     "metadata": {},
     "output_type": "execute_result"
    }
   ],
   "source": [
    "# Check the structure of the data after it's loaded.\n",
    "print(\"Demographics data shape: \", azdias.shape)\n",
    "print(\"Feature summary data shape: \", feat_info.shape)\n",
    "\n",
    "# azdias: print the number of rows and columns\n",
    "print('Rows: {} \\\n",
    "\\nColumns: {}'.format(azdias.shape[0], azdias.shape[1]))\n",
    "\n",
    "azdias.describe(include='all').T"
   ]
  },
  {
   "cell_type": "code",
   "execution_count": 4,
   "metadata": {},
   "outputs": [
    {
     "name": "stdout",
     "output_type": "stream",
     "text": [
      "\n",
      "\n",
      " 1st glance at stats \n"
     ]
    },
    {
     "data": {
      "text/html": [
       "<div>\n",
       "<style scoped>\n",
       "    .dataframe tbody tr th:only-of-type {\n",
       "        vertical-align: middle;\n",
       "    }\n",
       "\n",
       "    .dataframe tbody tr th {\n",
       "        vertical-align: top;\n",
       "    }\n",
       "\n",
       "    .dataframe thead th {\n",
       "        text-align: right;\n",
       "    }\n",
       "</style>\n",
       "<table border=\"1\" class=\"dataframe\">\n",
       "  <thead>\n",
       "    <tr style=\"text-align: right;\">\n",
       "      <th></th>\n",
       "      <th>AGER_TYP</th>\n",
       "      <th>ALTERSKATEGORIE_GROB</th>\n",
       "      <th>ANREDE_KZ</th>\n",
       "      <th>CJT_GESAMTTYP</th>\n",
       "      <th>FINANZ_MINIMALIST</th>\n",
       "      <th>FINANZ_SPARER</th>\n",
       "      <th>FINANZ_VORSORGER</th>\n",
       "      <th>FINANZ_ANLEGER</th>\n",
       "      <th>FINANZ_UNAUFFAELLIGER</th>\n",
       "      <th>FINANZ_HAUSBAUER</th>\n",
       "      <th>...</th>\n",
       "      <th>PLZ8_ANTG1</th>\n",
       "      <th>PLZ8_ANTG2</th>\n",
       "      <th>PLZ8_ANTG3</th>\n",
       "      <th>PLZ8_ANTG4</th>\n",
       "      <th>PLZ8_BAUMAX</th>\n",
       "      <th>PLZ8_HHZ</th>\n",
       "      <th>PLZ8_GBZ</th>\n",
       "      <th>ARBEIT</th>\n",
       "      <th>ORTSGR_KLS9</th>\n",
       "      <th>RELAT_AB</th>\n",
       "    </tr>\n",
       "  </thead>\n",
       "  <tbody>\n",
       "    <tr>\n",
       "      <th>count</th>\n",
       "      <td>891221.000000</td>\n",
       "      <td>891221.000000</td>\n",
       "      <td>891221.000000</td>\n",
       "      <td>886367.000000</td>\n",
       "      <td>891221.000000</td>\n",
       "      <td>891221.000000</td>\n",
       "      <td>891221.000000</td>\n",
       "      <td>891221.000000</td>\n",
       "      <td>891221.000000</td>\n",
       "      <td>891221.000000</td>\n",
       "      <td>...</td>\n",
       "      <td>774706.000000</td>\n",
       "      <td>774706.000000</td>\n",
       "      <td>774706.000000</td>\n",
       "      <td>774706.000000</td>\n",
       "      <td>774706.000000</td>\n",
       "      <td>774706.000000</td>\n",
       "      <td>774706.000000</td>\n",
       "      <td>794005.000000</td>\n",
       "      <td>794005.000000</td>\n",
       "      <td>794005.00000</td>\n",
       "    </tr>\n",
       "    <tr>\n",
       "      <th>mean</th>\n",
       "      <td>-0.358435</td>\n",
       "      <td>2.777398</td>\n",
       "      <td>1.522098</td>\n",
       "      <td>3.632838</td>\n",
       "      <td>3.074528</td>\n",
       "      <td>2.821039</td>\n",
       "      <td>3.401106</td>\n",
       "      <td>3.033328</td>\n",
       "      <td>2.874167</td>\n",
       "      <td>3.075121</td>\n",
       "      <td>...</td>\n",
       "      <td>2.253330</td>\n",
       "      <td>2.801858</td>\n",
       "      <td>1.595426</td>\n",
       "      <td>0.699166</td>\n",
       "      <td>1.943913</td>\n",
       "      <td>3.612821</td>\n",
       "      <td>3.381087</td>\n",
       "      <td>3.167854</td>\n",
       "      <td>5.293002</td>\n",
       "      <td>3.07222</td>\n",
       "    </tr>\n",
       "    <tr>\n",
       "      <th>std</th>\n",
       "      <td>1.198724</td>\n",
       "      <td>1.068775</td>\n",
       "      <td>0.499512</td>\n",
       "      <td>1.595021</td>\n",
       "      <td>1.321055</td>\n",
       "      <td>1.464749</td>\n",
       "      <td>1.322134</td>\n",
       "      <td>1.529603</td>\n",
       "      <td>1.486731</td>\n",
       "      <td>1.353248</td>\n",
       "      <td>...</td>\n",
       "      <td>0.972008</td>\n",
       "      <td>0.920309</td>\n",
       "      <td>0.986736</td>\n",
       "      <td>0.727137</td>\n",
       "      <td>1.459654</td>\n",
       "      <td>0.973967</td>\n",
       "      <td>1.111598</td>\n",
       "      <td>1.002376</td>\n",
       "      <td>2.303739</td>\n",
       "      <td>1.36298</td>\n",
       "    </tr>\n",
       "    <tr>\n",
       "      <th>min</th>\n",
       "      <td>-1.000000</td>\n",
       "      <td>1.000000</td>\n",
       "      <td>1.000000</td>\n",
       "      <td>1.000000</td>\n",
       "      <td>1.000000</td>\n",
       "      <td>1.000000</td>\n",
       "      <td>1.000000</td>\n",
       "      <td>1.000000</td>\n",
       "      <td>1.000000</td>\n",
       "      <td>1.000000</td>\n",
       "      <td>...</td>\n",
       "      <td>0.000000</td>\n",
       "      <td>0.000000</td>\n",
       "      <td>0.000000</td>\n",
       "      <td>0.000000</td>\n",
       "      <td>1.000000</td>\n",
       "      <td>1.000000</td>\n",
       "      <td>1.000000</td>\n",
       "      <td>1.000000</td>\n",
       "      <td>0.000000</td>\n",
       "      <td>1.00000</td>\n",
       "    </tr>\n",
       "    <tr>\n",
       "      <th>25%</th>\n",
       "      <td>-1.000000</td>\n",
       "      <td>2.000000</td>\n",
       "      <td>1.000000</td>\n",
       "      <td>2.000000</td>\n",
       "      <td>2.000000</td>\n",
       "      <td>1.000000</td>\n",
       "      <td>3.000000</td>\n",
       "      <td>2.000000</td>\n",
       "      <td>2.000000</td>\n",
       "      <td>2.000000</td>\n",
       "      <td>...</td>\n",
       "      <td>1.000000</td>\n",
       "      <td>2.000000</td>\n",
       "      <td>1.000000</td>\n",
       "      <td>0.000000</td>\n",
       "      <td>1.000000</td>\n",
       "      <td>3.000000</td>\n",
       "      <td>3.000000</td>\n",
       "      <td>3.000000</td>\n",
       "      <td>4.000000</td>\n",
       "      <td>2.00000</td>\n",
       "    </tr>\n",
       "    <tr>\n",
       "      <th>50%</th>\n",
       "      <td>-1.000000</td>\n",
       "      <td>3.000000</td>\n",
       "      <td>2.000000</td>\n",
       "      <td>4.000000</td>\n",
       "      <td>3.000000</td>\n",
       "      <td>3.000000</td>\n",
       "      <td>3.000000</td>\n",
       "      <td>3.000000</td>\n",
       "      <td>3.000000</td>\n",
       "      <td>3.000000</td>\n",
       "      <td>...</td>\n",
       "      <td>2.000000</td>\n",
       "      <td>3.000000</td>\n",
       "      <td>2.000000</td>\n",
       "      <td>1.000000</td>\n",
       "      <td>1.000000</td>\n",
       "      <td>4.000000</td>\n",
       "      <td>3.000000</td>\n",
       "      <td>3.000000</td>\n",
       "      <td>5.000000</td>\n",
       "      <td>3.00000</td>\n",
       "    </tr>\n",
       "    <tr>\n",
       "      <th>75%</th>\n",
       "      <td>-1.000000</td>\n",
       "      <td>4.000000</td>\n",
       "      <td>2.000000</td>\n",
       "      <td>5.000000</td>\n",
       "      <td>4.000000</td>\n",
       "      <td>4.000000</td>\n",
       "      <td>5.000000</td>\n",
       "      <td>5.000000</td>\n",
       "      <td>4.000000</td>\n",
       "      <td>4.000000</td>\n",
       "      <td>...</td>\n",
       "      <td>3.000000</td>\n",
       "      <td>3.000000</td>\n",
       "      <td>2.000000</td>\n",
       "      <td>1.000000</td>\n",
       "      <td>3.000000</td>\n",
       "      <td>4.000000</td>\n",
       "      <td>4.000000</td>\n",
       "      <td>4.000000</td>\n",
       "      <td>7.000000</td>\n",
       "      <td>4.00000</td>\n",
       "    </tr>\n",
       "    <tr>\n",
       "      <th>max</th>\n",
       "      <td>3.000000</td>\n",
       "      <td>9.000000</td>\n",
       "      <td>2.000000</td>\n",
       "      <td>6.000000</td>\n",
       "      <td>5.000000</td>\n",
       "      <td>5.000000</td>\n",
       "      <td>5.000000</td>\n",
       "      <td>5.000000</td>\n",
       "      <td>5.000000</td>\n",
       "      <td>5.000000</td>\n",
       "      <td>...</td>\n",
       "      <td>4.000000</td>\n",
       "      <td>4.000000</td>\n",
       "      <td>3.000000</td>\n",
       "      <td>2.000000</td>\n",
       "      <td>5.000000</td>\n",
       "      <td>5.000000</td>\n",
       "      <td>5.000000</td>\n",
       "      <td>9.000000</td>\n",
       "      <td>9.000000</td>\n",
       "      <td>9.00000</td>\n",
       "    </tr>\n",
       "  </tbody>\n",
       "</table>\n",
       "<p>8 rows × 81 columns</p>\n",
       "</div>"
      ],
      "text/plain": [
       "            AGER_TYP  ALTERSKATEGORIE_GROB      ANREDE_KZ  CJT_GESAMTTYP  \\\n",
       "count  891221.000000         891221.000000  891221.000000  886367.000000   \n",
       "mean       -0.358435              2.777398       1.522098       3.632838   \n",
       "std         1.198724              1.068775       0.499512       1.595021   \n",
       "min        -1.000000              1.000000       1.000000       1.000000   \n",
       "25%        -1.000000              2.000000       1.000000       2.000000   \n",
       "50%        -1.000000              3.000000       2.000000       4.000000   \n",
       "75%        -1.000000              4.000000       2.000000       5.000000   \n",
       "max         3.000000              9.000000       2.000000       6.000000   \n",
       "\n",
       "       FINANZ_MINIMALIST  FINANZ_SPARER  FINANZ_VORSORGER  FINANZ_ANLEGER  \\\n",
       "count      891221.000000  891221.000000     891221.000000   891221.000000   \n",
       "mean            3.074528       2.821039          3.401106        3.033328   \n",
       "std             1.321055       1.464749          1.322134        1.529603   \n",
       "min             1.000000       1.000000          1.000000        1.000000   \n",
       "25%             2.000000       1.000000          3.000000        2.000000   \n",
       "50%             3.000000       3.000000          3.000000        3.000000   \n",
       "75%             4.000000       4.000000          5.000000        5.000000   \n",
       "max             5.000000       5.000000          5.000000        5.000000   \n",
       "\n",
       "       FINANZ_UNAUFFAELLIGER  FINANZ_HAUSBAUER  ...     PLZ8_ANTG1  \\\n",
       "count          891221.000000     891221.000000  ...  774706.000000   \n",
       "mean                2.874167          3.075121  ...       2.253330   \n",
       "std                 1.486731          1.353248  ...       0.972008   \n",
       "min                 1.000000          1.000000  ...       0.000000   \n",
       "25%                 2.000000          2.000000  ...       1.000000   \n",
       "50%                 3.000000          3.000000  ...       2.000000   \n",
       "75%                 4.000000          4.000000  ...       3.000000   \n",
       "max                 5.000000          5.000000  ...       4.000000   \n",
       "\n",
       "          PLZ8_ANTG2     PLZ8_ANTG3     PLZ8_ANTG4    PLZ8_BAUMAX  \\\n",
       "count  774706.000000  774706.000000  774706.000000  774706.000000   \n",
       "mean        2.801858       1.595426       0.699166       1.943913   \n",
       "std         0.920309       0.986736       0.727137       1.459654   \n",
       "min         0.000000       0.000000       0.000000       1.000000   \n",
       "25%         2.000000       1.000000       0.000000       1.000000   \n",
       "50%         3.000000       2.000000       1.000000       1.000000   \n",
       "75%         3.000000       2.000000       1.000000       3.000000   \n",
       "max         4.000000       3.000000       2.000000       5.000000   \n",
       "\n",
       "            PLZ8_HHZ       PLZ8_GBZ         ARBEIT    ORTSGR_KLS9  \\\n",
       "count  774706.000000  774706.000000  794005.000000  794005.000000   \n",
       "mean        3.612821       3.381087       3.167854       5.293002   \n",
       "std         0.973967       1.111598       1.002376       2.303739   \n",
       "min         1.000000       1.000000       1.000000       0.000000   \n",
       "25%         3.000000       3.000000       3.000000       4.000000   \n",
       "50%         4.000000       3.000000       3.000000       5.000000   \n",
       "75%         4.000000       4.000000       4.000000       7.000000   \n",
       "max         5.000000       5.000000       9.000000       9.000000   \n",
       "\n",
       "           RELAT_AB  \n",
       "count  794005.00000  \n",
       "mean        3.07222  \n",
       "std         1.36298  \n",
       "min         1.00000  \n",
       "25%         2.00000  \n",
       "50%         3.00000  \n",
       "75%         4.00000  \n",
       "max         9.00000  \n",
       "\n",
       "[8 rows x 81 columns]"
      ]
     },
     "execution_count": 4,
     "metadata": {},
     "output_type": "execute_result"
    }
   ],
   "source": [
    "# 1st glance at stats also transposed\n",
    "print(f\"\\n\\n 1st glance at stats \")\n",
    "azdias.describe().transpose().T"
   ]
  },
  {
   "cell_type": "markdown",
   "metadata": {},
   "source": [
    "> **Tip**: Add additional cells to keep everything in reasonably-sized chunks! Keyboard shortcut `esc --> a` (press escape to enter command mode, then press the 'A' key) adds a new cell before the active cell, and `esc --> b` adds a new cell after the active cell. If you need to convert an active cell to a markdown cell, use `esc --> m` and to convert to a code cell, use `esc --> y`. \n",
    "\n",
    "## Step 1: Preprocessing\n",
    "\n",
    "### Step 1.1: Assess Missing Data\n",
    "\n",
    "The feature summary file contains a summary of properties for each demographics data column. You will use this file to help you make cleaning decisions during this stage of the project. First of all, you should assess the demographics data in terms of missing data. Pay attention to the following points as you perform your analysis, and take notes on what you observe. Make sure that you fill in the **Discussion** cell with your findings and decisions at the end of each step that has one!\n",
    "\n",
    "#### Step 1.1.1: Convert Missing Value Codes to NaNs\n",
    "The fourth column of the feature attributes summary (loaded in above as `feat_info`) documents the codes from the data dictionary that indicate missing or unknown data. While the file encodes this as a list (e.g. `[-1,0]`), this will get read in as a string object. You'll need to do a little bit of parsing to make use of it to identify and clean the data. Convert data that matches a 'missing' or 'unknown' value code into a numpy NaN value. You might want to see how much data takes on a 'missing' or 'unknown' code, and how much data is naturally missing, as a point of interest.\n",
    "\n",
    "**As one more reminder, you are encouraged to add additional cells to break up your analysis into manageable chunks.**"
   ]
  },
  {
   "cell_type": "code",
   "execution_count": 5,
   "metadata": {},
   "outputs": [
    {
     "data": {
      "text/plain": [
       "AGER_TYP                 0.000000\n",
       "ALTERSKATEGORIE_GROB     0.000000\n",
       "ANREDE_KZ                0.000000\n",
       "CJT_GESAMTTYP            0.544646\n",
       "FINANZ_MINIMALIST        0.000000\n",
       "                          ...    \n",
       "PLZ8_HHZ                13.073637\n",
       "PLZ8_GBZ                13.073637\n",
       "ARBEIT                  10.908181\n",
       "ORTSGR_KLS9             10.908181\n",
       "RELAT_AB                10.908181\n",
       "Length: 85, dtype: float64"
      ]
     },
     "execution_count": 5,
     "metadata": {},
     "output_type": "execute_result"
    }
   ],
   "source": [
    "# Create a raw dataset copy\n",
    "azdias_raw=azdias.copy()\n",
    "\n",
    "# Identify missing or unknown data values and convert them to NaNs.\n",
    "# Step 1.1.1: Convert Missing Value Codes to NaNs\n",
    "\n",
    "# Dictionary for missing value codes per attrib.\n",
    "mis_code = {}\n",
    "\n",
    "# feat_info scan\n",
    "for idx, row in feat_info.iterrows():\n",
    "    attribute = row['attribute']\n",
    "    mis_val = row['missing_or_unknown']\n",
    "    \n",
    "    #  mis_val is non-empty string?\n",
    "    if isinstance(mis_val, str) and mis_val.strip():\n",
    "        # Extract the missing value codes and convert them into a list of integers.\n",
    "        mis_val = [code.strip() for code in mis_val[1:-1].split(',')]\n",
    "        \n",
    "        # Update mis_code dictionary with attribute=key ; missing values = value\n",
    "        mis_code[attribute] = mis_val\n",
    "\n",
    "# Replace miss & unknown values with NaNs\n",
    "for attribute, mis_val in mis_code.items():\n",
    "    # Attribute exists in azdias ?\n",
    "    if attribute in azdias.columns:\n",
    "        # Replace the missing vals with NaNs\n",
    "        azdias[attribute] = azdias[attribute].replace(mis_val, np.nan)\n",
    "\n",
    "# After replacement check % of missing values per col\n",
    "mis_perc = azdias.isnull().sum() / len(azdias) * 100\n",
    "\n",
    "# Print the % of missing vals per col, unsorted\n",
    "mis_perc"
   ]
  },
  {
   "cell_type": "markdown",
   "metadata": {},
   "source": [
    "#### Step 1.1.2: Assess Missing Data in Each Column\n",
    "\n",
    "How much missing data is present in each column? There are a few columns that are outliers in terms of the proportion of values that are missing. You will want to use matplotlib's [`hist()`](https://matplotlib.org/api/_as_gen/matplotlib.pyplot.hist.html) function to visualize the distribution of missing value counts to find these columns. Identify and document these columns. While some of these columns might have justifications for keeping or re-encoding the data, for this project you should just remove them from the dataframe. (Feel free to make remarks about these outlier columns in the discussion, however!)\n",
    "\n",
    "For the remaining features, are there any patterns in which columns have, or share, missing data?"
   ]
  },
  {
   "cell_type": "code",
   "execution_count": 6,
   "metadata": {},
   "outputs": [
    {
     "data": {
      "text/html": [
       "<div>\n",
       "<style scoped>\n",
       "    .dataframe tbody tr th:only-of-type {\n",
       "        vertical-align: middle;\n",
       "    }\n",
       "\n",
       "    .dataframe tbody tr th {\n",
       "        vertical-align: top;\n",
       "    }\n",
       "\n",
       "    .dataframe thead th {\n",
       "        text-align: right;\n",
       "    }\n",
       "</style>\n",
       "<table border=\"1\" class=\"dataframe\">\n",
       "  <thead>\n",
       "    <tr style=\"text-align: right;\">\n",
       "      <th></th>\n",
       "      <th>count</th>\n",
       "      <th>percent</th>\n",
       "    </tr>\n",
       "  </thead>\n",
       "  <tbody>\n",
       "    <tr>\n",
       "      <th>KK_KUNDENTYP</th>\n",
       "      <td>584612</td>\n",
       "      <td>65.60</td>\n",
       "    </tr>\n",
       "    <tr>\n",
       "      <th>KBA05_BAUMAX</th>\n",
       "      <td>133324</td>\n",
       "      <td>14.96</td>\n",
       "    </tr>\n",
       "    <tr>\n",
       "      <th>KBA05_ANTG4</th>\n",
       "      <td>133324</td>\n",
       "      <td>14.96</td>\n",
       "    </tr>\n",
       "    <tr>\n",
       "      <th>KBA05_ANTG1</th>\n",
       "      <td>133324</td>\n",
       "      <td>14.96</td>\n",
       "    </tr>\n",
       "    <tr>\n",
       "      <th>KBA05_ANTG2</th>\n",
       "      <td>133324</td>\n",
       "      <td>14.96</td>\n",
       "    </tr>\n",
       "    <tr>\n",
       "      <th>KBA05_GBZ</th>\n",
       "      <td>133324</td>\n",
       "      <td>14.96</td>\n",
       "    </tr>\n",
       "    <tr>\n",
       "      <th>MOBI_REGIO</th>\n",
       "      <td>133324</td>\n",
       "      <td>14.96</td>\n",
       "    </tr>\n",
       "    <tr>\n",
       "      <th>KBA05_ANTG3</th>\n",
       "      <td>133324</td>\n",
       "      <td>14.96</td>\n",
       "    </tr>\n",
       "    <tr>\n",
       "      <th>KKK</th>\n",
       "      <td>121196</td>\n",
       "      <td>13.60</td>\n",
       "    </tr>\n",
       "    <tr>\n",
       "      <th>REGIOTYP</th>\n",
       "      <td>121196</td>\n",
       "      <td>13.60</td>\n",
       "    </tr>\n",
       "    <tr>\n",
       "      <th>PLZ8_ANTG1</th>\n",
       "      <td>116515</td>\n",
       "      <td>13.07</td>\n",
       "    </tr>\n",
       "    <tr>\n",
       "      <th>PLZ8_ANTG3</th>\n",
       "      <td>116515</td>\n",
       "      <td>13.07</td>\n",
       "    </tr>\n",
       "    <tr>\n",
       "      <th>PLZ8_ANTG4</th>\n",
       "      <td>116515</td>\n",
       "      <td>13.07</td>\n",
       "    </tr>\n",
       "    <tr>\n",
       "      <th>PLZ8_BAUMAX</th>\n",
       "      <td>116515</td>\n",
       "      <td>13.07</td>\n",
       "    </tr>\n",
       "    <tr>\n",
       "      <th>PLZ8_HHZ</th>\n",
       "      <td>116515</td>\n",
       "      <td>13.07</td>\n",
       "    </tr>\n",
       "    <tr>\n",
       "      <th>PLZ8_GBZ</th>\n",
       "      <td>116515</td>\n",
       "      <td>13.07</td>\n",
       "    </tr>\n",
       "    <tr>\n",
       "      <th>PLZ8_ANTG2</th>\n",
       "      <td>116515</td>\n",
       "      <td>13.07</td>\n",
       "    </tr>\n",
       "    <tr>\n",
       "      <th>W_KEIT_KIND_HH</th>\n",
       "      <td>107602</td>\n",
       "      <td>12.07</td>\n",
       "    </tr>\n",
       "    <tr>\n",
       "      <th>KBA13_ANZAHL_PKW</th>\n",
       "      <td>105800</td>\n",
       "      <td>11.87</td>\n",
       "    </tr>\n",
       "    <tr>\n",
       "      <th>CAMEO_DEU_2015</th>\n",
       "      <td>99352</td>\n",
       "      <td>11.15</td>\n",
       "    </tr>\n",
       "  </tbody>\n",
       "</table>\n",
       "</div>"
      ],
      "text/plain": [
       "                   count  percent\n",
       "KK_KUNDENTYP      584612    65.60\n",
       "KBA05_BAUMAX      133324    14.96\n",
       "KBA05_ANTG4       133324    14.96\n",
       "KBA05_ANTG1       133324    14.96\n",
       "KBA05_ANTG2       133324    14.96\n",
       "KBA05_GBZ         133324    14.96\n",
       "MOBI_REGIO        133324    14.96\n",
       "KBA05_ANTG3       133324    14.96\n",
       "KKK               121196    13.60\n",
       "REGIOTYP          121196    13.60\n",
       "PLZ8_ANTG1        116515    13.07\n",
       "PLZ8_ANTG3        116515    13.07\n",
       "PLZ8_ANTG4        116515    13.07\n",
       "PLZ8_BAUMAX       116515    13.07\n",
       "PLZ8_HHZ          116515    13.07\n",
       "PLZ8_GBZ          116515    13.07\n",
       "PLZ8_ANTG2        116515    13.07\n",
       "W_KEIT_KIND_HH    107602    12.07\n",
       "KBA13_ANZAHL_PKW  105800    11.87\n",
       "CAMEO_DEU_2015     99352    11.15"
      ]
     },
     "execution_count": 6,
     "metadata": {},
     "output_type": "execute_result"
    }
   ],
   "source": [
    "# Eval the % of missing data in each column\n",
    "\n",
    "# Step 1.1.2: Assess Missing Data in Each Column\n",
    "# Calculate the percentage of missing values for each column and Sort\n",
    "mis_perc_cols = (azdias.isnull().mean() * 100).sort_values(ascending=False)\n",
    "null_data = azdias.isnull().sum()[azdias.isnull().sum() != 0]\n",
    "\n",
    "data_dict = {'count': null_data.values, 'percent': np.round(null_data.values *100/azdias.shape[0],2)}\n",
    "\n",
    "azdias_nans = pd.DataFrame(data=data_dict, index=null_data.index)\n",
    "azdias_nans.sort_values(by='count', ascending=False, inplace=True)\n",
    "azdias_nans.head(n=20)\n"
   ]
  },
  {
   "cell_type": "code",
   "execution_count": 7,
   "metadata": {
    "scrolled": false
   },
   "outputs": [
    {
     "data": {
      "image/png": "[encoded data removed]",
      "text/plain": [
       "<Figure size 640x480 with 1 Axes>"
      ]
     },
     "metadata": {},
     "output_type": "display_data"
    },
    {
     "name": "stdout",
     "output_type": "stream",
     "text": [
      "Outlier Columns with 13-15% missing values:\n",
      "['KBA05_GBZ', 'KBA05_ANTG1', 'KBA05_ANTG3', 'MOBI_REGIO', 'KBA05_ANTG2', 'KBA05_ANTG4', 'KBA05_BAUMAX', 'REGIOTYP', 'KKK', 'PLZ8_HHZ', 'PLZ8_BAUMAX', 'PLZ8_ANTG4', 'PLZ8_GBZ', 'PLZ8_ANTG2', 'PLZ8_ANTG1', 'PLZ8_ANTG3']\n"
     ]
    }
   ],
   "source": [
    "# Investigate visual patterns; plot the distribution of missing value counts per col\n",
    "plt.hist(mis_perc_cols, bins=20)\n",
    "plt.xlabel(\"% of Missing Values\")\n",
    "plt.ylabel(\"No. of Columns\")\n",
    "plt.title(\"Distribution of Missing Values in azdias Columns\")\n",
    "plt.show()\n",
    "\n",
    "# Binning: Identify the outlier columns with a higher percentage of missing values (e.g., 13% < miss < 15%)\n",
    "# out_col = mis_perc_cols[mis_perc_cols > 5].index.tolist()\n",
    "out_col = mis_perc_cols[(mis_perc_cols > 13) & (mis_perc_cols < 15)].index.tolist()\n",
    "print(\"Outlier Columns with 13-15% missing values:\")\n",
    "print(out_col)\n"
   ]
  },
  {
   "cell_type": "markdown",
   "metadata": {},
   "source": []
  },
  {
   "cell_type": "markdown",
   "metadata": {},
   "source": [
    "### The trimodal distrib in the above histogram reveals a single true outlier >65% miss at the far enf of the tail: \n",
    "KK_KUNDENTYP => Consumer pattern over past 12 months (1: regular customer, 6: passive customer). "
   ]
  },
  {
   "cell_type": "code",
   "execution_count": 8,
   "metadata": {},
   "outputs": [
    {
     "name": "stdout",
     "output_type": "stream",
     "text": [
      "\n",
      "Remove outlier columns with >65% missing values: ['KK_KUNDENTYP']\n"
     ]
    }
   ],
   "source": [
    "# Remove the outlier columns from the dataset. (You'll perform other data\n",
    "# engineering tasks such as re-encoding and imputation later.)\n",
    "# Remove the outlier columns from the dataset.\n",
    "out_col = mis_perc_cols[mis_perc_cols > 65].index.tolist()\n",
    "print(f\"\\nRemoved outlier columns with >65% missing values:\", out_col)\n",
    "# reuse the raw df for azdias_col_clean \n",
    "azdias_raw = azdias.drop(columns=out_col)"
   ]
  },
  {
   "cell_type": "markdown",
   "metadata": {},
   "source": [
    "#### Discussion 1.1.2: Assess Missing Data in Each Column\n",
    "- The histogram shows a tri-modal distribution of missing value percentages for each column. Most columns have a relatively low percentage of missing values, while only the column KK_KUNDENTYP has more than 65% missing values, making it an outlier and top removal candidate. Against removal: Could potentially be key wrt. consumer behavior, except (i) it lacks 2/3 of the data; (ii) shopping behavior is also captured by, e.g., SHOPPER_TYP. \n",
    "- Final decision: KK_KUNDENTYP is dropped.\n",
    "\n",
    "- The central mode reveals ~40 cols with 8% < misses < 15%, affected by 2 notable correlation patterns:\n",
    "- 1) 13.07% => 'PLZ8_HHZ', 'PLZ8_BAUMAX', 'PLZ8_ANTG4', 'PLZ8_GBZ', 'PLZ8_ANTG2', 'PLZ8_ANTG1', 'PLZ8_ANTG3'\n",
    "- 2) 14.96% => 'KBA05_GBZ', 'KBA05_ANTG1', 'KBA05_ANTG3', 'MOBI_REGIO', 'KBA05_ANTG2', 'KBA05_ANTG4', 'KBA05_BAUMAX'\n",
    "\n",
    "PLZ8_ANTGx are macro cell features with the same 13.07% misses, ie., affecting the same people/rows across the dataset. Ditto for the 14.96% cols. However, the data dictionary indicates potentially relevant data for clustering, hence no drop. \n",
    "\n",
    "Net: The column KK_KUNDENTYP was removed from the dataset due to its high percentage of missing values. All other columns are retained for further data engineering tasks, such as re-encoding and imputation, to handle the remaining missing data and prepare the data for clustering."
   ]
  },
  {
   "cell_type": "markdown",
   "metadata": {},
   "source": [
    "#### Step 1.1.3: Assess Missing Data in Each Row\n",
    "\n",
    "Now, you'll perform a similar assessment for the rows of the dataset. How much data is missing in each row? As with the columns, you should see some groups of points that have a very different numbers of missing values. Divide the data into two subsets: one for data points that are above some threshold for missing values, and a second subset for points below that threshold.\n",
    "\n",
    "In order to know what to do with the outlier rows, we should see if the distribution of data values on columns that are not missing data (or are missing very little data) are similar or different between the two groups. Select at least five of these columns and compare the distribution of values.\n",
    "- You can use seaborn's [`countplot()`](https://seaborn.pydata.org/generated/seaborn.countplot.html) function to create a bar chart of code frequencies and matplotlib's [`subplot()`](https://matplotlib.org/api/_as_gen/matplotlib.pyplot.subplot.html) function to put bar charts for the two subplots side by side.\n",
    "- To reduce repeated code, you might want to write a function that can perform this comparison, taking as one of its arguments a column to be compared.\n",
    "\n",
    "Depending on what you observe in your comparison, this will have implications on how you approach your conclusions later in the analysis. If the distributions of non-missing features look similar between the data with many missing values and the data with few or no missing values, then we could argue that simply dropping those points from the analysis won't present a major issue. On the other hand, if the data with many missing values looks very different from the data with few or no missing values, then we should make a note on those data as special. We'll revisit these data later on. **Either way, you should continue your analysis for now using just the subset of the data with few or no missing values.**"
   ]
  },
  {
   "cell_type": "code",
   "execution_count": 10,
   "metadata": {},
   "outputs": [
    {
     "name": "stdout",
     "output_type": "stream",
     "text": [
      " 697612 rows (78.28%) w/o missing data\n",
      " 193609 rows (21.72%) with missing data\n"
     ]
    },
    {
     "data": {
      "image/png": "[encoded data removed]",
      "text/plain": [
       "<Figure size 640x480 with 1 Axes>"
      ]
     },
     "metadata": {},
     "output_type": "display_data"
    }
   ],
   "source": [
    "# How much data is missing in each row of the dataset?\n",
    "\n",
    "# Step 1.1.3: Assess Missing Data in Each Row\n",
    "# Count NaNs by row\n",
    "r_NaNs_all = azdias_raw.isnull().sum(axis=1)\n",
    "r_NaNs = azdias_raw.isnull().sum(axis=1)[azdias_raw.isnull().sum(axis=1) > 0]\n",
    "\n",
    "#  % of rows with missing data; high to low\n",
    "r_NaN_pct_all = r_NaNs_all/(azdias_raw.shape[1])\n",
    "r_NaN_pct = r_NaNs/(azdias_raw.shape[1])\n",
    "r_NaN_pct.sort_values(ascending=False,inplace=True)\n",
    "\n",
    "# How many rows have missing data?\n",
    "print(\" {} rows ({:0.2f}%) w/o missing data\".format(azdias_raw.shape[0]-r_NaNs.count(),(azdias_raw.shape[0]-r_NaNs.count())/azdias_raw.shape[0]*100))\n",
    "print(\" {} rows ({:0.2f}%) with missing data\".format(r_NaNs.count(),r_NaNs.count()/azdias_raw.shape[0]*100))\n",
    "\n",
    "# Histo plot the missing row data\n",
    "plt.hist(r_NaN_pct, bins=30)\n",
    "plt.xlabel('Row NaN Fraction (% /100)')\n",
    "plt.ylabel('Counts')\n",
    "plt.title('Histogram of % Missing Row Data ')\n",
    "plt.show()"
   ]
  },
  {
   "cell_type": "markdown",
   "metadata": {},
   "source": [
    "### The histogram suggests a threshold Th=30% for Low vs. High miss per row cut-off."
   ]
  },
  {
   "cell_type": "code",
   "execution_count": 11,
   "metadata": {},
   "outputs": [
    {
     "name": "stdout",
     "output_type": "stream",
     "text": [
      " 93218 rows in hi_NaN_r\n",
      "798003 rows in lo_NaN_r: \n",
      "\n"
     ]
    }
   ],
   "source": [
    "# Write code to divide the data into two subsets based on the number of missing\n",
    "# values in each row.\n",
    "\n",
    "# Set the Th = 30% as r_cut_off\n",
    "r_cut_off=0.30\n",
    "\n",
    "# New column for % of missing data / row\n",
    "azdias_raw = azdias_raw.assign(NAN_PCT=pd.Series(r_NaN_pct_all.values))\n",
    "\n",
    "# Split data into 2 subsets 'hi_NaN_r' and 'lo_NaN_r' based on my cut-off thshld\n",
    "hi_NaN_r = azdias_raw[azdias_raw['NAN_PCT'] >= r_cut_off].copy()\n",
    "lo_NaN_r = azdias_raw[azdias_raw['NAN_PCT'] < r_cut_off].copy()\n",
    "\n",
    "print(' {} rows in hi_NaN_r'.format(hi_NaN_r.shape[0]))\n",
    "print('{} rows in lo_NaN_r: \\n'.format(lo_NaN_r.shape[0]))"
   ]
  },
  {
   "cell_type": "markdown",
   "metadata": {},
   "source": [
    "## Verify: Null hypothesis => Are the Hi and Lo (row Nans) distributions drawn from the same source ?"
   ]
  },
  {
   "cell_type": "code",
   "execution_count": 15,
   "metadata": {},
   "outputs": [
    {
     "name": "stdout",
     "output_type": "stream",
     "text": [
      "['SEMIO_TRADV', 'PRAEGENDE_JUGENDJAHRE', 'FINANZ_UNAUFFAELLIGER', 'SEMIO_LUST', 'SEMIO_MAT']\n"
     ]
    },
    {
     "data": {
      "image/png": "[encoded data removed]",
      "text/plain": [
       "<Figure size 1500x200 with 2 Axes>"
      ]
     },
     "metadata": {},
     "output_type": "display_data"
    },
    {
     "data": {
      "image/png": "[encoded data removed]",
      "text/plain": [
       "<Figure size 1500x200 with 2 Axes>"
      ]
     },
     "metadata": {},
     "output_type": "display_data"
    },
    {
     "data": {
      "image/png": "[encoded data removed]",
      "text/plain": [
       "<Figure size 1500x200 with 2 Axes>"
      ]
     },
     "metadata": {},
     "output_type": "display_data"
    },
    {
     "data": {
      "image/png": "[encoded data removed]",
      "text/plain": [
       "<Figure size 1500x200 with 2 Axes>"
      ]
     },
     "metadata": {},
     "output_type": "display_data"
    },
    {
     "data": {
      "image/png": "[encoded data removed]",
      "text/plain": [
       "<Figure size 1500x200 with 2 Axes>"
      ]
     },
     "metadata": {},
     "output_type": "display_data"
    }
   ],
   "source": [
    "def compare_dist_countplot(df1, df2, col_name):\n",
    "    \"\"\"\n",
    "    Compare per col. val distribs between 2 subsets\n",
    "\n",
    "    Parameters:\n",
    "        df1 (DataFrame): 1st DataFrame subset.\n",
    "        df2 (DataFrame): 2nd DataFrame subset.\n",
    "        col_name (str): Name of the column to compare.\n",
    "\n",
    "    Returns:\n",
    "        None. Displays count plots of the column's distribution.\n",
    "    \"\"\"\n",
    "    fig, axes = plt.subplots(1, 2, figsize=(15, 2))\n",
    "    \n",
    "    sns.countplot(data=df1, x=col_name, ax=axes[0])\n",
    "    axes[0].set_title('High NaN row set')\n",
    "    \n",
    "    sns.countplot(data=df2, x=col_name, ax=axes[1])\n",
    "    axes[1].set_title('Low NaN row set')\n",
    "    \n",
    "    fig.suptitle(col_name)\n",
    "    plt.show()\n",
    "\n",
    "# Randomly select K cols w/o missing values\n",
    "np.random.seed(42)\n",
    "k_cols = np.random.choice(azdias_raw.dropna(axis=1).columns, 5).tolist()\n",
    "print(k_cols)\n",
    "\n",
    "# Loop for each column in the list to compare distributions\n",
    "for col in k_cols:\n",
    "    compare_dist_countplot(hi_NaN_r, lo_NaN_r, col)\n"
   ]
  },
  {
   "cell_type": "markdown",
   "metadata": {},
   "source": [
    "### Use Kolmogorov-Smirnov test to validate the visual histo => Two different distribs, proceed w/ care..."
   ]
  },
  {
   "cell_type": "code",
   "execution_count": 19,
   "metadata": {},
   "outputs": [
    {
     "name": "stdout",
     "output_type": "stream",
     "text": [
      "KST for SEMIO_TRADV on Hi/Lo subsets=> KstestResult(statistic=0.42107248255102075, pvalue=0.0, statistic_location=3, statistic_sign=1)\n",
      "KST for PRAEGENDE_JUGENDJAHRE on Hi/Lo subsets=> KstestResult(statistic=0.8158416555750558, pvalue=0.0, statistic_location=0, statistic_sign=1)\n",
      "KST for FINANZ_UNAUFFAELLIGER on Hi/Lo subsets=> KstestResult(statistic=0.7187827144124928, pvalue=0.0, statistic_location=4, statistic_sign=-1)\n",
      "KST for SEMIO_LUST on Hi/Lo subsets=> KstestResult(statistic=0.3970636701867035, pvalue=0.0, statistic_location=5, statistic_sign=1)\n",
      "KST for SEMIO_MAT on Hi/Lo subsets=> KstestResult(statistic=0.5511829649145812, pvalue=0.0, statistic_location=4, statistic_sign=-1)\n"
     ]
    }
   ],
   "source": [
    "from scipy import stats\n",
    "\n",
    "# double check the visual histo via a brief Kolmogorov-Smirnov test\n",
    "for col in k_cols:\n",
    "   print('KST for {} on Hi/Lo subsets=> {}'.format(col,stats.ks_2samp(hi_NaN_r[col],lo_NaN_r[col])))"
   ]
  },
  {
   "cell_type": "markdown",
   "metadata": {},
   "source": [
    "### Notice pvalue=0.0 => Different distribs => Dropping incurs high bias risk!"
   ]
  },
  {
   "cell_type": "code",
   "execution_count": 20,
   "metadata": {},
   "outputs": [
    {
     "name": "stdout",
     "output_type": "stream",
     "text": [
      " 93218 rows (10.46%) have NaNs > 30% of the\n",
      "891221 initial rows, i.e., before dropping the Hi outliers.\n",
      "798003 rows are left after dropping the Hi set. \n",
      "\n",
      "Cleaned dataset SHAPE: 798003 rows w/ 85 columns. \n"
     ]
    }
   ],
   "source": [
    "# How many rows are above the Th of missing values?\n",
    "print(\" {} rows ({:0.2f}%) have NaNs > {:0.0f}% of the\".format(hi_NaN_r.shape[0],hi_NaN_r.shape[0]/azdias_raw.shape[0]*100,r_cut_off*100))\n",
    "print('{} initial rows, i.e., before dropping the Hi outliers.'.format(azdias_raw.shape[0]))\n",
    "\n",
    "# Drop and save as our new df\n",
    "azdias_clean=azdias_raw[azdias_raw['NAN_PCT'] < r_cut_off].copy()\n",
    "\n",
    "# Total no. rows left in our new dataset\n",
    "print('{} rows are left after dropping the Hi set.'.format(azdias_clean.shape[0]),'\\n')\n",
    "\n",
    "print(\"Cleaned dataset SHAPE: {} rows w/ {} columns. \".format(azdias_clean.shape[0],azdias_clean.shape[1]))"
   ]
  },
  {
   "cell_type": "markdown",
   "metadata": {},
   "source": [
    "#### Discussion 1.1.3: Assess Missing Data in Each Row\n",
    "\n",
    "The null hypothesis that the Hi and Lo (row Nans) distributions are drawn from the same source is rejected! \n",
    "- As confirmed also by the Kolmogorov-Smirnov Test (the extended version was not included here for brevity) with p-values are extremely low (<0.0001), the above 2 sets draw from dissimilar distribs => too vastly different to drop w/o introducing a potentially massive statistical bias. Hence despite the temptation to sanitize by dropping rows from the High miss subset, this 10.45% data loss could incurr the danger of distortioning the true distrib.\n",
    "\n",
    "However,  given the nearly 1M rows,  the <10.5% data loss could be quantitatively tolerated iff dropping the rows with >1/3 missing columns doesn't skew/bias the results above a statistically accepted margin.\n",
    "- Net: Being aware of the perils involved, hereby we shall break the rules and choose to drop the Hi set."
   ]
  },
  {
   "cell_type": "markdown",
   "metadata": {},
   "source": [
    "### Step 1.2: Select and Re-Encode Features\n",
    "\n",
    "Checking for missing data isn't the only way in which you can prepare a dataset for analysis. Since the unsupervised learning techniques to be used will only work on data that is encoded numerically, you need to make a few encoding changes or additional assumptions to be able to make progress. In addition, while almost all of the values in the dataset are encoded using numbers, not all of them represent numeric values. Check the third column of the feature summary (`feat_info`) for a summary of types of measurement.\n",
    "- For numeric and interval data, these features can be kept without changes.\n",
    "- Most of the variables in the dataset are ordinal in nature. While ordinal values may technically be non-linear in spacing, make the simplifying assumption that the ordinal variables can be treated as being interval in nature (that is, kept without any changes).\n",
    "- Special handling may be necessary for the remaining two variable types: categorical, and 'mixed'.\n",
    "\n",
    "In the first two parts of this sub-step, you will perform an investigation of the categorical and mixed-type features and make a decision on each of them, whether you will keep, drop, or re-encode each. Then, in the last part, you will create a new data frame with only the selected and engineered columns.\n",
    "\n",
    "Data wrangling is often the trickiest part of the data analysis process, and there's a lot of it to be done here. But stick with it: once you're done with this step, you'll be ready to get to the machine learning parts of the project!"
   ]
  },
  {
   "cell_type": "code",
   "execution_count": 21,
   "metadata": {},
   "outputs": [
    {
     "name": "stdout",
     "output_type": "stream",
     "text": [
      "Original feat_info\n",
      " type\n",
      "ordinal        49\n",
      "categorical    21\n",
      "numeric         7\n",
      "mixed           7\n",
      "interval        1\n",
      "Name: count, dtype: int64 \n",
      "\n",
      "Outlier Columns:  ['KK_KUNDENTYP'] \n",
      "\n"
     ]
    }
   ],
   "source": [
    "# How many features are there of each data type?\n",
    "# Remove the outlier columns also from feat_info\n",
    "\n",
    "print(\"Original feat_info\\n\",feat_info.type.value_counts(),'\\n')\n",
    "print(\"Outlier Columns: \", out_col,'\\n')\n",
    "\n",
    "#Drop the outliers (KK_kundentyp)\n",
    "# feat_info = feat_info[~feat_info.attribute.isin(out_col)]\n",
    "# print(\"feat_info w/o outlier columns\\n\",feat_info.type.value_counts())\n",
    "\n",
    "feat_info = feat_info.set_index('attribute').drop(out_col).reset_index()"
   ]
  },
  {
   "cell_type": "markdown",
   "metadata": {},
   "source": [
    "#### Step 1.2.1: Re-Encode Categorical Features\n",
    "\n",
    "For categorical data, you would ordinarily need to encode the levels as dummy variables. Depending on the number of categories, perform one of the following:\n",
    "- For binary (two-level) categoricals that take numeric values, you can keep them without needing to do anything.\n",
    "- There is one binary variable that takes on non-numeric values. For this one, you need to re-encode the values as numbers or create a dummy variable.\n",
    "- For multi-level categoricals (three or more values), you can choose to encode the values using multiple dummy variables (e.g. via [OneHotEncoder](http://scikit-learn.org/stable/modules/generated/sklearn.preprocessing.OneHotEncoder.html)), or (to keep things straightforward) just drop them from the analysis. As always, document your choices in the Discussion section."
   ]
  },
  {
   "cell_type": "code",
   "execution_count": 22,
   "metadata": {},
   "outputs": [],
   "source": [
    "# Assess categorical variables: which are binary, which are multi-level, and\n",
    "# which one needs to be re-encoded?\n",
    "\n",
    "# new dictionary: keys = 4 data types above;  Vals = corresponding DF columns\n",
    "df_dtype = {}\n",
    "dtypes = ['ordinal','categorical','numeric','mixed']\n",
    "for d in dtypes:\n",
    "    df_dtype[d]=feat_info[feat_info['type']==d]['attribute']"
   ]
  },
  {
   "cell_type": "markdown",
   "metadata": {},
   "source": [
    "### Handling the special types\n",
    "Categoricals\n",
    "- Ordinal Categoricals: Convert into numeric ordinals iff necessary and keep the same for simplicity\n",
    "- Multi-Level Categoricals: One-Hot Encode\n",
    "- Binary Categoricals: Convert into binary\n",
    "\n",
    "Numeric: no change\n",
    "\n",
    "Mixed: Analyse"
   ]
  },
  {
   "cell_type": "code",
   "execution_count": 23,
   "metadata": {},
   "outputs": [],
   "source": [
    "# Re-encode categorical variable(s) to be kept in the analysis.\n",
    "\n",
    "def check_unique_vals(df):\n",
    "    \"\"\"\n",
    "    Print unique values for each column in the DataFrame.\n",
    "\n",
    "    Parameters:\n",
    "        df (DataFrame): The DataFrame to check for unique values.\n",
    "\n",
    "    Returns:\n",
    "        None. Prints unique values for each column.\n",
    "    \"\"\"\n",
    "    for col in df.columns:\n",
    "        values = list(df[col].unique())\n",
    "        print(f'{col}: {values}')\n"
   ]
  },
  {
   "cell_type": "code",
   "execution_count": 24,
   "metadata": {},
   "outputs": [
    {
     "name": "stdout",
     "output_type": "stream",
     "text": [
      "ALTERSKATEGORIE_GROB: [1, 3, 4, 2, 9]\n",
      "FINANZ_MINIMALIST: [1, 4, 3, 2, 5]\n",
      "FINANZ_SPARER: [5, 4, 2, 3, 1]\n",
      "FINANZ_VORSORGER: [2, 1, 5, 4, 3]\n",
      "FINANZ_ANLEGER: [5, 2, 1, 4, 3]\n",
      "FINANZ_UNAUFFAELLIGER: [4, 3, 1, 2, 5]\n",
      "FINANZ_HAUSBAUER: [5, 2, 3, 4, 1]\n",
      "HEALTH_TYP: [3, 2, 1, -1]\n",
      "RETOURTYP_BK_S: [1.0, 3.0, 2.0, 5.0, 4.0, nan]\n",
      "SEMIO_SOZ: [5, 4, 6, 2, 7, 3, 1]\n",
      "SEMIO_FAM: [4, 1, 5, 7, 2, 6, 3]\n",
      "SEMIO_REL: [4, 3, 2, 7, 5, 1, 6]\n",
      "SEMIO_MAT: [3, 1, 2, 4, 7, 5, 6]\n",
      "SEMIO_VERT: [1, 4, 7, 2, 6, 5, 3]\n",
      "SEMIO_LUST: [2, 4, 6, 7, 3, 1, 5]\n",
      "SEMIO_ERL: [2, 6, 7, 4, 5, 1, 3]\n",
      "SEMIO_KULT: [3, 4, 6, 5, 7, 1, 2]\n",
      "SEMIO_RAT: [6, 4, 3, 2, 7, 5, 1]\n",
      "SEMIO_KRIT: [4, 7, 3, 1, 5, 6, 2]\n",
      "SEMIO_DOM: [7, 4, 2, 1, 5, 6, 3]\n",
      "SEMIO_KAEM: [4, 7, 5, 2, 3, 6, 1]\n",
      "SEMIO_PFLICHT: [7, 3, 4, 5, 1, 6, 2]\n",
      "SEMIO_TRADV: [6, 3, 4, 2, 7, 5, 1]\n",
      "HH_EINKOMMEN_SCORE: [6.0, 4.0, 1.0, 5.0, 3.0, 2.0]\n",
      "W_KEIT_KIND_HH: [3.0, nan, 2.0, 6.0, 5.0, 4.0, 0.0, 1.0]\n",
      "WOHNDAUER_2008: [9.0, 8.0, 3.0, 4.0, 5.0, 6.0, 2.0, 7.0, 1.0]\n",
      "KONSUMNAEHE: [1.0, 5.0, 4.0, 3.0, 2.0, 6.0, 7.0, nan]\n",
      "KBA05_ANTG1: [0.0, 1.0, 4.0, 2.0, 3.0, nan]\n",
      "KBA05_ANTG2: [0.0, 3.0, 1.0, 4.0, 2.0, nan]\n",
      "KBA05_ANTG3: [0.0, 1.0, nan, 2.0, 3.0]\n",
      "KBA05_ANTG4: [2.0, 0.0, nan, 1.0]\n",
      "KBA05_GBZ: [1.0, 3.0, 4.0, 5.0, 2.0, nan]\n",
      "BALLRAUM: [6.0, 2.0, 4.0, 3.0, 7.0, 1.0, 5.0, nan]\n",
      "EWDICHTE: [3.0, 4.0, 2.0, 5.0, 6.0, 1.0, nan]\n",
      "INNENSTADT: [8.0, 4.0, 6.0, 1.0, 7.0, 3.0, 2.0, 5.0, nan]\n",
      "GEBAEUDETYP_RASTER: [3.0, 4.0, 5.0, 1.0, 2.0, nan]\n",
      "KKK: [2.0, 0.0, 3.0, 4.0, 1.0, nan]\n",
      "MOBI_REGIO: [1.0, 3.0, 4.0, 5.0, nan, 2.0, 6.0]\n",
      "ONLINE_AFFINITAET: [3.0, 2.0, 1.0, 5.0, 4.0, 0.0, nan]\n",
      "REGIOTYP: [3.0, 2.0, 0.0, 5.0, 1.0, 7.0, nan, 6.0, 4.0]\n",
      "PLZ8_ANTG1: [2.0, 3.0, nan, 1.0, 4.0, 0.0]\n",
      "PLZ8_ANTG2: [3.0, 2.0, 4.0, 1.0, nan, 0.0]\n",
      "PLZ8_ANTG3: [2.0, 1.0, nan, 3.0, 0.0]\n",
      "PLZ8_ANTG4: [1.0, 0.0, nan, 2.0]\n",
      "PLZ8_HHZ: [5.0, 4.0, 3.0, nan, 2.0, 1.0]\n",
      "PLZ8_GBZ: [4.0, 3.0, 5.0, nan, 2.0, 1.0]\n",
      "ARBEIT: [3.0, 2.0, 4.0, 1.0, 5.0, nan, 9.0]\n",
      "ORTSGR_KLS9: [5.0, 3.0, 6.0, 4.0, 8.0, 2.0, 7.0, 9.0, 1.0, nan, 0.0]\n",
      "RELAT_AB: [4.0, 2.0, 3.0, 5.0, 1.0, nan, 9.0]\n"
     ]
    }
   ],
   "source": [
    "# Ordinals: check if numeric, w/o strings to handle\n",
    "check_unique_vals(azdias_clean[df_dtype['ordinal']])"
   ]
  },
  {
   "cell_type": "markdown",
   "metadata": {},
   "source": [
    "## Categoricals: Binary and Multi_level"
   ]
  },
  {
   "cell_type": "code",
   "execution_count": 25,
   "metadata": {},
   "outputs": [
    {
     "name": "stdout",
     "output_type": "stream",
     "text": [
      "AGER_TYP: 5\n",
      "ANREDE_KZ: 2\n",
      "CJT_GESAMTTYP: 6\n",
      "FINANZTYP: 6\n",
      "GFK_URLAUBERTYP: 12\n",
      "GREEN_AVANTGARDE: 2\n",
      "LP_FAMILIE_FEIN: 12\n",
      "LP_FAMILIE_GROB: 6\n",
      "LP_STATUS_FEIN: 10\n",
      "LP_STATUS_GROB: 5\n",
      "NATIONALITAET_KZ: 4\n",
      "SHOPPER_TYP: 5\n",
      "SOHO_KZ: 2\n",
      "TITEL_KZ: 6\n",
      "VERS_TYP: 3\n",
      "ZABEOTYP: 6\n",
      "GEBAEUDETYP: 7\n",
      "OST_WEST_KZ: 2\n",
      "CAMEO_DEUG_2015: 9\n",
      "CAMEO_DEU_2015: 44\n"
     ]
    },
    {
     "data": {
      "text/html": [
       "<div>\n",
       "<style scoped>\n",
       "    .dataframe tbody tr th:only-of-type {\n",
       "        vertical-align: middle;\n",
       "    }\n",
       "\n",
       "    .dataframe tbody tr th {\n",
       "        vertical-align: top;\n",
       "    }\n",
       "\n",
       "    .dataframe thead th {\n",
       "        text-align: right;\n",
       "    }\n",
       "</style>\n",
       "<table border=\"1\" class=\"dataframe\">\n",
       "  <thead>\n",
       "    <tr style=\"text-align: right;\">\n",
       "      <th></th>\n",
       "      <th>ANREDE_KZ</th>\n",
       "      <th>GREEN_AVANTGARDE</th>\n",
       "      <th>SOHO_KZ</th>\n",
       "      <th>OST_WEST_KZ</th>\n",
       "    </tr>\n",
       "  </thead>\n",
       "  <tbody>\n",
       "    <tr>\n",
       "      <th>1</th>\n",
       "      <td>2</td>\n",
       "      <td>0</td>\n",
       "      <td>1.0</td>\n",
       "      <td>W</td>\n",
       "    </tr>\n",
       "    <tr>\n",
       "      <th>2</th>\n",
       "      <td>2</td>\n",
       "      <td>1</td>\n",
       "      <td>0.0</td>\n",
       "      <td>W</td>\n",
       "    </tr>\n",
       "    <tr>\n",
       "      <th>3</th>\n",
       "      <td>2</td>\n",
       "      <td>0</td>\n",
       "      <td>0.0</td>\n",
       "      <td>W</td>\n",
       "    </tr>\n",
       "    <tr>\n",
       "      <th>4</th>\n",
       "      <td>1</td>\n",
       "      <td>0</td>\n",
       "      <td>0.0</td>\n",
       "      <td>W</td>\n",
       "    </tr>\n",
       "    <tr>\n",
       "      <th>5</th>\n",
       "      <td>2</td>\n",
       "      <td>0</td>\n",
       "      <td>0.0</td>\n",
       "      <td>W</td>\n",
       "    </tr>\n",
       "  </tbody>\n",
       "</table>\n",
       "</div>"
      ],
      "text/plain": [
       "   ANREDE_KZ  GREEN_AVANTGARDE  SOHO_KZ OST_WEST_KZ\n",
       "1          2                 0      1.0           W\n",
       "2          2                 1      0.0           W\n",
       "3          2                 0      0.0           W\n",
       "4          1                 0      0.0           W\n",
       "5          2                 0      0.0           W"
      ]
     },
     "execution_count": 25,
     "metadata": {},
     "output_type": "execute_result"
    }
   ],
   "source": [
    "# Show the binary and multi-level categoricals\n",
    "cat_bin = []; cat_ml = []\n",
    "for col in azdias_clean[df_dtype['categorical']]:\n",
    "    values = azdias_clean[df_dtype['categorical']][col].nunique()\n",
    "    if values == 2:\n",
    "        cat_bin.append(col)\n",
    "    else:\n",
    "        cat_ml.append(col)\n",
    "    print(f'{col}: {values}')\n",
    "    \n",
    "azdias_clean[cat_bin].head()"
   ]
  },
  {
   "cell_type": "markdown",
   "metadata": {},
   "source": [
    "### TODO => \"OST_WEST_KZ\" isn't numerical => handle as ML-cat."
   ]
  },
  {
   "cell_type": "code",
   "execution_count": 28,
   "metadata": {},
   "outputs": [
    {
     "data": {
      "text/plain": [
       "OST_WEST_KZ\n",
       "W    629468\n",
       "O    168535\n",
       "Name: count, dtype: int64"
      ]
     },
     "execution_count": 28,
     "metadata": {},
     "output_type": "execute_result"
    }
   ],
   "source": [
    "# Group it w/ the multi-level categoricals\n",
    "cat_ml.append('OST_WEST_KZ')\n",
    "\n",
    "# counts of East and West values\n",
    "azdias_clean['OST_WEST_KZ'].value_counts()"
   ]
  },
  {
   "cell_type": "code",
   "execution_count": 29,
   "metadata": {},
   "outputs": [
    {
     "data": {
      "text/html": [
       "<div>\n",
       "<style scoped>\n",
       "    .dataframe tbody tr th:only-of-type {\n",
       "        vertical-align: middle;\n",
       "    }\n",
       "\n",
       "    .dataframe tbody tr th {\n",
       "        vertical-align: top;\n",
       "    }\n",
       "\n",
       "    .dataframe thead th {\n",
       "        text-align: right;\n",
       "    }\n",
       "</style>\n",
       "<table border=\"1\" class=\"dataframe\">\n",
       "  <thead>\n",
       "    <tr style=\"text-align: right;\">\n",
       "      <th></th>\n",
       "      <th>AGER_TYP</th>\n",
       "      <th>CJT_GESAMTTYP</th>\n",
       "      <th>FINANZTYP</th>\n",
       "      <th>GFK_URLAUBERTYP</th>\n",
       "      <th>LP_FAMILIE_FEIN</th>\n",
       "      <th>LP_FAMILIE_GROB</th>\n",
       "      <th>LP_STATUS_FEIN</th>\n",
       "      <th>LP_STATUS_GROB</th>\n",
       "      <th>NATIONALITAET_KZ</th>\n",
       "      <th>SHOPPER_TYP</th>\n",
       "      <th>TITEL_KZ</th>\n",
       "      <th>VERS_TYP</th>\n",
       "      <th>ZABEOTYP</th>\n",
       "      <th>GEBAEUDETYP</th>\n",
       "      <th>CAMEO_DEUG_2015</th>\n",
       "      <th>CAMEO_DEU_2015</th>\n",
       "      <th>OST_WEST_KZ</th>\n",
       "      <th>OST_WEST_KZ</th>\n",
       "    </tr>\n",
       "  </thead>\n",
       "  <tbody>\n",
       "    <tr>\n",
       "      <th>1</th>\n",
       "      <td>-1</td>\n",
       "      <td>5.0</td>\n",
       "      <td>1</td>\n",
       "      <td>10.0</td>\n",
       "      <td>5.0</td>\n",
       "      <td>3.0</td>\n",
       "      <td>2.0</td>\n",
       "      <td>1.0</td>\n",
       "      <td>1</td>\n",
       "      <td>3</td>\n",
       "      <td>0.0</td>\n",
       "      <td>2</td>\n",
       "      <td>5</td>\n",
       "      <td>8.0</td>\n",
       "      <td>8</td>\n",
       "      <td>8A</td>\n",
       "      <td>W</td>\n",
       "      <td>W</td>\n",
       "    </tr>\n",
       "    <tr>\n",
       "      <th>2</th>\n",
       "      <td>-1</td>\n",
       "      <td>3.0</td>\n",
       "      <td>1</td>\n",
       "      <td>10.0</td>\n",
       "      <td>1.0</td>\n",
       "      <td>1.0</td>\n",
       "      <td>3.0</td>\n",
       "      <td>2.0</td>\n",
       "      <td>1</td>\n",
       "      <td>2</td>\n",
       "      <td>0.0</td>\n",
       "      <td>1</td>\n",
       "      <td>5</td>\n",
       "      <td>1.0</td>\n",
       "      <td>4</td>\n",
       "      <td>4C</td>\n",
       "      <td>W</td>\n",
       "      <td>W</td>\n",
       "    </tr>\n",
       "    <tr>\n",
       "      <th>3</th>\n",
       "      <td>2</td>\n",
       "      <td>2.0</td>\n",
       "      <td>6</td>\n",
       "      <td>1.0</td>\n",
       "      <td>0.0</td>\n",
       "      <td>0.0</td>\n",
       "      <td>9.0</td>\n",
       "      <td>4.0</td>\n",
       "      <td>1</td>\n",
       "      <td>1</td>\n",
       "      <td>0.0</td>\n",
       "      <td>1</td>\n",
       "      <td>3</td>\n",
       "      <td>1.0</td>\n",
       "      <td>2</td>\n",
       "      <td>2A</td>\n",
       "      <td>W</td>\n",
       "      <td>W</td>\n",
       "    </tr>\n",
       "    <tr>\n",
       "      <th>4</th>\n",
       "      <td>-1</td>\n",
       "      <td>5.0</td>\n",
       "      <td>5</td>\n",
       "      <td>5.0</td>\n",
       "      <td>10.0</td>\n",
       "      <td>5.0</td>\n",
       "      <td>3.0</td>\n",
       "      <td>2.0</td>\n",
       "      <td>1</td>\n",
       "      <td>2</td>\n",
       "      <td>0.0</td>\n",
       "      <td>2</td>\n",
       "      <td>4</td>\n",
       "      <td>1.0</td>\n",
       "      <td>6</td>\n",
       "      <td>6B</td>\n",
       "      <td>W</td>\n",
       "      <td>W</td>\n",
       "    </tr>\n",
       "    <tr>\n",
       "      <th>5</th>\n",
       "      <td>3</td>\n",
       "      <td>2.0</td>\n",
       "      <td>2</td>\n",
       "      <td>1.0</td>\n",
       "      <td>1.0</td>\n",
       "      <td>1.0</td>\n",
       "      <td>4.0</td>\n",
       "      <td>2.0</td>\n",
       "      <td>1</td>\n",
       "      <td>0</td>\n",
       "      <td>0.0</td>\n",
       "      <td>2</td>\n",
       "      <td>4</td>\n",
       "      <td>1.0</td>\n",
       "      <td>8</td>\n",
       "      <td>8C</td>\n",
       "      <td>W</td>\n",
       "      <td>W</td>\n",
       "    </tr>\n",
       "  </tbody>\n",
       "</table>\n",
       "</div>"
      ],
      "text/plain": [
       "   AGER_TYP  CJT_GESAMTTYP  FINANZTYP  GFK_URLAUBERTYP  LP_FAMILIE_FEIN  \\\n",
       "1        -1            5.0          1             10.0              5.0   \n",
       "2        -1            3.0          1             10.0              1.0   \n",
       "3         2            2.0          6              1.0              0.0   \n",
       "4        -1            5.0          5              5.0             10.0   \n",
       "5         3            2.0          2              1.0              1.0   \n",
       "\n",
       "   LP_FAMILIE_GROB  LP_STATUS_FEIN  LP_STATUS_GROB  NATIONALITAET_KZ  \\\n",
       "1              3.0             2.0             1.0                 1   \n",
       "2              1.0             3.0             2.0                 1   \n",
       "3              0.0             9.0             4.0                 1   \n",
       "4              5.0             3.0             2.0                 1   \n",
       "5              1.0             4.0             2.0                 1   \n",
       "\n",
       "   SHOPPER_TYP  TITEL_KZ  VERS_TYP  ZABEOTYP  GEBAEUDETYP CAMEO_DEUG_2015  \\\n",
       "1            3       0.0         2         5          8.0               8   \n",
       "2            2       0.0         1         5          1.0               4   \n",
       "3            1       0.0         1         3          1.0               2   \n",
       "4            2       0.0         2         4          1.0               6   \n",
       "5            0       0.0         2         4          1.0               8   \n",
       "\n",
       "  CAMEO_DEU_2015 OST_WEST_KZ OST_WEST_KZ  \n",
       "1             8A           W           W  \n",
       "2             4C           W           W  \n",
       "3             2A           W           W  \n",
       "4             6B           W           W  \n",
       "5             8C           W           W  "
      ]
     },
     "execution_count": 29,
     "metadata": {},
     "output_type": "execute_result"
    }
   ],
   "source": [
    "# Multi-Level Categoricals => One-Hot Encode later\n",
    "azdias_clean[cat_ml].head()"
   ]
  },
  {
   "cell_type": "code",
   "execution_count": 30,
   "metadata": {},
   "outputs": [
    {
     "data": {
      "text/html": [
       "<div>\n",
       "<style scoped>\n",
       "    .dataframe tbody tr th:only-of-type {\n",
       "        vertical-align: middle;\n",
       "    }\n",
       "\n",
       "    .dataframe tbody tr th {\n",
       "        vertical-align: top;\n",
       "    }\n",
       "\n",
       "    .dataframe thead th {\n",
       "        text-align: right;\n",
       "    }\n",
       "</style>\n",
       "<table border=\"1\" class=\"dataframe\">\n",
       "  <thead>\n",
       "    <tr style=\"text-align: right;\">\n",
       "      <th></th>\n",
       "      <th>GEBURTSJAHR</th>\n",
       "      <th>ANZ_PERSONEN</th>\n",
       "      <th>ANZ_TITEL</th>\n",
       "      <th>ANZ_HAUSHALTE_AKTIV</th>\n",
       "      <th>ANZ_HH_TITEL</th>\n",
       "      <th>MIN_GEBAEUDEJAHR</th>\n",
       "      <th>KBA13_ANZAHL_PKW</th>\n",
       "    </tr>\n",
       "  </thead>\n",
       "  <tbody>\n",
       "    <tr>\n",
       "      <th>count</th>\n",
       "      <td>798003.000000</td>\n",
       "      <td>798003.000000</td>\n",
       "      <td>798003.000000</td>\n",
       "      <td>798003.000000</td>\n",
       "      <td>794143.000000</td>\n",
       "      <td>798003.000000</td>\n",
       "      <td>785385.000000</td>\n",
       "    </tr>\n",
       "    <tr>\n",
       "      <th>mean</th>\n",
       "      <td>1200.742257</td>\n",
       "      <td>1.728841</td>\n",
       "      <td>0.004159</td>\n",
       "      <td>8.287652</td>\n",
       "      <td>0.040648</td>\n",
       "      <td>1993.275616</td>\n",
       "      <td>619.698822</td>\n",
       "    </tr>\n",
       "    <tr>\n",
       "      <th>std</th>\n",
       "      <td>959.365728</td>\n",
       "      <td>1.156555</td>\n",
       "      <td>0.068872</td>\n",
       "      <td>15.628523</td>\n",
       "      <td>0.324039</td>\n",
       "      <td>3.329176</td>\n",
       "      <td>340.035609</td>\n",
       "    </tr>\n",
       "    <tr>\n",
       "      <th>min</th>\n",
       "      <td>0.000000</td>\n",
       "      <td>0.000000</td>\n",
       "      <td>0.000000</td>\n",
       "      <td>0.000000</td>\n",
       "      <td>0.000000</td>\n",
       "      <td>1985.000000</td>\n",
       "      <td>0.000000</td>\n",
       "    </tr>\n",
       "    <tr>\n",
       "      <th>25%</th>\n",
       "      <td>0.000000</td>\n",
       "      <td>1.000000</td>\n",
       "      <td>0.000000</td>\n",
       "      <td>1.000000</td>\n",
       "      <td>0.000000</td>\n",
       "      <td>1992.000000</td>\n",
       "      <td>384.000000</td>\n",
       "    </tr>\n",
       "    <tr>\n",
       "      <th>50%</th>\n",
       "      <td>1950.000000</td>\n",
       "      <td>1.000000</td>\n",
       "      <td>0.000000</td>\n",
       "      <td>4.000000</td>\n",
       "      <td>0.000000</td>\n",
       "      <td>1992.000000</td>\n",
       "      <td>549.000000</td>\n",
       "    </tr>\n",
       "    <tr>\n",
       "      <th>75%</th>\n",
       "      <td>1972.000000</td>\n",
       "      <td>2.000000</td>\n",
       "      <td>0.000000</td>\n",
       "      <td>9.000000</td>\n",
       "      <td>0.000000</td>\n",
       "      <td>1993.000000</td>\n",
       "      <td>778.000000</td>\n",
       "    </tr>\n",
       "    <tr>\n",
       "      <th>max</th>\n",
       "      <td>2017.000000</td>\n",
       "      <td>45.000000</td>\n",
       "      <td>6.000000</td>\n",
       "      <td>595.000000</td>\n",
       "      <td>23.000000</td>\n",
       "      <td>2016.000000</td>\n",
       "      <td>2300.000000</td>\n",
       "    </tr>\n",
       "  </tbody>\n",
       "</table>\n",
       "</div>"
      ],
      "text/plain": [
       "         GEBURTSJAHR   ANZ_PERSONEN      ANZ_TITEL  ANZ_HAUSHALTE_AKTIV  \\\n",
       "count  798003.000000  798003.000000  798003.000000        798003.000000   \n",
       "mean     1200.742257       1.728841       0.004159             8.287652   \n",
       "std       959.365728       1.156555       0.068872            15.628523   \n",
       "min         0.000000       0.000000       0.000000             0.000000   \n",
       "25%         0.000000       1.000000       0.000000             1.000000   \n",
       "50%      1950.000000       1.000000       0.000000             4.000000   \n",
       "75%      1972.000000       2.000000       0.000000             9.000000   \n",
       "max      2017.000000      45.000000       6.000000           595.000000   \n",
       "\n",
       "        ANZ_HH_TITEL  MIN_GEBAEUDEJAHR  KBA13_ANZAHL_PKW  \n",
       "count  794143.000000     798003.000000     785385.000000  \n",
       "mean        0.040648       1993.275616        619.698822  \n",
       "std         0.324039          3.329176        340.035609  \n",
       "min         0.000000       1985.000000          0.000000  \n",
       "25%         0.000000       1992.000000        384.000000  \n",
       "50%         0.000000       1992.000000        549.000000  \n",
       "75%         0.000000       1993.000000        778.000000  \n",
       "max        23.000000       2016.000000       2300.000000  "
      ]
     },
     "execution_count": 30,
     "metadata": {},
     "output_type": "execute_result"
    }
   ],
   "source": [
    "# Check numericals for QC\n",
    "azdias_clean[df_dtype['numeric']].describe()"
   ]
  },
  {
   "cell_type": "code",
   "execution_count": 31,
   "metadata": {},
   "outputs": [
    {
     "data": {
      "text/html": [
       "<div>\n",
       "<style scoped>\n",
       "    .dataframe tbody tr th:only-of-type {\n",
       "        vertical-align: middle;\n",
       "    }\n",
       "\n",
       "    .dataframe tbody tr th {\n",
       "        vertical-align: top;\n",
       "    }\n",
       "\n",
       "    .dataframe thead th {\n",
       "        text-align: right;\n",
       "    }\n",
       "</style>\n",
       "<table border=\"1\" class=\"dataframe\">\n",
       "  <thead>\n",
       "    <tr style=\"text-align: right;\">\n",
       "      <th></th>\n",
       "      <th>LP_LEBENSPHASE_FEIN</th>\n",
       "      <th>LP_LEBENSPHASE_GROB</th>\n",
       "      <th>PRAEGENDE_JUGENDJAHRE</th>\n",
       "      <th>WOHNLAGE</th>\n",
       "      <th>CAMEO_INTL_2015</th>\n",
       "      <th>KBA05_BAUMAX</th>\n",
       "      <th>PLZ8_BAUMAX</th>\n",
       "    </tr>\n",
       "  </thead>\n",
       "  <tbody>\n",
       "    <tr>\n",
       "      <th>1</th>\n",
       "      <td>21.0</td>\n",
       "      <td>6.0</td>\n",
       "      <td>14</td>\n",
       "      <td>4.0</td>\n",
       "      <td>51</td>\n",
       "      <td>5.0</td>\n",
       "      <td>1.0</td>\n",
       "    </tr>\n",
       "    <tr>\n",
       "      <th>2</th>\n",
       "      <td>3.0</td>\n",
       "      <td>1.0</td>\n",
       "      <td>15</td>\n",
       "      <td>2.0</td>\n",
       "      <td>24</td>\n",
       "      <td>0.0</td>\n",
       "      <td>1.0</td>\n",
       "    </tr>\n",
       "    <tr>\n",
       "      <th>3</th>\n",
       "      <td>0.0</td>\n",
       "      <td>0.0</td>\n",
       "      <td>8</td>\n",
       "      <td>7.0</td>\n",
       "      <td>12</td>\n",
       "      <td>1.0</td>\n",
       "      <td>1.0</td>\n",
       "    </tr>\n",
       "    <tr>\n",
       "      <th>4</th>\n",
       "      <td>32.0</td>\n",
       "      <td>10.0</td>\n",
       "      <td>8</td>\n",
       "      <td>3.0</td>\n",
       "      <td>43</td>\n",
       "      <td>0.0</td>\n",
       "      <td>2.0</td>\n",
       "    </tr>\n",
       "    <tr>\n",
       "      <th>5</th>\n",
       "      <td>8.0</td>\n",
       "      <td>2.0</td>\n",
       "      <td>3</td>\n",
       "      <td>7.0</td>\n",
       "      <td>54</td>\n",
       "      <td>0.0</td>\n",
       "      <td>1.0</td>\n",
       "    </tr>\n",
       "  </tbody>\n",
       "</table>\n",
       "</div>"
      ],
      "text/plain": [
       "   LP_LEBENSPHASE_FEIN  LP_LEBENSPHASE_GROB  PRAEGENDE_JUGENDJAHRE  WOHNLAGE  \\\n",
       "1                 21.0                  6.0                     14       4.0   \n",
       "2                  3.0                  1.0                     15       2.0   \n",
       "3                  0.0                  0.0                      8       7.0   \n",
       "4                 32.0                 10.0                      8       3.0   \n",
       "5                  8.0                  2.0                      3       7.0   \n",
       "\n",
       "  CAMEO_INTL_2015  KBA05_BAUMAX  PLZ8_BAUMAX  \n",
       "1              51           5.0          1.0  \n",
       "2              24           0.0          1.0  \n",
       "3              12           1.0          1.0  \n",
       "4              43           0.0          2.0  \n",
       "5              54           0.0          1.0  "
      ]
     },
     "execution_count": 31,
     "metadata": {},
     "output_type": "execute_result"
    }
   ],
   "source": [
    "# Mixed types elicit attention...\n",
    "azdias_clean[df_dtype['mixed']].head()"
   ]
  },
  {
   "cell_type": "code",
   "execution_count": 32,
   "metadata": {},
   "outputs": [
    {
     "name": "stdout",
     "output_type": "stream",
     "text": [
      "LP_LEBENSPHASE_FEIN 41\n",
      "LP_LEBENSPHASE_GROB 13\n",
      "PRAEGENDE_JUGENDJAHRE 16\n",
      "WOHNLAGE 8\n",
      "CAMEO_INTL_2015 21\n",
      "KBA05_BAUMAX 6\n",
      "PLZ8_BAUMAX 5\n"
     ]
    }
   ],
   "source": [
    "# Check the unique values of mixed feats\n",
    "for column in azdias_clean[df_dtype['mixed']].columns:\n",
    "    print(column,azdias_clean[df_dtype['mixed']][column].nunique())"
   ]
  },
  {
   "cell_type": "markdown",
   "metadata": {},
   "source": [
    "See mixed above (and the dictionary); hence all categoricals thus far => encode as multi-level via one-hot encoding;\n",
    "\n",
    "TBD for later the more complex feats\n",
    "- (a) \"PRAEGENDE_JUGENDJAHRE\"  \n",
    "- (b) \"CAMEO_INTL_2015\"."
   ]
  },
  {
   "cell_type": "markdown",
   "metadata": {},
   "source": [
    "### One-hot-encode (OHE) all ML categoricals and mixed, except the 2 special cases\n",
    "Naturally this will explode the feature cardinal by a factor 3-4x...!"
   ]
  },
  {
   "cell_type": "code",
   "execution_count": 33,
   "metadata": {},
   "outputs": [
    {
     "name": "stdout",
     "output_type": "stream",
     "text": [
      "Shape OH-encoded frame: (798003, 286)\n"
     ]
    }
   ],
   "source": [
    "for col in df_dtype['mixed']:\n",
    "    if col not in ['CAMEO_INTL_2015','PRAEGENDE_JUGENDJAHRE']:\n",
    "        cat_ml.append(col)\n",
    "\n",
    "# Proceed to OH-encoding for ML categs and mixed => Attention: One-time, or reload the df from the top...\n",
    "azdias_ohe=pd.get_dummies(azdias_clean,columns=cat_ml)\n",
    "\n",
    "# Print the shape of the new df\n",
    "print(\"Shape OH-encoded frame:\", azdias_ohe.shape)"
   ]
  },
  {
   "cell_type": "markdown",
   "metadata": {},
   "source": [
    "#### Discussion 1.2.1: Re-Encode Categorical Features\n",
    "\n",
    "The steps are documented above; \n",
    "- we've maintained the ordinal and numeric columns unchanged; \n",
    "- one-hot encoded multi-level categorical, hence the 83 features exploded to 357;\n",
    "\n",
    "Sundry others, e.g. \n",
    "- the hidden binary (two-level) categorical `OST_WEST_KZ` we re-encoded to [0,1];\n",
    "- the (two-level) categoricals e.g., `ANREDE_KZ`m `VERS_TYP` with initial values [2,1], we also re-encoded to [0,1]."
   ]
  },
  {
   "cell_type": "markdown",
   "metadata": {},
   "source": [
    "#### Step 1.2.2: Engineer Mixed-Type Features\n",
    "\n",
    "There are a handful of features that are marked as \"mixed\" in the feature summary that require special treatment in order to be included in the analysis. There are two in particular that deserve attention; the handling of the rest are up to your own choices:\n",
    "- \"PRAEGENDE_JUGENDJAHRE\" combines information on three dimensions: generation by decade, movement (mainstream vs. avantgarde), and nation (east vs. west). While there aren't enough levels to disentangle east from west, you should create two new variables to capture the other two dimensions: an interval-type variable for decade, and a binary variable for movement.\n",
    "- \"CAMEO_INTL_2015\" combines information on two axes: wealth and life stage. Break up the two-digit codes by their 'tens'-place and 'ones'-place digits into two new ordinal variables (which, for the purposes of this project, is equivalent to just treating them as their raw numeric values).\n",
    "- If you decide to keep or engineer new features around the other mixed-type features, make sure you note your steps in the Discussion section.\n",
    "\n",
    "Be sure to check `Data_Dictionary.md` for the details needed to finish these tasks."
   ]
  },
  {
   "cell_type": "markdown",
   "metadata": {},
   "source": [
    "### Wrangle the Mixed Features\n",
    "- \"PRAEGENDE_JUGENDJAHRE\" = 3D info on generation by decade, movement, and nation \n",
    "- \"CAMEO_INTL_2015\" = 2D info on wealth and life stage.\n",
    "\n",
    "Break-down 2-digit codes on 10s-pos. and 'ones'=> 2 ordinal variables, i.e., here as numeric vals\n",
    "\n",
    "\"PRAEGENDE_JUGENDJAHRE\" from the Data_Dictionary.md\n",
    " - 1:  40s war years (Mainstream, E+W)\n",
    " - 2:  40s reconstruction years (Avantgarde, E+W)\n",
    " - 3:  50s economic miracle (Mainstream, E+W)\n",
    " - 4:  50s milk bar / Individualisation (Avantgarde, E+W)\n",
    " - 5:  60s economic miracle (Mainstream, E+W)\n",
    " - 6:  60s generation 68 / student protestors (Avantgarde, W)\n",
    " - 7:  60s opponents to the building of the Wall (Avantgarde, E)\n",
    " - 8:  70s family orientation (Mainstream, E+W)\n",
    " - 9:  70s peace movement (Avantgarde, E+W)\n",
    " - 10: 80s Generation Golf (Mainstream, W)\n",
    " - 11: 80s ecological awareness (Avantgarde, W)\n",
    " - 12: 80s FDJ / communist party youth organisation (Mainstream, E)\n",
    " - 13: 80s Swords into ploughshares (Avantgarde, E)\n",
    " - 14: 90s digital media kids (Mainstream, E+W)\n",
    " - 15: 90s ecological awareness (Avantgarde, E+W)\n",
    "\n",
    "Obs: This is extremely interesting as classification, of high value!"
   ]
  },
  {
   "cell_type": "code",
   "execution_count": 34,
   "metadata": {},
   "outputs": [
    {
     "data": {
      "text/plain": [
       "True"
      ]
     },
     "execution_count": 34,
     "metadata": {},
     "output_type": "execute_result"
    }
   ],
   "source": [
    "# manually handle the \"PRAEGENDE_JUGENDJAHRE\" via 2 new vars\n",
    "movement = []; decade = []\n",
    "for val in azdias_ohe['PRAEGENDE_JUGENDJAHRE']:\n",
    "    # Remap movement\n",
    "    if val in [1,3,5,8,10,12,14]:\n",
    "        movement.append(0) \n",
    "    elif val in [2,4,6,7,9,11,13,15]:\n",
    "        movement.append(1)\n",
    "    else:\n",
    "        movement.append(np.NaN)\n",
    "    # Remap decade  \n",
    "    if val in [1,2]:\n",
    "        decade.append(40)\n",
    "    elif val in [3,4]:\n",
    "        decade.append(50)\n",
    "    elif val in [5,6,7]:\n",
    "        decade.append(60)\n",
    "    elif val in [8,9]:\n",
    "        decade.append(70)\n",
    "    elif val in [10,11,12]:\n",
    "        decade.append(80)\n",
    "    elif val in [13,14,15]:\n",
    "        decade.append(90)\n",
    "    else:\n",
    "        decade.append(np.NaN)\n",
    "\n",
    "# check the consistency, if they all match before/after\n",
    "len(movement)==azdias_ohe.shape[0]==len(decade)"
   ]
  },
  {
   "cell_type": "code",
   "execution_count": 35,
   "metadata": {},
   "outputs": [
    {
     "name": "stdout",
     "output_type": "stream",
     "text": [
      "movement\n",
      "0.0    531585\n",
      "1.0    156791\n",
      "Name: count, dtype: int64\n",
      "decade\n",
      "90.0    206919\n",
      "70.0    156781\n",
      "80.0    130613\n",
      "60.0    102429\n",
      "50.0     66521\n",
      "40.0     25113\n",
      "Name: count, dtype: int64\n"
     ]
    }
   ],
   "source": [
    "# frugal checks on PRAEGENDE_JUGENDJAHRE after\n",
    "movement = pd.Series(movement)\n",
    "decade = pd.Series(decade)\n",
    "azdias_ohe['movement']=movement\n",
    "print(azdias_ohe['movement'].value_counts())\n",
    "azdias_ohe['decade']=decade\n",
    "print(azdias_ohe['decade'].value_counts())"
   ]
  },
  {
   "cell_type": "markdown",
   "metadata": {},
   "source": [
    "### Ditto for CAMEO: Wealth / Life Stage Typology, mapped to international code\n",
    "\n",
    " -  -1: unknown\n",
    " - 11: Wealthy Households - Pre-Family Couples & Singles\n",
    " - 12: Wealthy Households - Young Couples With Children\n",
    " - 13: Wealthy Households - Families With School Age Children\n",
    " - 14: Wealthy Households - Older Families & Mature Couples\n",
    " - 15: Wealthy Households - Elders In Retirement\n",
    " - 21: Prosperous Households - Pre-Family Couples & Singles\n",
    " - 22: Prosperous Households - Young Couples With Children\n",
    " - 23: Prosperous Households - Families With School Age Children\n",
    " - 24: Prosperous Households - Older Families & Mature Couples\n",
    " - 25: Prosperous Households - Elders In Retirement\n",
    " - 31: Comfortable Households - Pre-Family Couples & Singles\n",
    " - 32: Comfortable Households - Young Couples With Children\n",
    " - 33: Comfortable Households - Families With School Age Children\n",
    " - 34: Comfortable Households - Older Families & Mature Couples\n",
    " - 35: Comfortable Households - Elders In Retirement\n",
    " - 41: Less Affluent Households - Pre-Family Couples & Singles\n",
    " - 42: Less Affluent Households - Young Couples With Children\n",
    " - 43: Less Affluent Households - Families With School Age Children\n",
    " - 44: Less Affluent Households - Older Families & Mature Couples\n",
    " - 45: Less Affluent Households - Elders In Retirement\n",
    " - 51: Poorer Households - Pre-Family Couples & Singles\n",
    " - 52: Poorer Households - Young Couples With Children\n",
    " - 53: Poorer Households - Families With School Age Children\n",
    " - 54: Poorer Households - Older Families & Mature Couples\n",
    " - 55: Poorer Households - Elders In Retirement\n",
    " - XX: unknown"
   ]
  },
  {
   "cell_type": "code",
   "execution_count": 36,
   "metadata": {},
   "outputs": [],
   "source": [
    "# Handle the \"CAMEO_INTL_2015\"\n",
    "cameo_intl = []\n",
    "for val in azdias_ohe['CAMEO_INTL_2015']:\n",
    "    try:\n",
    "        val = int(val)\n",
    "        if 10 < val < 19:\n",
    "            cameo_intl.append(5)\n",
    "        elif 20 < val < 29:\n",
    "            cameo_intl.append(4)\n",
    "        elif 30 < val < 39:\n",
    "            cameo_intl.append(3)\n",
    "        elif 40 < val < 49:\n",
    "            cameo_intl.append(2)\n",
    "        elif 50 < val < 59:\n",
    "            cameo_intl.append(1)\n",
    "        else:\n",
    "            cameo_intl.append(np.nan)\n",
    "    except:\n",
    "        cameo_intl.append(np.nan)\n"
   ]
  },
  {
   "cell_type": "code",
   "execution_count": 37,
   "metadata": {},
   "outputs": [
    {
     "data": {
      "text/html": [
       "<div>\n",
       "<style scoped>\n",
       "    .dataframe tbody tr th:only-of-type {\n",
       "        vertical-align: middle;\n",
       "    }\n",
       "\n",
       "    .dataframe tbody tr th {\n",
       "        vertical-align: top;\n",
       "    }\n",
       "\n",
       "    .dataframe thead th {\n",
       "        text-align: right;\n",
       "    }\n",
       "</style>\n",
       "<table border=\"1\" class=\"dataframe\">\n",
       "  <thead>\n",
       "    <tr style=\"text-align: right;\">\n",
       "      <th></th>\n",
       "      <th>ALTERSKATEGORIE_GROB</th>\n",
       "      <th>ANREDE_KZ</th>\n",
       "      <th>FINANZ_MINIMALIST</th>\n",
       "      <th>FINANZ_SPARER</th>\n",
       "      <th>FINANZ_VORSORGER</th>\n",
       "      <th>FINANZ_ANLEGER</th>\n",
       "      <th>FINANZ_UNAUFFAELLIGER</th>\n",
       "      <th>FINANZ_HAUSBAUER</th>\n",
       "      <th>GEBURTSJAHR</th>\n",
       "      <th>GREEN_AVANTGARDE</th>\n",
       "      <th>...</th>\n",
       "      <th>KBA05_BAUMAX_4.0</th>\n",
       "      <th>KBA05_BAUMAX_5.0</th>\n",
       "      <th>PLZ8_BAUMAX_1.0</th>\n",
       "      <th>PLZ8_BAUMAX_2.0</th>\n",
       "      <th>PLZ8_BAUMAX_3.0</th>\n",
       "      <th>PLZ8_BAUMAX_4.0</th>\n",
       "      <th>PLZ8_BAUMAX_5.0</th>\n",
       "      <th>movement</th>\n",
       "      <th>decade</th>\n",
       "      <th>cameo_intl</th>\n",
       "    </tr>\n",
       "  </thead>\n",
       "  <tbody>\n",
       "    <tr>\n",
       "      <th>1</th>\n",
       "      <td>1</td>\n",
       "      <td>2</td>\n",
       "      <td>1</td>\n",
       "      <td>5</td>\n",
       "      <td>2</td>\n",
       "      <td>5</td>\n",
       "      <td>4</td>\n",
       "      <td>5</td>\n",
       "      <td>1996</td>\n",
       "      <td>0</td>\n",
       "      <td>...</td>\n",
       "      <td>False</td>\n",
       "      <td>True</td>\n",
       "      <td>True</td>\n",
       "      <td>False</td>\n",
       "      <td>False</td>\n",
       "      <td>False</td>\n",
       "      <td>False</td>\n",
       "      <td>1.0</td>\n",
       "      <td>90.0</td>\n",
       "      <td>4.0</td>\n",
       "    </tr>\n",
       "    <tr>\n",
       "      <th>2</th>\n",
       "      <td>3</td>\n",
       "      <td>2</td>\n",
       "      <td>1</td>\n",
       "      <td>4</td>\n",
       "      <td>1</td>\n",
       "      <td>2</td>\n",
       "      <td>3</td>\n",
       "      <td>5</td>\n",
       "      <td>1979</td>\n",
       "      <td>1</td>\n",
       "      <td>...</td>\n",
       "      <td>False</td>\n",
       "      <td>False</td>\n",
       "      <td>True</td>\n",
       "      <td>False</td>\n",
       "      <td>False</td>\n",
       "      <td>False</td>\n",
       "      <td>False</td>\n",
       "      <td>0.0</td>\n",
       "      <td>70.0</td>\n",
       "      <td>5.0</td>\n",
       "    </tr>\n",
       "    <tr>\n",
       "      <th>3</th>\n",
       "      <td>4</td>\n",
       "      <td>2</td>\n",
       "      <td>4</td>\n",
       "      <td>2</td>\n",
       "      <td>5</td>\n",
       "      <td>2</td>\n",
       "      <td>1</td>\n",
       "      <td>2</td>\n",
       "      <td>1957</td>\n",
       "      <td>0</td>\n",
       "      <td>...</td>\n",
       "      <td>False</td>\n",
       "      <td>False</td>\n",
       "      <td>True</td>\n",
       "      <td>False</td>\n",
       "      <td>False</td>\n",
       "      <td>False</td>\n",
       "      <td>False</td>\n",
       "      <td>0.0</td>\n",
       "      <td>70.0</td>\n",
       "      <td>2.0</td>\n",
       "    </tr>\n",
       "    <tr>\n",
       "      <th>4</th>\n",
       "      <td>3</td>\n",
       "      <td>1</td>\n",
       "      <td>4</td>\n",
       "      <td>3</td>\n",
       "      <td>4</td>\n",
       "      <td>1</td>\n",
       "      <td>3</td>\n",
       "      <td>2</td>\n",
       "      <td>1963</td>\n",
       "      <td>0</td>\n",
       "      <td>...</td>\n",
       "      <td>False</td>\n",
       "      <td>False</td>\n",
       "      <td>False</td>\n",
       "      <td>True</td>\n",
       "      <td>False</td>\n",
       "      <td>False</td>\n",
       "      <td>False</td>\n",
       "      <td>0.0</td>\n",
       "      <td>50.0</td>\n",
       "      <td>1.0</td>\n",
       "    </tr>\n",
       "    <tr>\n",
       "      <th>5</th>\n",
       "      <td>1</td>\n",
       "      <td>2</td>\n",
       "      <td>3</td>\n",
       "      <td>1</td>\n",
       "      <td>5</td>\n",
       "      <td>2</td>\n",
       "      <td>2</td>\n",
       "      <td>5</td>\n",
       "      <td>1943</td>\n",
       "      <td>0</td>\n",
       "      <td>...</td>\n",
       "      <td>False</td>\n",
       "      <td>False</td>\n",
       "      <td>True</td>\n",
       "      <td>False</td>\n",
       "      <td>False</td>\n",
       "      <td>False</td>\n",
       "      <td>False</td>\n",
       "      <td>0.0</td>\n",
       "      <td>80.0</td>\n",
       "      <td>4.0</td>\n",
       "    </tr>\n",
       "  </tbody>\n",
       "</table>\n",
       "<p>5 rows × 289 columns</p>\n",
       "</div>"
      ],
      "text/plain": [
       "   ALTERSKATEGORIE_GROB  ANREDE_KZ  FINANZ_MINIMALIST  FINANZ_SPARER  \\\n",
       "1                     1          2                  1              5   \n",
       "2                     3          2                  1              4   \n",
       "3                     4          2                  4              2   \n",
       "4                     3          1                  4              3   \n",
       "5                     1          2                  3              1   \n",
       "\n",
       "   FINANZ_VORSORGER  FINANZ_ANLEGER  FINANZ_UNAUFFAELLIGER  FINANZ_HAUSBAUER  \\\n",
       "1                 2               5                      4                 5   \n",
       "2                 1               2                      3                 5   \n",
       "3                 5               2                      1                 2   \n",
       "4                 4               1                      3                 2   \n",
       "5                 5               2                      2                 5   \n",
       "\n",
       "   GEBURTSJAHR  GREEN_AVANTGARDE  ...  KBA05_BAUMAX_4.0  KBA05_BAUMAX_5.0  \\\n",
       "1         1996                 0  ...             False              True   \n",
       "2         1979                 1  ...             False             False   \n",
       "3         1957                 0  ...             False             False   \n",
       "4         1963                 0  ...             False             False   \n",
       "5         1943                 0  ...             False             False   \n",
       "\n",
       "   PLZ8_BAUMAX_1.0  PLZ8_BAUMAX_2.0  PLZ8_BAUMAX_3.0  PLZ8_BAUMAX_4.0  \\\n",
       "1             True            False            False            False   \n",
       "2             True            False            False            False   \n",
       "3             True            False            False            False   \n",
       "4            False             True            False            False   \n",
       "5             True            False            False            False   \n",
       "\n",
       "   PLZ8_BAUMAX_5.0  movement  decade  cameo_intl  \n",
       "1            False       1.0    90.0         4.0  \n",
       "2            False       0.0    70.0         5.0  \n",
       "3            False       0.0    70.0         2.0  \n",
       "4            False       0.0    50.0         1.0  \n",
       "5            False       0.0    80.0         4.0  \n",
       "\n",
       "[5 rows x 289 columns]"
      ]
     },
     "execution_count": 37,
     "metadata": {},
     "output_type": "execute_result"
    }
   ],
   "source": [
    "cameo_intl = pd.Series(cameo_intl)\n",
    "azdias_ohe['cameo_intl'] = cameo_intl\n",
    "azdias_ohe.head()"
   ]
  },
  {
   "cell_type": "code",
   "execution_count": 38,
   "metadata": {},
   "outputs": [],
   "source": [
    "# Drop and replace the 2 special cases => 'CAMEO_INTL_2015'& 'PRAEGENDE_JUGENDJAHRE'\n",
    "azdias_ohe.drop(['CAMEO_INTL_2015','PRAEGENDE_JUGENDJAHRE'],axis=1,inplace=True)"
   ]
  },
  {
   "cell_type": "markdown",
   "metadata": {},
   "source": [
    "#### Discussion 1.2.2: Engineer Mixed-Type Features\n",
    "\n",
    "We have 6 mixed-type features `LP_LEBENSPHASE_FEIN`, `LP_LEBENSPHASE_GROB`, `PRAEGENDE_JUGENDJAHRE`, `WOHNLAGE`, `CAMEO_INTL_2015`, `PLZ8_BAUMAX`: Two of the mixed-type features `PRAEGENDE_JUGENDJAHRE` and `CAMEO_INTL_2015` have been engineered according to the instructions and documentation in `Data_Dictionary.md`\n",
    "\n",
    "- PRAEGENDE_JUGENDJAHRE was replaced by 2 new columns: movement and decade, according to the mapping in Data_Dictionary.md.\n",
    "\n",
    "- CAMEO_INTL_2015 was replaced by a new column cameo_intl, according to the mapping in Data_Dictionary.md.\n",
    "\n"
   ]
  },
  {
   "cell_type": "markdown",
   "metadata": {},
   "source": [
    "#### Step 1.2.3: Complete Feature Selection\n",
    "\n",
    "In order to finish this step up, you need to make sure that your data frame now only has the columns that you want to keep. To summarize, the dataframe should consist of the following:\n",
    "- All numeric, interval, and ordinal type columns from the original dataset.\n",
    "- Binary categorical features (all numerically-encoded).\n",
    "- Engineered features from other multi-level categorical features and mixed features.\n",
    "\n",
    "Make sure that for any new columns that you have engineered, that you've excluded the original columns from the final dataset. Otherwise, their values will interfere with the analysis later on the project. For example, you should not keep \"PRAEGENDE_JUGENDJAHRE\", since its values won't be useful for the algorithm: only the values derived from it in the engineered features you created should be retained. As a reminder, your data should only be from **the subset with few or no missing values**."
   ]
  },
  {
   "cell_type": "markdown",
   "metadata": {},
   "source": [
    "### Build the cross-correlation matrix\n",
    "The x-corr. matrix is computationally expensive O(N^2); ideally this should be performed primarily in the EARLY feat-eng. stages: e.g., before cleaning the cols and rows, and also before and after re-encoding (OHE etc.)"
   ]
  },
  {
   "cell_type": "code",
   "execution_count": 39,
   "metadata": {},
   "outputs": [
    {
     "name": "stdout",
     "output_type": "stream",
     "text": [
      "Top x-Correlations:\n",
      "LP_FAMILIE_FEIN_2.0  LP_FAMILIE_GROB_2.0    1.0\n",
      "LP_FAMILIE_FEIN_1.0  LP_FAMILIE_GROB_1.0    1.0\n",
      "LP_STATUS_FEIN_10.0  LP_STATUS_GROB_5.0     1.0\n",
      "dtype: float64\n",
      "--- Run time: 5.88 mins ---\n"
     ]
    }
   ],
   "source": [
    "# If there are other re-engineering tasks you need to perform, make sure you\n",
    "# take care of them here. (Dealing with missing data will come in step 2.1.)\n",
    "\n",
    "# ATTENTION: Very slow and irreversible: Once dropped using this method, \n",
    "# the SAME feature cleaning MUST also be used in the \"Cleaning function\" below => 2x runtime\n",
    "# Check for correlations between features (just in case we could drop some)\n",
    "\n",
    "def xcorr_candidate(df):\n",
    "    \"\"\"\n",
    "    Get pairs of column indices that are redundant (lower triangular and diagonal).\n",
    "\n",
    "    Parameters:\n",
    "        df (DataFrame): The DataFrame for which to find redundant pairs.\n",
    "\n",
    "    Returns:\n",
    "        set: A set of pairs of redundant column indices.\n",
    "    \"\"\"\n",
    "    pairs_to_drop = set()\n",
    "    cols = df.columns\n",
    "    for i in range(0, df.shape[1]):\n",
    "        for j in range(0, i+1):\n",
    "            pairs_to_drop.add((cols[i], cols[j]))\n",
    "    return pairs_to_drop\n",
    "\n",
    "def top_xcorr(df, n=3):\n",
    "    \"\"\"\n",
    "    Get top abs. x-correlations in df.\n",
    "\n",
    "    Parameters:\n",
    "        df (DataFrame): The df for which to calculate x-correlations.\n",
    "        n (int): no. of top x-correlations to retrieve.\n",
    "\n",
    "    Returns:\n",
    "        Series: top abs. cross-correlations.\n",
    "    \"\"\"\n",
    "    au_xcorr = df.corr().abs().unstack()\n",
    "    drop_candidate = xcorr_candidate(df)\n",
    "    au_xcorr = au_xcorr.drop(labels=drop_candidate).sort_values(ascending=False)\n",
    "    return au_xcorr.head(n)\n",
    "\n",
    "# Example usage\n",
    "start_time = time.time()\n",
    "print(\"Top x-Correlations:\")\n",
    "print(top_xcorr(azdias_ohe))\n",
    "print(\"--- Run time: %s mins ---\" % np.round(((time.time() - start_time) / 60), 2))\n",
    "\n"
   ]
  },
  {
   "cell_type": "markdown",
   "metadata": {},
   "source": [
    "These strongly x-correlated feats can be removed, and possibly a few others beyond n=5 (too long to run)"
   ]
  },
  {
   "cell_type": "code",
   "execution_count": 40,
   "metadata": {},
   "outputs": [
    {
     "name": "stdout",
     "output_type": "stream",
     "text": [
      "798003 rows and 286 columns left in our partly cleaned azdias df: \n",
      "\n",
      "Features: \n",
      " ['ALTERSKATEGORIE_GROB', 'ANREDE_KZ', 'FINANZ_MINIMALIST', 'FINANZ_SPARER', 'FINANZ_VORSORGER', 'FINANZ_ANLEGER', 'FINANZ_UNAUFFAELLIGER', 'FINANZ_HAUSBAUER', 'GEBURTSJAHR', 'GREEN_AVANTGARDE', 'HEALTH_TYP', 'RETOURTYP_BK_S', 'SEMIO_SOZ', 'SEMIO_FAM', 'SEMIO_REL', 'SEMIO_MAT', 'SEMIO_VERT', 'SEMIO_LUST', 'SEMIO_ERL', 'SEMIO_KULT', 'SEMIO_RAT', 'SEMIO_KRIT', 'SEMIO_DOM', 'SEMIO_KAEM', 'SEMIO_PFLICHT', 'SEMIO_TRADV', 'SOHO_KZ', 'ALTER_HH', 'ANZ_PERSONEN', 'ANZ_TITEL', 'HH_EINKOMMEN_SCORE', 'W_KEIT_KIND_HH', 'WOHNDAUER_2008', 'ANZ_HAUSHALTE_AKTIV', 'ANZ_HH_TITEL', 'KONSUMNAEHE', 'MIN_GEBAEUDEJAHR', 'KBA05_ANTG1', 'KBA05_ANTG2', 'KBA05_ANTG3', 'KBA05_ANTG4', 'KBA05_GBZ', 'BALLRAUM', 'EWDICHTE', 'INNENSTADT', 'GEBAEUDETYP_RASTER', 'KKK', 'MOBI_REGIO', 'ONLINE_AFFINITAET', 'REGIOTYP', 'KBA13_ANZAHL_PKW', 'PLZ8_ANTG1', 'PLZ8_ANTG2', 'PLZ8_ANTG3', 'PLZ8_ANTG4', 'PLZ8_HHZ', 'PLZ8_GBZ', 'ARBEIT', 'ORTSGR_KLS9', 'RELAT_AB', 'AGER_TYP_-1', 'AGER_TYP_0', 'AGER_TYP_1', 'AGER_TYP_2', 'AGER_TYP_3', 'CJT_GESAMTTYP_1.0', 'CJT_GESAMTTYP_2.0', 'CJT_GESAMTTYP_3.0', 'CJT_GESAMTTYP_4.0', 'CJT_GESAMTTYP_5.0', 'CJT_GESAMTTYP_6.0', 'FINANZTYP_1', 'FINANZTYP_2', 'FINANZTYP_3', 'FINANZTYP_4', 'FINANZTYP_5', 'FINANZTYP_6', 'GFK_URLAUBERTYP_1.0', 'GFK_URLAUBERTYP_2.0', 'GFK_URLAUBERTYP_3.0', 'GFK_URLAUBERTYP_4.0', 'GFK_URLAUBERTYP_5.0', 'GFK_URLAUBERTYP_6.0', 'GFK_URLAUBERTYP_7.0', 'GFK_URLAUBERTYP_8.0', 'GFK_URLAUBERTYP_9.0', 'GFK_URLAUBERTYP_10.0', 'GFK_URLAUBERTYP_11.0', 'GFK_URLAUBERTYP_12.0', 'LP_FAMILIE_FEIN_0.0', 'LP_FAMILIE_FEIN_1.0', 'LP_FAMILIE_FEIN_2.0', 'LP_FAMILIE_FEIN_3.0', 'LP_FAMILIE_FEIN_4.0', 'LP_FAMILIE_FEIN_5.0', 'LP_FAMILIE_FEIN_6.0', 'LP_FAMILIE_FEIN_7.0', 'LP_FAMILIE_FEIN_8.0', 'LP_FAMILIE_FEIN_9.0', 'LP_FAMILIE_FEIN_10.0', 'LP_FAMILIE_FEIN_11.0', 'LP_FAMILIE_GROB_0.0', 'LP_FAMILIE_GROB_1.0', 'LP_FAMILIE_GROB_2.0', 'LP_FAMILIE_GROB_3.0', 'LP_FAMILIE_GROB_4.0', 'LP_FAMILIE_GROB_5.0', 'LP_STATUS_FEIN_1.0', 'LP_STATUS_FEIN_2.0', 'LP_STATUS_FEIN_3.0', 'LP_STATUS_FEIN_4.0', 'LP_STATUS_FEIN_5.0', 'LP_STATUS_FEIN_6.0', 'LP_STATUS_FEIN_7.0', 'LP_STATUS_FEIN_8.0', 'LP_STATUS_FEIN_9.0', 'LP_STATUS_FEIN_10.0', 'LP_STATUS_GROB_1.0', 'LP_STATUS_GROB_2.0', 'LP_STATUS_GROB_3.0', 'LP_STATUS_GROB_4.0', 'LP_STATUS_GROB_5.0', 'NATIONALITAET_KZ_0', 'NATIONALITAET_KZ_1', 'NATIONALITAET_KZ_2', 'NATIONALITAET_KZ_3', 'SHOPPER_TYP_-1', 'SHOPPER_TYP_0', 'SHOPPER_TYP_1', 'SHOPPER_TYP_2', 'SHOPPER_TYP_3', 'TITEL_KZ_0.0', 'TITEL_KZ_1.0', 'TITEL_KZ_2.0', 'TITEL_KZ_3.0', 'TITEL_KZ_4.0', 'TITEL_KZ_5.0', 'VERS_TYP_-1', 'VERS_TYP_1', 'VERS_TYP_2', 'ZABEOTYP_1', 'ZABEOTYP_2', 'ZABEOTYP_3', 'ZABEOTYP_4', 'ZABEOTYP_5', 'ZABEOTYP_6', 'GEBAEUDETYP_1.0', 'GEBAEUDETYP_2.0', 'GEBAEUDETYP_3.0', 'GEBAEUDETYP_4.0', 'GEBAEUDETYP_5.0', 'GEBAEUDETYP_6.0', 'GEBAEUDETYP_8.0', 'CAMEO_DEUG_2015_1', 'CAMEO_DEUG_2015_2', 'CAMEO_DEUG_2015_3', 'CAMEO_DEUG_2015_4', 'CAMEO_DEUG_2015_5', 'CAMEO_DEUG_2015_6', 'CAMEO_DEUG_2015_7', 'CAMEO_DEUG_2015_8', 'CAMEO_DEUG_2015_9', 'CAMEO_DEU_2015_1A', 'CAMEO_DEU_2015_1B', 'CAMEO_DEU_2015_1C', 'CAMEO_DEU_2015_1D', 'CAMEO_DEU_2015_1E', 'CAMEO_DEU_2015_2A', 'CAMEO_DEU_2015_2B', 'CAMEO_DEU_2015_2C', 'CAMEO_DEU_2015_2D', 'CAMEO_DEU_2015_3A', 'CAMEO_DEU_2015_3B', 'CAMEO_DEU_2015_3C', 'CAMEO_DEU_2015_3D', 'CAMEO_DEU_2015_4A', 'CAMEO_DEU_2015_4B', 'CAMEO_DEU_2015_4C', 'CAMEO_DEU_2015_4D', 'CAMEO_DEU_2015_4E', 'CAMEO_DEU_2015_5A', 'CAMEO_DEU_2015_5B', 'CAMEO_DEU_2015_5C', 'CAMEO_DEU_2015_5D', 'CAMEO_DEU_2015_5E', 'CAMEO_DEU_2015_5F', 'CAMEO_DEU_2015_6A', 'CAMEO_DEU_2015_6B', 'CAMEO_DEU_2015_6C', 'CAMEO_DEU_2015_6D', 'CAMEO_DEU_2015_6E', 'CAMEO_DEU_2015_6F', 'CAMEO_DEU_2015_7A', 'CAMEO_DEU_2015_7B', 'CAMEO_DEU_2015_7C', 'CAMEO_DEU_2015_7D', 'CAMEO_DEU_2015_7E', 'CAMEO_DEU_2015_8A', 'CAMEO_DEU_2015_8B', 'CAMEO_DEU_2015_8C', 'CAMEO_DEU_2015_8D', 'CAMEO_DEU_2015_9A', 'CAMEO_DEU_2015_9B', 'CAMEO_DEU_2015_9C', 'CAMEO_DEU_2015_9D', 'CAMEO_DEU_2015_9E', 'OST_WEST_KZ_O', 'OST_WEST_KZ_W', 'OST_WEST_KZ_O', 'OST_WEST_KZ_W', 'LP_LEBENSPHASE_FEIN_0.0', 'LP_LEBENSPHASE_FEIN_1.0', 'LP_LEBENSPHASE_FEIN_2.0', 'LP_LEBENSPHASE_FEIN_3.0', 'LP_LEBENSPHASE_FEIN_4.0', 'LP_LEBENSPHASE_FEIN_5.0', 'LP_LEBENSPHASE_FEIN_6.0', 'LP_LEBENSPHASE_FEIN_7.0', 'LP_LEBENSPHASE_FEIN_8.0', 'LP_LEBENSPHASE_FEIN_9.0', 'LP_LEBENSPHASE_FEIN_10.0', 'LP_LEBENSPHASE_FEIN_11.0', 'LP_LEBENSPHASE_FEIN_12.0', 'LP_LEBENSPHASE_FEIN_13.0', 'LP_LEBENSPHASE_FEIN_14.0', 'LP_LEBENSPHASE_FEIN_15.0', 'LP_LEBENSPHASE_FEIN_16.0', 'LP_LEBENSPHASE_FEIN_17.0', 'LP_LEBENSPHASE_FEIN_18.0', 'LP_LEBENSPHASE_FEIN_19.0', 'LP_LEBENSPHASE_FEIN_20.0', 'LP_LEBENSPHASE_FEIN_21.0', 'LP_LEBENSPHASE_FEIN_22.0', 'LP_LEBENSPHASE_FEIN_23.0', 'LP_LEBENSPHASE_FEIN_24.0', 'LP_LEBENSPHASE_FEIN_25.0', 'LP_LEBENSPHASE_FEIN_26.0', 'LP_LEBENSPHASE_FEIN_27.0', 'LP_LEBENSPHASE_FEIN_28.0', 'LP_LEBENSPHASE_FEIN_29.0', 'LP_LEBENSPHASE_FEIN_30.0', 'LP_LEBENSPHASE_FEIN_31.0', 'LP_LEBENSPHASE_FEIN_32.0', 'LP_LEBENSPHASE_FEIN_33.0', 'LP_LEBENSPHASE_FEIN_34.0', 'LP_LEBENSPHASE_FEIN_35.0', 'LP_LEBENSPHASE_FEIN_36.0', 'LP_LEBENSPHASE_FEIN_37.0', 'LP_LEBENSPHASE_FEIN_38.0', 'LP_LEBENSPHASE_FEIN_39.0', 'LP_LEBENSPHASE_FEIN_40.0', 'LP_LEBENSPHASE_GROB_0.0', 'LP_LEBENSPHASE_GROB_1.0', 'LP_LEBENSPHASE_GROB_2.0', 'LP_LEBENSPHASE_GROB_3.0', 'LP_LEBENSPHASE_GROB_4.0', 'LP_LEBENSPHASE_GROB_5.0', 'LP_LEBENSPHASE_GROB_6.0', 'LP_LEBENSPHASE_GROB_7.0', 'LP_LEBENSPHASE_GROB_8.0', 'LP_LEBENSPHASE_GROB_9.0', 'LP_LEBENSPHASE_GROB_10.0', 'LP_LEBENSPHASE_GROB_11.0', 'LP_LEBENSPHASE_GROB_12.0', 'WOHNLAGE_0.0', 'WOHNLAGE_1.0', 'WOHNLAGE_2.0', 'WOHNLAGE_3.0', 'WOHNLAGE_4.0', 'WOHNLAGE_5.0', 'WOHNLAGE_7.0', 'WOHNLAGE_8.0', 'KBA05_BAUMAX_0.0', 'KBA05_BAUMAX_1.0', 'KBA05_BAUMAX_2.0', 'KBA05_BAUMAX_3.0', 'KBA05_BAUMAX_4.0', 'KBA05_BAUMAX_5.0', 'PLZ8_BAUMAX_1.0', 'PLZ8_BAUMAX_2.0', 'PLZ8_BAUMAX_3.0', 'PLZ8_BAUMAX_4.0', 'PLZ8_BAUMAX_5.0', 'movement', 'decade', 'cameo_intl']\n"
     ]
    }
   ],
   "source": [
    "# Do whatever you need to in order to ensure that the dataframe only contains\n",
    "# the columns that should be passed to the algorithm functions.\n",
    "\n",
    "#check df shape after cleaning \n",
    "if 'NAN_PCT' in azdias_ohe.columns:\n",
    "    azdias_ohe = azdias_ohe.drop(['NAN_PCT'], axis=1)\n",
    "    \n",
    "print(\"{} rows and {} columns left in our partly cleaned azdias df: \\n\".format(azdias_ohe.shape[0],azdias_ohe.shape[1]))\n",
    "print(\"Features: \\n\",azdias_ohe.columns.tolist())\n"
   ]
  },
  {
   "cell_type": "markdown",
   "metadata": {},
   "source": [
    "### Step 1.3: Create a Cleaning Function\n",
    "\n",
    "Even though you've finished cleaning up the general population demographics data, it's important to look ahead to the future and realize that you'll need to perform the same cleaning steps on the customer demographics data. In this substep, complete the function below to execute the main feature selection, encoding, and re-engineering steps you performed above. Then, when it comes to looking at the customer data in Step 3, you can just run this function on that DataFrame to get the trimmed dataset in a single step."
   ]
  },
  {
   "cell_type": "code",
   "execution_count": 43,
   "metadata": {},
   "outputs": [],
   "source": [
    "def STL(x):\n",
    "    '''\n",
    "    String of an alphanumeric list => list of STR and INT\n",
    "      \n",
    "    IN : STR list, e.g '[-1,0,XX]')\n",
    "    OUT: List data type\n",
    "    '''\n",
    "    new_list=[]\n",
    "    # The below line removes the '[]' and splits on ',', creating a list of strings\n",
    "    x = x[1:-1].split(',')\n",
    "    # For each value in the list of strings, try turning it into an integer if possible and append to new_list\n",
    "        # Otherwise, append it to new_list\n",
    "    for i in x:\n",
    "        try:\n",
    "            new_list.append(int(i))\n",
    "        except:\n",
    "            new_list.append(i)\n",
    "    return new_list\n",
    "\n",
    "def clean_data(df):\n",
    "    \"\"\"\n",
    "    Perform feature trimming, re-encoding, and engineering for demographics\n",
    "    data\n",
    "    \n",
    "    INPUT: Demographics DataFrame\n",
    "    OUTPUT: Trimmed and cleaned demographics DataFrame\n",
    "    \"\"\"\n",
    "    \n",
    "    feat_info = pd.read_csv('AZDIAS_Feature_Summary.csv', sep=';')\n",
    "    feat_info['NA_tags'] = feat_info['missing_or_unknown'].apply(STL)\n",
    "    att_index = feat_info.set_index('attribute')\n",
    "    # Loop thru our feats\n",
    "    for column in df.columns:\n",
    "        # For every col. in our DF, if a value is in the 'NA_tags' list, we replace it inplace with np.NaN\n",
    "        df[column].replace(att_index.loc[column].loc['NA_tags'],np.NaN,inplace=True)    \n",
    "    att_index = feat_info.set_index('attribute')\n",
    "    \n",
    "    # drop the single outlier column KK_KUNDENTYP\n",
    "    out_col = ['KK_KUNDENTYP']\n",
    "    df.drop(labels=out_col,axis=1,inplace=True)\n",
    "\n",
    "    # drop Rows missing > K vals\n",
    "    df['no_na_row'] = df.isna().sum(axis=1)\n",
    "    df = df[df['no_na_row'] <= 25 ]\n",
    "    df.drop('no_na_row',inplace=True,axis=1)\n",
    "    \n",
    "    # feat-engineer our cols \n",
    "    feat_info = feat_info.set_index('attribute').drop(out_col).reset_index()\n",
    "    df_dtype = {}\n",
    "    dtypes = ['ordinal','categorical','numeric','mixed']\n",
    "    for d in dtypes:\n",
    "        df_dtype[d]=feat_info[feat_info['type']==d]['attribute']    \n",
    "    \n",
    "    #  handle binary v. multilevel categorical \n",
    "    cat_bins = []\n",
    "    cat_mls = []\n",
    "    for col in df[df_dtype['categorical']]:\n",
    "        values = df[df_dtype['categorical']][col].nunique()\n",
    "        if values == 2:\n",
    "            cat_bins.append(col)\n",
    "        else:\n",
    "            cat_mls.append(col)\n",
    "    \n",
    "    # move OST_WEST_KZ in the OHE list\n",
    "    cat_mls.append('OST_WEST_KZ')\n",
    "    for col in df_dtype['mixed']:\n",
    "        if col not in ['CAMEO_INTL_2015','PRAEGENDE_JUGENDJAHRE']:\n",
    "            cat_mls.append(col)\n",
    "    \n",
    "    # OHE / One-hot encoding ... Feature explosion, check!\n",
    "    df = pd.get_dummies(df,columns=cat_mls)\n",
    "    \n",
    "    #  handle manually the 2 special mixed vars\n",
    "    movement = [];     decade = []\n",
    "    for val in df['PRAEGENDE_JUGENDJAHRE']:\n",
    "        # Mapping for movement\n",
    "        if val in [1,3,5,8,10,12,14]:\n",
    "            movement.append(0) \n",
    "        elif val in [2,4,6,7,9,11,13,15]:\n",
    "            movement.append(1)\n",
    "        else:\n",
    "            movement.append(np.NaN)\n",
    "        # Mapping for decade  \n",
    "        if val in [1,2]:\n",
    "            decade.append(40)\n",
    "        elif val in [3,4]:\n",
    "            decade.append(50)\n",
    "        elif val in [5,6,7]:\n",
    "            decade.append(60)\n",
    "        elif val in [8,9]:\n",
    "            decade.append(70)\n",
    "        elif val in [10,11,12]:\n",
    "            decade.append(80)\n",
    "        elif val in [13,14,15]:\n",
    "            decade.append(90)\n",
    "        else:\n",
    "            decade.append(np.NaN)\n",
    "    movement = pd.Series(movement)\n",
    "    decade = pd.Series(decade)\n",
    "    df['decade']=decade\n",
    "    df['movement']=movement\n",
    "             \n",
    "    cameo_intl = []\n",
    "    for val in df['CAMEO_INTL_2015']:\n",
    "        try:\n",
    "            val = int(val)\n",
    "            if 10 < val < 19:\n",
    "                cameo_intl.append(5)\n",
    "            elif 20 < val < 29:\n",
    "                cameo_intl.append(4)\n",
    "            elif 30 < val < 39:\n",
    "                cameo_intl.append(3)\n",
    "            elif 40 < val < 49:\n",
    "                cameo_intl.append(2)\n",
    "            elif 50 < val < 59:\n",
    "                cameo_intl.append(1)\n",
    "            else:\n",
    "                cameo_intl.append(np.nan)\n",
    "        except:\n",
    "            cameo_intl.append(np.nan)\n",
    "    cameo_intl = pd.Series(cameo_intl)\n",
    "    df['cameo_intl'] = cameo_intl\n",
    "    df.drop(['CAMEO_INTL_2015','PRAEGENDE_JUGENDJAHRE'],axis=1,inplace=True)            \n",
    "            \n",
    "    return df\n",
    "    "
   ]
  },
  {
   "cell_type": "code",
   "execution_count": 44,
   "metadata": {},
   "outputs": [],
   "source": [
    "# # test the cleaning func (x-corr. was excluded for runtime / CO2 concerns => needs 10s of min. on fast PC)\n",
    "# test_clean_funct_azi = azdias[:]\n",
    "# test_df = clean_data(test_clean_funct_azi) "
   ]
  },
  {
   "cell_type": "markdown",
   "metadata": {},
   "source": [
    "## Step 2: Feature Transformation\n",
    "\n",
    "### Step 2.1: Apply Feature Scaling\n",
    "\n",
    "Before we apply dimensionality reduction techniques to the data, we need to perform feature scaling so that the principal component vectors are not influenced by the natural differences in scale for features. Starting from this part of the project, you'll want to keep an eye on the [API reference page for sklearn](http://scikit-learn.org/stable/modules/classes.html) to help you navigate to all of the classes and functions that you'll need. In this substep, you'll need to check the following:\n",
    "\n",
    "- sklearn requires that data not have missing values in order for its estimators to work properly. So, before applying the scaler to your data, make sure that you've cleaned the DataFrame of the remaining missing values. This can be as simple as just removing all data points with missing data, or applying an [Imputer](https://scikit-learn.org/0.16/modules/generated/sklearn.preprocessing.Imputer.html) to replace all missing values. You might also try a more complicated procedure where you temporarily remove missing values in order to compute the scaling parameters before re-introducing those missing values and applying imputation. Think about how much missing data you have and what possible effects each approach might have on your analysis, and justify your decision in the discussion section below.\n",
    "- For the actual scaling function, a [StandardScaler](http://scikit-learn.org/stable/modules/generated/sklearn.preprocessing.StandardScaler.html) instance is suggested, scaling each feature to mean 0 and standard deviation 1.\n",
    "- For these classes, you can make use of the `.fit_transform()` method to both fit a procedure to the data as well as apply the transformation to the data at the same time. Don't forget to keep the fit sklearn objects handy, since you'll be applying them to the customer demographics data towards the end of the project."
   ]
  },
  {
   "cell_type": "code",
   "execution_count": 45,
   "metadata": {},
   "outputs": [
    {
     "name": "stdout",
     "output_type": "stream",
     "text": [
      "Residual missing values:\n",
      "RETOURTYP_BK_S          4684\n",
      "W_KEIT_KIND_HH         33294\n",
      "ANZ_HH_TITEL            3860\n",
      "KONSUMNAEHE               71\n",
      "KBA05_ANTG1            40106\n",
      "KBA05_ANTG2            40106\n",
      "KBA05_ANTG3            40106\n",
      "KBA05_ANTG4            40106\n",
      "KBA05_GBZ              40106\n",
      "BALLRAUM                 592\n",
      "EWDICHTE                 592\n",
      "INNENSTADT               592\n",
      "GEBAEUDETYP_RASTER         7\n",
      "KKK                    27984\n",
      "MOBI_REGIO             40106\n",
      "ONLINE_AFFINITAET       4684\n",
      "REGIOTYP               27984\n",
      "KBA13_ANZAHL_PKW       12618\n",
      "PLZ8_ANTG1             23297\n",
      "PLZ8_ANTG2             23297\n",
      "PLZ8_ANTG3             23297\n",
      "PLZ8_ANTG4             23297\n",
      "PLZ8_HHZ               23297\n",
      "PLZ8_GBZ               23297\n",
      "ARBEIT                  4068\n",
      "ORTSGR_KLS9             4068\n",
      "RELAT_AB                4068\n",
      "movement              109627\n",
      "decade                109627\n",
      "cameo_intl             89357\n",
      "dtype: int64\n"
     ]
    }
   ],
   "source": [
    "print('Residual missing values:')\n",
    "print(azdias_ohe.isnull().sum()[azdias_ohe.isnull().sum()>0])"
   ]
  },
  {
   "cell_type": "markdown",
   "metadata": {},
   "source": [
    "### Use numpy arrays for our large dataset"
   ]
  },
  {
   "cell_type": "code",
   "execution_count": 47,
   "metadata": {},
   "outputs": [],
   "source": [
    "# Imputation with the column median (more robust than the mean if non-gaussians)\n",
    "imputer = SimpleImputer(strategy='median')\n",
    "azdias_imp = imputer.fit_transform(azdias_ohe)"
   ]
  },
  {
   "cell_type": "code",
   "execution_count": 48,
   "metadata": {},
   "outputs": [],
   "source": [
    "# Apply feature scaling to the general population demographics data.\n",
    "scaler = StandardScaler()\n",
    "azdias_imp = scaler.fit_transform(azdias_imp)"
   ]
  },
  {
   "cell_type": "code",
   "execution_count": 49,
   "metadata": {},
   "outputs": [
    {
     "name": "stdout",
     "output_type": "stream",
     "text": [
      "(798003, 286)\n"
     ]
    }
   ],
   "source": [
    "# Convert the NumPy array back to an imputed&scaled \"is\" DataFrame\n",
    "azdias_is = pd.DataFrame(data=azdias_imp, columns=azdias_ohe.columns)\n",
    "print(azdias_is.shape)\n",
    "# azdias_is.describe()"
   ]
  },
  {
   "cell_type": "markdown",
   "metadata": {},
   "source": [
    "### Discussion 2.1: Apply Feature Scaling\n",
    "\n",
    "For the sake of statistical robustness, I opted to impute the missing data using the median value within each column. Following that, I applied the StandardScaler to standardize the data. This step ensures that when performing PCA, the principal components are computed using consistent ranges of values following a standard distribution. Additionally, for K-Means clustering, this standardization enables the grouping of similar values based on their relative dispersion, rather than focusing solely on absolute values. \n",
    "\n",
    "Q: Why use sklearn and np arrays? The reason our DataFrame was converted to a NumPy array before imputation and scaling is because the `SimpleImputer` and `StandardScaler` from scikit-learn work with NumPy arrays, which are more memory-efficient and optimized for numerical operations compared to pandas DataFrames. This conversion is done to take advantage of the performance benefits provided by NumPy when performing operations on large datasets.\n",
    "\n",
    "In our code, we first converted our DataFrame `azdias_ohe` to a NumPy array using the `fit_transform()` method of the `SimpleImputer`. Then, we applied the `StandardScaler` to the NumPy array using the `fit_transform()` method again. Finally, we converted the scaled NumPy array back to a DataFrame for easier analysis and visualization.\n",
    "\n",
    "Although we could directly apply these transformations to a pandas DataFrame using custom functions, scikit-learn provides efficient and optimized implementations for common preprocessing tasks. This is why it's common practice to convert DataFrames to NumPy arrays temporarily during these preprocessing steps before converting them back if needed."
   ]
  },
  {
   "cell_type": "markdown",
   "metadata": {},
   "source": [
    "### Step 2.2: Perform Dimensionality Reduction\n",
    "\n",
    "On your scaled data, you are now ready to apply dimensionality reduction techniques.\n",
    "\n",
    "- Use sklearn's [PCA](http://scikit-learn.org/stable/modules/generated/sklearn.decomposition.PCA.html) class to apply principal component analysis on the data, thus finding the vectors of maximal variance in the data. To start, you should not set any parameters (so all components are computed) or set a number of components that is at least half the number of features (so there's enough features to see the general trend in variability).\n",
    "- Check out the ratio of variance explained by each principal component as well as the cumulative variance explained. Try plotting the cumulative or sequential values using matplotlib's [`plot()`](https://matplotlib.org/api/_as_gen/matplotlib.pyplot.plot.html) function. Based on what you find, select a value for the number of transformed features you'll retain for the clustering part of the project.\n",
    "- Once you've made a choice for the number of components to keep, make sure you re-fit a PCA instance to perform the decided-on transformation."
   ]
  },
  {
   "cell_type": "code",
   "execution_count": 50,
   "metadata": {},
   "outputs": [],
   "source": [
    "# Apply PCA to the data.\n",
    "start_time = time.time()\n",
    "pca = PCA()\n",
    "azdias_pca = pca.fit_transform(azdias_is)"
   ]
  },
  {
   "cell_type": "code",
   "execution_count": 51,
   "metadata": {},
   "outputs": [
    {
     "data": {
      "image/png": "[encoded data removed]",
      "text/plain": [
       "<Figure size 1600x600 with 1 Axes>"
      ]
     },
     "metadata": {},
     "output_type": "display_data"
    }
   ],
   "source": [
    "# Investigate the variance accounted for by each principal component.\n",
    "def scree_plot(pca,show_labels=False):\n",
    "    '''\n",
    "    Creates a scree plot associated with the principal components \n",
    "    \n",
    "    INPUT: pca - the result of instantian of PCA in scikit learn\n",
    "            \n",
    "    OUTPUT:\n",
    "            None\n",
    "    '''\n",
    "    num_components=len(pca.explained_variance_ratio_)\n",
    "    ind = np.arange(num_components)\n",
    "    vals = pca.explained_variance_ratio_\n",
    " \n",
    "    plt.figure(figsize=(16, 6))\n",
    "    ax = plt.subplot(111)\n",
    "    cumvals = np.cumsum(vals)\n",
    "    ax.bar(ind, vals)\n",
    "    ax.plot(ind, cumvals)\n",
    "    \n",
    "    if show_labels:\n",
    "        for i in range(num_components):\n",
    "            ax.annotate(r\"%s%%\" % ((str(vals[i]*100)[:4])), (ind[i]+0.2, vals[i]), va=\"bottom\", ha=\"center\", fontsize=12)\n",
    " \n",
    "    ax.xaxis.set_tick_params(width=0)\n",
    "    ax.yaxis.set_tick_params(width=2, length=12)\n",
    " \n",
    "    ax.set_xlabel(\"Principal Component\")\n",
    "    ax.set_ylabel(\"Variance Explained (%)\")\n",
    "    plt.title('Explained Variance Per Principal Component')\n",
    "\n",
    "scree_plot(pca)\n"
   ]
  },
  {
   "cell_type": "code",
   "execution_count": 52,
   "metadata": {},
   "outputs": [
    {
     "name": "stdout",
     "output_type": "stream",
     "text": [
      "               Explained Variance  Cumulatively Explained Variance\n",
      "Dimension 1                0.0619                           0.0619\n",
      "Dimension 2                0.0438                           0.1057\n",
      "Dimension 3                0.0249                           0.1306\n",
      "Dimension 4                0.0219                           0.1525\n",
      "Dimension 5                0.0197                           0.1722\n",
      "...                           ...                              ...\n",
      "Dimension 124              0.0035                           0.8145\n",
      "Dimension 125              0.0035                           0.8180\n",
      "Dimension 126              0.0035                           0.8215\n",
      "Dimension 127              0.0035                           0.8250\n",
      "Dimension 128              0.0035                           0.8285\n",
      "\n",
      "[128 rows x 2 columns]\n"
     ]
    }
   ],
   "source": [
    "def pca_results(full_dataset, pca):\n",
    "\t'''\n",
    "\tCreate PCA df\n",
    "\tIncludes the individual explained variance and also the cummulative var.\n",
    "\t'''\n",
    "\n",
    "\t# Dim index\n",
    "\tdimensions = dimensions = ['Dimension {}'.format(i) for i in range(1,len(pca.components_)+1)]\n",
    "\n",
    "\t# PCA component\n",
    "\tcomponents = pd.DataFrame(np.round(pca.components_, 4))\n",
    "\tcomponents.index = dimensions\n",
    "\n",
    "\t# PCA-explained variance\n",
    "\tratios = pca.explained_variance_ratio_.reshape(len(pca.components_), 1)\n",
    "\tvariance_ratios = pd.DataFrame(np.round(ratios, 4), columns = ['Explained Variance'])\n",
    "\tvariance_ratios.index = dimensions\n",
    "\n",
    "\t# Return concatenated df\n",
    "\treturn variance_ratios\n",
    "\n",
    "azdias_pca_result=pca_results(azdias_is, pca)\n",
    "azdias_pca_result['Cumulatively Explained Variance']=azdias_pca_result['Explained Variance'].cumsum()\n",
    "print(azdias_pca_result[azdias_pca_result['Cumulatively Explained Variance']<=0.83])"
   ]
  },
  {
   "cell_type": "markdown",
   "metadata": {},
   "source": [
    "### Decision time on PCA subset: retain 128 \n",
    "-  ~40 components explain 50% variance\n",
    "-  ~80 components explain 66% variance\n",
    "- 105 components explain 75% variance\n",
    "- 120 components explain 80% variance\n",
    "- 135 components explain 85% variance\n",
    "- 150 components explain 90% variance"
   ]
  },
  {
   "cell_type": "code",
   "execution_count": 53,
   "metadata": {},
   "outputs": [],
   "source": [
    "# Re-apply PCA selecting no. of components to retain.\n",
    "pca = PCA(n_components=128, random_state=42)\n",
    "azdias_pca = pca.fit_transform(azdias_is)"
   ]
  },
  {
   "cell_type": "markdown",
   "metadata": {},
   "source": [
    "### Discussion 2.2: Perform Dimensionality Reduction 284:128\n",
    "\n",
    "Starting from 284 features (after feat. eng., cleaning, OH-encoding, imputation etc.) we focus on the most 'productive' segment of the PCA scree plot:\n",
    "\n",
    "-  ~80 (~1/3 of the) components explain 66% (~2/3 of the) variance\n",
    "- 105 components explain 75% variance\n",
    "- 120 components explain 80% variance\n",
    "- 135 (<1/2 of the) components explain 85% (~9/10 of the) variance\n",
    "\n",
    "=> Starting choice: Dimensions [0-127] (power of 2 for efficiency) cumulatively explain 83% of the variance."
   ]
  },
  {
   "cell_type": "markdown",
   "metadata": {},
   "source": [
    "### Step 2.3: Interpret Principal Components\n",
    "\n",
    "Now that we have our transformed principal components, it's a nice idea to check out the weight of each variable on the first few components to see if they can be interpreted in some fashion.\n",
    "\n",
    "As a reminder, each principal component is a unit vector that points in the direction of highest variance (after accounting for the variance captured by earlier principal components). The further a weight is from zero, the more the principal component is in the direction of the corresponding feature. If two features have large weights of the same sign (both positive or both negative), then increases in one tend expect to be associated with increases in the other. To contrast, features with different signs can be expected to show a negative correlation: increases in one variable should result in a decrease in the other.\n",
    "\n",
    "- To investigate the features, you should map each weight to their corresponding feature name, then sort the features according to weight. The most interesting features for each principal component, then, will be those at the beginning and end of the sorted list. Use the data dictionary document to help you understand these most prominent features, their relationships, and what a positive or negative value on the principal component might indicate.\n",
    "- You should investigate and interpret feature associations from the first three principal components in this substep. To help facilitate this, you should write a function that you can call at any time to print the sorted list of feature weights, for the *i*-th principal component. This might come in handy in the next step of the project, when you interpret the tendencies of the discovered clusters."
   ]
  },
  {
   "cell_type": "code",
   "execution_count": 54,
   "metadata": {},
   "outputs": [
    {
     "data": {
      "image/png": "[encoded data removed]",
      "text/plain": [
       "<Figure size 800x300 with 1 Axes>"
      ]
     },
     "metadata": {},
     "output_type": "display_data"
    },
    {
     "name": "stdout",
     "output_type": "stream",
     "text": [
      "LP_STATUS_GROB_1.0    0.1836\n",
      "PLZ8_ANTG3            0.1736\n",
      "HH_EINKOMMEN_SCORE    0.1699\n",
      "PLZ8_ANTG4            0.1682\n",
      "ORTSGR_KLS9           0.1505\n",
      "KBA05_GBZ            -0.1707\n",
      "FINANZ_MINIMALIST    -0.1736\n",
      "PLZ8_ANTG1           -0.1744\n",
      "KBA05_ANTG1          -0.1799\n",
      "MOBI_REGIO           -0.1928\n",
      "Name: 0, dtype: float64\n"
     ]
    }
   ],
   "source": [
    "# Map weights for the first principal component to corresponding feature names\n",
    "# and then print the linked values, sorted by weight.\n",
    "# HINT: Try defining a function here or in a new cell that you can reuse in the\n",
    "# other cells.\n",
    "\n",
    "def pca_plot(df, pca, comp_no, feat_no):\n",
    "    \n",
    "    # Build df w/ the feat_no resonsible for most variability for comp_no\n",
    "    pca_comp = pd.DataFrame(np.round(pca.components_, 4), columns=df.keys()).iloc[comp_no - 1]\n",
    "    pca_comp.sort_values(ascending=False, inplace=True)\n",
    "    pca_comp = pd.concat([pca_comp.head(feat_no), pca_comp.tail(feat_no)])\n",
    "       \n",
    "    # Plot in default color/blue\n",
    "    pca_comp.plot(kind='bar', \n",
    "                  title='Top {} features for PCA component {}'.format(feat_no*2, comp_no),\n",
    "                  figsize=(8, 3))\n",
    "    plt.show()\n",
    "    \n",
    "    return pca_comp\n",
    "\n",
    "# test 1t principal component\n",
    "p = pca_plot(azdias_is, pca, 1, 5)\n",
    "print(p)\n"
   ]
  },
  {
   "cell_type": "markdown",
   "metadata": {},
   "source": [
    "###  1st Component PCA\n",
    "+correlation between social status, household net income, large family homes, community size.\n",
    "\n",
    "-correlation with housing density, movement patterns, small family homes, and low financial interest.\n",
    "- LP_STATUS_GROB_1.0    0.1842 => Status\n",
    "- PLZ8_ANTG3            0.1736 => 6-10 family houses in region\n",
    "- HH_EINKOMMEN_SCORE    0.1701 => Est. Household net income\n",
    "- PLZ8_ANTG4            0.1680 => 10+ family homes in region\n",
    "- ORTSGR_KLS9           0.1511 => Size of community\n",
    "- KBA05_GBZ            -0.1711 => Number of buildings in the microcell\n",
    "- PLZ8_ANTG1           -0.1739 => Number of 1-2 family houses in the PLZ8 region\n",
    "- FINANZ_MINIMALIST    -0.1747 => (shows) low financial interest\n",
    "- KBA05_ANTG1          -0.1800 => Number of 1-2 family houses in the microcell\n",
    "- MOBI_REGIO           -0.1933 => Movement patterns"
   ]
  },
  {
   "cell_type": "code",
   "execution_count": 55,
   "metadata": {},
   "outputs": [
    {
     "data": {
      "image/png": "[encoded data removed]",
      "text/plain": [
       "<Figure size 800x300 with 1 Axes>"
      ]
     },
     "metadata": {},
     "output_type": "display_data"
    },
    {
     "name": "stdout",
     "output_type": "stream",
     "text": [
      "FINANZ_VORSORGER         0.2156\n",
      "ALTERSKATEGORIE_GROB     0.2071\n",
      "ZABEOTYP_3               0.1872\n",
      "SEMIO_ERL                0.1606\n",
      "SEMIO_LUST               0.1517\n",
      "SEMIO_PFLICHT           -0.1964\n",
      "SEMIO_REL               -0.1993\n",
      "FINANZ_ANLEGER          -0.2003\n",
      "FINANZ_UNAUFFAELLIGER   -0.2107\n",
      "FINANZ_SPARER           -0.2261\n",
      "Name: 1, dtype: float64\n"
     ]
    }
   ],
   "source": [
    "# Map weights for the second principal component to corresponding feature names\n",
    "# and then print the linked values, sorted by weight.\n",
    "p = pca_plot(azdias_is, pca, 2, 5)\n",
    "print(p)\n"
   ]
  },
  {
   "cell_type": "markdown",
   "metadata": {},
   "source": [
    "###  2nd Component PCA\n",
    "+correlation => provider, age, event-oriented, hedonic...\n",
    "\n",
    "-correlation => saver, investor, dutiful, religious...\n",
    "- FINANZ_VORSORGER         0.2161 => Provider, financially prepared\n",
    "- ALTERSKATEGORIE_GROB     0.2069 => Estimated age based on given name analysis\n",
    "- ZABEOTYP_3               0.1873 => Energy consumption typology, fair supplied\n",
    "- SEMIO_ERL                0.1606 => Personality typology, event-oriented\n",
    "- SEMIO_LUST               0.1516 => Personality typology, sensual / hedonistic\n",
    "- SEMIO_PFLICHT           -0.1958 => Personality typology, dutiful\n",
    "- SEMIO_REL               -0.1989 => Personality typology, religious\n",
    "- FINANZ_ANLEGER          -0.2009 => Investor\n",
    "- FINANZ_UNAUFFAELLIGER   -0.2095 => Inconspicuous\n",
    "- FINANZ_SPARER           -0.2255 => Saver"
   ]
  },
  {
   "cell_type": "code",
   "execution_count": 56,
   "metadata": {},
   "outputs": [
    {
     "data": {
      "image/png": "[encoded data removed]",
      "text/plain": [
       "<Figure size 800x300 with 1 Axes>"
      ]
     },
     "metadata": {},
     "output_type": "display_data"
    },
    {
     "name": "stdout",
     "output_type": "stream",
     "text": [
      "SEMIO_VERT           0.3065\n",
      "SEMIO_SOZ            0.2511\n",
      "SEMIO_KULT           0.2494\n",
      "SEMIO_FAM            0.2487\n",
      "FINANZ_MINIMALIST    0.1251\n",
      "SEMIO_ERL           -0.2150\n",
      "SEMIO_KRIT          -0.2548\n",
      "SEMIO_DOM           -0.2595\n",
      "SEMIO_KAEM          -0.2962\n",
      "ANREDE_KZ           -0.3276\n",
      "Name: 2, dtype: float64\n"
     ]
    }
   ],
   "source": [
    "# Map weights for the third principal component to corresponding feature names\n",
    "# and then print the linked values, sorted by weight.\n",
    "p = pca_plot(azdias_is, pca, 3, 5)\n",
    "print(p)\n"
   ]
  },
  {
   "cell_type": "markdown",
   "metadata": {},
   "source": [
    "###  3rd Component PCA\n",
    "+correlation => gender, fighter, dominant, criticizer...\n",
    "\n",
    "-correlation => family-oriented, dreamer, low financial interests, culture, social...\n",
    "- ANREDE_KZ            0.3275 => Gender (1-M, 2-F)\n",
    "- SEMIO_KAEM           0.2956 => Personality: Combative Attitude\n",
    "- SEMIO_DOM            0.2588 => Personality: Dominant-minded\t\n",
    "- SEMIO_KRIT           0.2543 => Personality: Critical-minded\t\n",
    "- SEMIO_ERL            0.2150 => Personality: Event-oriented\n",
    "- FINANZ_MINIMALIST   -0.1246 => Financial typology: low financial interest\n",
    "- SEMIO_FAM           -0.2490 => Personality: Family-minded\n",
    "- SEMIO_KULT          -0.2492 => Personality: Cultural-minded\n",
    "- SEMIO_SOZ           -0.2509 => Personality: Socially-minded\n",
    "- SEMIO_VERT          -0.3061 => Personality: Dreamful"
   ]
  },
  {
   "cell_type": "code",
   "execution_count": 57,
   "metadata": {},
   "outputs": [
    {
     "data": {
      "text/plain": [
       "0.13057844037319385"
      ]
     },
     "execution_count": 57,
     "metadata": {},
     "output_type": "execute_result"
    }
   ],
   "source": [
    "# How reliable are the top 3 components vs. the full dataset?\n",
    "pca.explained_variance_ratio_[:3].sum()"
   ]
  },
  {
   "cell_type": "markdown",
   "metadata": {},
   "source": [
    "### Discussion 2.3: Interpret Principal Components\n",
    "\n",
    "####  1st Component PCA => Financial, status, wealth, estate\n",
    "+correlation between social status, household net income, large family homes, community size.\n",
    "\n",
    "-correlation with housing density, movement patterns, small family homes, and low financial interest.\n",
    "\n",
    "####  2nd Component PCA => Personality / character and age\n",
    "+correlation => provider, age, event-oriented, hedonic...\n",
    "\n",
    "-correlation => saver, investor, dutiful, religious...\n",
    "\n",
    "####  3rd Component PCA => Personality / leadership, gender\n",
    "+correlation => gender, fighter, dominant, criticizer...\n",
    "\n",
    "-correlation => family-oriented, dreamer, low financial interests, culture, social...\n",
    "\n",
    "However intuitive, all the above features cumulated can explain merely 13% of the variance; hence the need for further analysis."
   ]
  },
  {
   "cell_type": "markdown",
   "metadata": {},
   "source": [
    "## Step 3: Clustering\n",
    "\n",
    "### Step 3.1: Apply Clustering to General Population\n",
    "\n",
    "You've assessed and cleaned the demographics data, then scaled and transformed them. Now, it's time to see how the data clusters in the principal components space. In this substep, you will apply k-means clustering to the dataset and use the average within-cluster distances from each point to their assigned cluster's centroid to decide on a number of clusters to keep.\n",
    "\n",
    "- Use sklearn's [KMeans](http://scikit-learn.org/stable/modules/generated/sklearn.cluster.KMeans.html#sklearn.cluster.KMeans) class to perform k-means clustering on the PCA-transformed data.\n",
    "- Then, compute the average difference from each point to its assigned cluster's center. **Hint**: The KMeans object's `.score()` method might be useful here, but note that in sklearn, scores tend to be defined so that larger is better. Try applying it to a small, toy dataset, or use an internet search to help your understanding.\n",
    "- Perform the above two steps for a number of different cluster counts. You can then see how the average distance decreases with an increasing number of clusters. However, each additional cluster provides a smaller net benefit. Use this fact to select a final number of clusters in which to group the data. **Warning**: because of the large size of the dataset, it can take a long time for the algorithm to resolve. The more clusters to fit, the longer the algorithm will take. You should test for cluster counts through at least 10 clusters to get the full picture, but you shouldn't need to test for a number of clusters above about 30.\n",
    "- Once you've selected a final number of clusters to use, re-fit a KMeans instance to perform the clustering operation. Make sure that you also obtain the cluster assignments for the general demographics data, since you'll be using them in the final Step 3.3."
   ]
  },
  {
   "cell_type": "markdown",
   "metadata": {},
   "source": [
    "Segment#1, K= 3-11 yields a line w/o curvature :-("
   ]
  },
  {
   "cell_type": "markdown",
   "metadata": {},
   "source": [
    "Segment#2, K= 11-20 yields a line w/ small inflexions; will re-fit the K-means with step 1"
   ]
  },
  {
   "cell_type": "markdown",
   "metadata": {},
   "source": [
    "Segment#3, K=20-32 yields a line with inflexion around k=24 (too high for practical use!)"
   ]
  },
  {
   "cell_type": "code",
   "execution_count": null,
   "metadata": {},
   "outputs": [],
   "source": [
    "# re-run all K=4-36, step 4\n",
    "score = {}\n",
    "for k in range(4,36,4):\n",
    "    # run k-means clustering \n",
    "    score[k] = np.abs(KMeans(n_clusters=k, n_init=8).fit(azdias_pca).score(azdias_pca))\n",
    "    print('K=',k, 'SSE=',score[k])\n",
    "print(score)"
   ]
  },
  {
   "cell_type": "code",
   "execution_count": 60,
   "metadata": {},
   "outputs": [
    {
     "data": {
      "text/plain": [
       "Text(0, 0.5, 'SSE score / Total distance to centroids')"
      ]
     },
     "execution_count": 60,
     "metadata": {},
     "output_type": "execute_result"
    },
    {
     "data": {
      "image/png": "[encoded data removed]",
      "text/plain": [
       "<Figure size 800x500 with 1 Axes>"
      ]
     },
     "metadata": {},
     "output_type": "display_data"
    }
   ],
   "source": [
    "# Adjust the x-axis ticks to match the available keys in our data\n",
    "x_ticks = np.array(list(score.keys()))\n",
    "\n",
    "# Plot the SSE scores\n",
    "fig, ax = plt.subplots(figsize=(8,5))    \n",
    "ax = pd.Series(score).plot(marker='o', color='slategray')\n",
    "ax.set_xticks(x_ticks, minor=False)\n",
    "ax.set_xlabel(\"# of Clusters\")\n",
    "ax.set_ylabel(\"SSE score / Total distance to centroids\")"
   ]
  },
  {
   "cell_type": "markdown",
   "metadata": {},
   "source": [
    "### Step 4 doesn't reveal any elbow; try step 1, then silhouette..."
   ]
  },
  {
   "cell_type": "code",
   "execution_count": 122,
   "metadata": {},
   "outputs": [
    {
     "name": "stdout",
     "output_type": "stream",
     "text": [
      "{4: 166208005.42070496, 5: 163042859.42951027, 6: 160798836.01562145, 7: 158121605.89577234, 8: 155201658.7181421, 9: 153761151.80872482, 10: 151221039.74029517, 11: 149317642.85854292, 12: 146446145.339635, 13: 145513202.3438724, 14: 143539707.52487576, 15: 141976383.69736385, 16: 140989756.81171888, 17: 136221237.41200042, 18: 137410490.73507592, 19: 135384378.22883153, 20: 134384398.41719872, 21: 133354958.37676018, 22: 130871784.10723785, 23: 130871343.12289357, 24: 128758328.65348282, 25: 127003426.59056313, 26: 126893367.69323432, 27: 124916346.3090513}\n"
     ]
    },
    {
     "data": {
      "text/plain": [
       "Text(0, 0.5, 'Total Distance to centroid')"
      ]
     },
     "execution_count": 122,
     "metadata": {},
     "output_type": "execute_result"
    },
    {
     "data": {
      "image/png": "[encoded data removed]",
      "text/plain": [
       "<Figure size 800x500 with 1 Axes>"
      ]
     },
     "metadata": {},
     "output_type": "display_data"
    }
   ],
   "source": [
    "# # re-run all K=4-36, step 1 (slow!)\n",
    "# score = {}\n",
    "# for k in range(4,36,4):\n",
    "#     # run k-means clustering \n",
    "#     score[k] = np.abs(KMeans(n_clusters=k, n_init=8).fit(azdias_pca).score(azdias_pca))\n",
    "#     print('K=',k, 'SSE=',score[k])\n",
    "# print(score)"
   ]
  },
  {
   "cell_type": "markdown",
   "metadata": {},
   "source": [
    "The plots with steps 1 and 2 have neither inflexions nor elbow points; possibly statistical artifacts (e.g., due to K-mean's n_init) are visible at K=22 and  K=17 (SSE= 136221237...)"
   ]
  },
  {
   "cell_type": "code",
   "execution_count": 61,
   "metadata": {},
   "outputs": [],
   "source": [
    "# Re-fit the k-means model with the selected number of clusters and obtain\n",
    "# cluster predictions for the general population demographics data.\n",
    "kmeans = KMeans(n_clusters=16, n_init=8)\n",
    "final_model = kmeans.fit(azdias_pca)\n"
   ]
  },
  {
   "cell_type": "markdown",
   "metadata": {},
   "source": [
    "#### Final fit the general population with K-Mean cluster model "
   ]
  },
  {
   "cell_type": "code",
   "execution_count": 62,
   "metadata": {},
   "outputs": [],
   "source": [
    "gen_kmean = final_model.predict(azdias_pca)"
   ]
  },
  {
   "cell_type": "markdown",
   "metadata": {},
   "source": [
    "### Discussion 3.1: Apply Clustering to General Population\n",
    "\n",
    "#### General considerations \n",
    "Domain Knowledge: Consider the nature of our data and the problem we're trying to solve. Sometimes, domain knowledge can provide insights into the expected number of clusters. For example, if we are dealing with customer segmentation, the number of distinct customer segments may be known based on business rules or market research.\n",
    "\n",
    "Practical Implications: Consider also the practical implications of having a certain number of clusters, e.g., 8-16. Will the resulting clusters be useful and actionable? Will they help you achieve our goals or answer the questions we have about our data?\n",
    "\n",
    "Since \n",
    "- (a) our large corpus (800K rows and 135 columns, from 284...!) can't be trivially compressed into just a few clusters, \n",
    "- (b) I lack the SME and/or tribal knowledge in the field,  \n",
    "i'll choose k=16 clusters based on the above. \n",
    "\n",
    "Obs: GMM and EM could be also used later to refine these results."
   ]
  },
  {
   "cell_type": "markdown",
   "metadata": {},
   "source": [
    "### Step 3.2: Apply All Steps to the Customer Data\n",
    "\n",
    "Now that you have clusters and cluster centers for the general population, it's time to see how the customer data maps on to those clusters. Take care to not confuse this for re-fitting all of the models to the customer data. Instead, you're going to use the fits from the general population to clean, transform, and cluster the customer data. In the last step of the project, you will interpret how the general population fits apply to the customer data.\n",
    "\n",
    "- Don't forget when loading in the customers data, that it is semicolon (`;`) delimited.\n",
    "- Apply the same feature wrangling, selection, and engineering steps to the customer demographics using the `clean_data()` function you created earlier. (You can assume that the customer demographics data has similar meaning behind missing data patterns as the general demographics data.)\n",
    "- Use the sklearn objects from the general demographics data, and apply their transformations to the customers data. That is, you should not be using a `.fit()` or `.fit_transform()` method to re-fit the old objects, nor should you be creating new sklearn objects! Carry the data through the feature scaling, PCA, and clustering steps, obtaining cluster assignments for all of the data in the customer demographics data."
   ]
  },
  {
   "cell_type": "code",
   "execution_count": 72,
   "metadata": {},
   "outputs": [
    {
     "data": {
      "text/html": [
       "<div>\n",
       "<style scoped>\n",
       "    .dataframe tbody tr th:only-of-type {\n",
       "        vertical-align: middle;\n",
       "    }\n",
       "\n",
       "    .dataframe tbody tr th {\n",
       "        vertical-align: top;\n",
       "    }\n",
       "\n",
       "    .dataframe thead th {\n",
       "        text-align: right;\n",
       "    }\n",
       "</style>\n",
       "<table border=\"1\" class=\"dataframe\">\n",
       "  <thead>\n",
       "    <tr style=\"text-align: right;\">\n",
       "      <th></th>\n",
       "      <th>AGER_TYP</th>\n",
       "      <th>ALTERSKATEGORIE_GROB</th>\n",
       "      <th>ANREDE_KZ</th>\n",
       "      <th>CJT_GESAMTTYP</th>\n",
       "      <th>FINANZ_MINIMALIST</th>\n",
       "      <th>FINANZ_SPARER</th>\n",
       "      <th>FINANZ_VORSORGER</th>\n",
       "      <th>FINANZ_ANLEGER</th>\n",
       "      <th>FINANZ_UNAUFFAELLIGER</th>\n",
       "      <th>FINANZ_HAUSBAUER</th>\n",
       "      <th>...</th>\n",
       "      <th>PLZ8_ANTG1</th>\n",
       "      <th>PLZ8_ANTG2</th>\n",
       "      <th>PLZ8_ANTG3</th>\n",
       "      <th>PLZ8_ANTG4</th>\n",
       "      <th>PLZ8_BAUMAX</th>\n",
       "      <th>PLZ8_HHZ</th>\n",
       "      <th>PLZ8_GBZ</th>\n",
       "      <th>ARBEIT</th>\n",
       "      <th>ORTSGR_KLS9</th>\n",
       "      <th>RELAT_AB</th>\n",
       "    </tr>\n",
       "  </thead>\n",
       "  <tbody>\n",
       "    <tr>\n",
       "      <th>0</th>\n",
       "      <td>2</td>\n",
       "      <td>4</td>\n",
       "      <td>1</td>\n",
       "      <td>5.0</td>\n",
       "      <td>5</td>\n",
       "      <td>1</td>\n",
       "      <td>5</td>\n",
       "      <td>1</td>\n",
       "      <td>2</td>\n",
       "      <td>2</td>\n",
       "      <td>...</td>\n",
       "      <td>3.0</td>\n",
       "      <td>3.0</td>\n",
       "      <td>1.0</td>\n",
       "      <td>0.0</td>\n",
       "      <td>1.0</td>\n",
       "      <td>5.0</td>\n",
       "      <td>5.0</td>\n",
       "      <td>1.0</td>\n",
       "      <td>2.0</td>\n",
       "      <td>1.0</td>\n",
       "    </tr>\n",
       "    <tr>\n",
       "      <th>1</th>\n",
       "      <td>-1</td>\n",
       "      <td>4</td>\n",
       "      <td>1</td>\n",
       "      <td>NaN</td>\n",
       "      <td>5</td>\n",
       "      <td>1</td>\n",
       "      <td>5</td>\n",
       "      <td>1</td>\n",
       "      <td>3</td>\n",
       "      <td>2</td>\n",
       "      <td>...</td>\n",
       "      <td>NaN</td>\n",
       "      <td>NaN</td>\n",
       "      <td>NaN</td>\n",
       "      <td>NaN</td>\n",
       "      <td>NaN</td>\n",
       "      <td>NaN</td>\n",
       "      <td>NaN</td>\n",
       "      <td>NaN</td>\n",
       "      <td>NaN</td>\n",
       "      <td>NaN</td>\n",
       "    </tr>\n",
       "    <tr>\n",
       "      <th>2</th>\n",
       "      <td>-1</td>\n",
       "      <td>4</td>\n",
       "      <td>2</td>\n",
       "      <td>2.0</td>\n",
       "      <td>5</td>\n",
       "      <td>1</td>\n",
       "      <td>5</td>\n",
       "      <td>1</td>\n",
       "      <td>4</td>\n",
       "      <td>4</td>\n",
       "      <td>...</td>\n",
       "      <td>2.0</td>\n",
       "      <td>3.0</td>\n",
       "      <td>3.0</td>\n",
       "      <td>1.0</td>\n",
       "      <td>3.0</td>\n",
       "      <td>3.0</td>\n",
       "      <td>2.0</td>\n",
       "      <td>3.0</td>\n",
       "      <td>5.0</td>\n",
       "      <td>3.0</td>\n",
       "    </tr>\n",
       "    <tr>\n",
       "      <th>3</th>\n",
       "      <td>1</td>\n",
       "      <td>4</td>\n",
       "      <td>1</td>\n",
       "      <td>2.0</td>\n",
       "      <td>5</td>\n",
       "      <td>1</td>\n",
       "      <td>5</td>\n",
       "      <td>2</td>\n",
       "      <td>1</td>\n",
       "      <td>2</td>\n",
       "      <td>...</td>\n",
       "      <td>3.0</td>\n",
       "      <td>2.0</td>\n",
       "      <td>1.0</td>\n",
       "      <td>0.0</td>\n",
       "      <td>1.0</td>\n",
       "      <td>3.0</td>\n",
       "      <td>4.0</td>\n",
       "      <td>1.0</td>\n",
       "      <td>3.0</td>\n",
       "      <td>1.0</td>\n",
       "    </tr>\n",
       "    <tr>\n",
       "      <th>4</th>\n",
       "      <td>-1</td>\n",
       "      <td>3</td>\n",
       "      <td>1</td>\n",
       "      <td>6.0</td>\n",
       "      <td>3</td>\n",
       "      <td>1</td>\n",
       "      <td>4</td>\n",
       "      <td>4</td>\n",
       "      <td>5</td>\n",
       "      <td>2</td>\n",
       "      <td>...</td>\n",
       "      <td>2.0</td>\n",
       "      <td>4.0</td>\n",
       "      <td>2.0</td>\n",
       "      <td>1.0</td>\n",
       "      <td>2.0</td>\n",
       "      <td>3.0</td>\n",
       "      <td>3.0</td>\n",
       "      <td>3.0</td>\n",
       "      <td>5.0</td>\n",
       "      <td>1.0</td>\n",
       "    </tr>\n",
       "  </tbody>\n",
       "</table>\n",
       "<p>5 rows × 85 columns</p>\n",
       "</div>"
      ],
      "text/plain": [
       "   AGER_TYP  ALTERSKATEGORIE_GROB  ANREDE_KZ  CJT_GESAMTTYP  \\\n",
       "0         2                     4          1            5.0   \n",
       "1        -1                     4          1            NaN   \n",
       "2        -1                     4          2            2.0   \n",
       "3         1                     4          1            2.0   \n",
       "4        -1                     3          1            6.0   \n",
       "\n",
       "   FINANZ_MINIMALIST  FINANZ_SPARER  FINANZ_VORSORGER  FINANZ_ANLEGER  \\\n",
       "0                  5              1                 5               1   \n",
       "1                  5              1                 5               1   \n",
       "2                  5              1                 5               1   \n",
       "3                  5              1                 5               2   \n",
       "4                  3              1                 4               4   \n",
       "\n",
       "   FINANZ_UNAUFFAELLIGER  FINANZ_HAUSBAUER  ...  PLZ8_ANTG1  PLZ8_ANTG2  \\\n",
       "0                      2                 2  ...         3.0         3.0   \n",
       "1                      3                 2  ...         NaN         NaN   \n",
       "2                      4                 4  ...         2.0         3.0   \n",
       "3                      1                 2  ...         3.0         2.0   \n",
       "4                      5                 2  ...         2.0         4.0   \n",
       "\n",
       "   PLZ8_ANTG3  PLZ8_ANTG4  PLZ8_BAUMAX  PLZ8_HHZ  PLZ8_GBZ  ARBEIT  \\\n",
       "0         1.0         0.0          1.0       5.0       5.0     1.0   \n",
       "1         NaN         NaN          NaN       NaN       NaN     NaN   \n",
       "2         3.0         1.0          3.0       3.0       2.0     3.0   \n",
       "3         1.0         0.0          1.0       3.0       4.0     1.0   \n",
       "4         2.0         1.0          2.0       3.0       3.0     3.0   \n",
       "\n",
       "   ORTSGR_KLS9  RELAT_AB  \n",
       "0          2.0       1.0  \n",
       "1          NaN       NaN  \n",
       "2          5.0       3.0  \n",
       "3          3.0       1.0  \n",
       "4          5.0       1.0  \n",
       "\n",
       "[5 rows x 85 columns]"
      ]
     },
     "execution_count": 72,
     "metadata": {},
     "output_type": "execute_result"
    }
   ],
   "source": [
    "# Load in the customer demographics data.\n",
    "customers = pd.read_csv('Udacity_CUSTOMERS_Subset.csv', delimiter=';')\n",
    "customers.head()"
   ]
  },
  {
   "cell_type": "code",
   "execution_count": 73,
   "metadata": {},
   "outputs": [
    {
     "name": "stderr",
     "output_type": "stream",
     "text": [
      "C:\\Users\\970986848\\AppData\\Local\\Temp\\ipykernel_5228\\2177887934.py:45: SettingWithCopyWarning: \n",
      "A value is trying to be set on a copy of a slice from a DataFrame\n",
      "\n",
      "See the caveats in the documentation: https://pandas.pydata.org/pandas-docs/stable/user_guide/indexing.html#returning-a-view-versus-a-copy\n",
      "  df.drop('no_na_row',inplace=True,axis=1)\n"
     ]
    }
   ],
   "source": [
    "# Apply preprocessing, feature transformation, and clustering from the general\n",
    "# demographics onto the customer data, obtaining cluster predictions for the\n",
    "# customer demographics data.\n",
    "\n",
    "clean_cust = clean_data(customers)"
   ]
  },
  {
   "cell_type": "code",
   "execution_count": 74,
   "metadata": {},
   "outputs": [
    {
     "data": {
      "text/plain": [
       "(141665, 270)"
      ]
     },
     "execution_count": 74,
     "metadata": {},
     "output_type": "execute_result"
    }
   ],
   "source": [
    "clean_cust.shape"
   ]
  },
  {
   "cell_type": "code",
   "execution_count": 75,
   "metadata": {},
   "outputs": [
    {
     "name": "stdout",
     "output_type": "stream",
     "text": [
      "ALTERSKATEGORIE_GROB      233\n",
      "GEBURTSJAHR             45404\n",
      "HEALTH_TYP               2326\n",
      "RETOURTYP_BK_S           3106\n",
      "VERS_TYP                 2326\n",
      "ALTER_HH                21580\n",
      "W_KEIT_KIND_HH           7902\n",
      "ANZ_HAUSHALTE_AKTIV      2431\n",
      "ANZ_HH_TITEL             2164\n",
      "KONSUMNAEHE                 6\n",
      "KBA05_ANTG1              5993\n",
      "KBA05_ANTG2              5993\n",
      "KBA05_ANTG3              5993\n",
      "KBA05_ANTG4              5993\n",
      "KBA05_GBZ                5995\n",
      "BALLRAUM                   32\n",
      "EWDICHTE                   32\n",
      "INNENSTADT                 32\n",
      "KKK                     10090\n",
      "MOBI_REGIO               5993\n",
      "ONLINE_AFFINITAET        3106\n",
      "REGIOTYP                10090\n",
      "KBA13_ANZAHL_PKW         1313\n",
      "PLZ8_ANTG1               2777\n",
      "PLZ8_ANTG2               2777\n",
      "PLZ8_ANTG3               2777\n",
      "PLZ8_ANTG4               2777\n",
      "PLZ8_HHZ                 2777\n",
      "PLZ8_GBZ                 2777\n",
      "ARBEIT                    572\n",
      "ORTSGR_KLS9               549\n",
      "RELAT_AB                  572\n",
      "decade                  37961\n",
      "movement                37961\n",
      "cameo_intl              37463\n",
      "dtype: int64\n"
     ]
    }
   ],
   "source": [
    "# quick check the miss counts\n",
    "print(clean_cust.isnull().sum()[clean_cust.isnull().sum()>0])"
   ]
  },
  {
   "cell_type": "code",
   "execution_count": 76,
   "metadata": {},
   "outputs": [
    {
     "name": "stdout",
     "output_type": "stream",
     "text": [
      "['AGER_TYP_-1', 'AGER_TYP_0', 'AGER_TYP_1', 'AGER_TYP_2', 'AGER_TYP_3', 'LP_FAMILIE_FEIN_0.0', 'LP_FAMILIE_GROB_0.0', 'NATIONALITAET_KZ_0', 'NATIONALITAET_KZ_1', 'NATIONALITAET_KZ_2', 'NATIONALITAET_KZ_3', 'SHOPPER_TYP_-1', 'SHOPPER_TYP_0', 'SHOPPER_TYP_1', 'SHOPPER_TYP_2', 'SHOPPER_TYP_3', 'TITEL_KZ_0.0', 'TITEL_KZ_2.0', 'VERS_TYP_-1', 'VERS_TYP_1', 'VERS_TYP_2', 'GEBAEUDETYP_5.0', 'LP_LEBENSPHASE_FEIN_0.0', 'LP_LEBENSPHASE_GROB_0.0', 'KBA05_BAUMAX_0.0']\n"
     ]
    }
   ],
   "source": [
    "# clean and fix the OHE feats\n",
    "mis_col=[]\n",
    "for i in azdias_is.columns:\n",
    "    if i not in clean_cust.columns:\n",
    "        mis_col.append(i)\n",
    "        #print(i)\n",
    "print(mis_col)"
   ]
  },
  {
   "cell_type": "code",
   "execution_count": 77,
   "metadata": {},
   "outputs": [
    {
     "name": "stdout",
     "output_type": "stream",
     "text": [
      "Fix missing column: AGER_TYP_-1\n",
      "Fix missing column: AGER_TYP_0\n",
      "Fix missing column: AGER_TYP_1\n",
      "Fix missing column: AGER_TYP_2\n",
      "Fix missing column: AGER_TYP_3\n",
      "Fix missing column: LP_FAMILIE_FEIN_0.0\n",
      "Fix missing column: LP_FAMILIE_GROB_0.0\n",
      "Fix missing column: NATIONALITAET_KZ_0\n",
      "Fix missing column: NATIONALITAET_KZ_1\n",
      "Fix missing column: NATIONALITAET_KZ_2\n",
      "Fix missing column: NATIONALITAET_KZ_3\n",
      "Fix missing column: SHOPPER_TYP_-1\n",
      "Fix missing column: SHOPPER_TYP_0\n",
      "Fix missing column: SHOPPER_TYP_1\n",
      "Fix missing column: SHOPPER_TYP_2\n",
      "Fix missing column: SHOPPER_TYP_3\n",
      "Fix missing column: TITEL_KZ_0.0\n",
      "Fix missing column: TITEL_KZ_2.0\n",
      "Fix missing column: VERS_TYP_-1\n",
      "Fix missing column: VERS_TYP_1\n",
      "Fix missing column: VERS_TYP_2\n",
      "Fix missing column: GEBAEUDETYP_5.0\n",
      "Fix missing column: LP_LEBENSPHASE_FEIN_0.0\n",
      "Fix missing column: LP_LEBENSPHASE_GROB_0.0\n",
      "Fix missing column: KBA05_BAUMAX_0.0\n"
     ]
    }
   ],
   "source": [
    "# handle the discrepant columns\n",
    "# List of currently missing columns\n",
    "# mis_col = ['AGER_TYP_-1', 'AGER_TYP_0', 'AGER_TYP_1', 'AGER_TYP_2', 'AGER_TYP_3',\n",
    "#                    'LP_FAMILIE_FEIN_0.0', 'LP_FAMILIE_GROB_0.0',\n",
    "#                    'NATIONALITAET_KZ_0', 'NATIONALITAET_KZ_1', 'NATIONALITAET_KZ_2', 'NATIONALITAET_KZ_3',\n",
    "#                    'SHOPPER_TYP_-1', 'SHOPPER_TYP_0', 'SHOPPER_TYP_1', 'SHOPPER_TYP_2', 'SHOPPER_TYP_3',\n",
    "#                    'TITEL_KZ_0.0', 'TITEL_KZ_2.0', 'VERS_TYP_-1', 'VERS_TYP_1', 'VERS_TYP_2',\n",
    "#                    'GEBAEUDETYP_5.0', 'LP_LEBENSPHASE_FEIN_0.0', 'LP_LEBENSPHASE_GROB_0.0', 'KBA05_BAUMAX_0.0']\n",
    "\n",
    "# Iterate our missing cols\n",
    "for col in mis_col:\n",
    "    if col not in clean_cust.columns:\n",
    "        print(f\"Fix missing column: {col}\")\n",
    "        # make new pd series w/ 0s\n",
    "        new_column = pd.Series(np.zeros(clean_cust.shape[0]), name=col, index=clean_cust.index)\n",
    "        clean_cust[col] = new_column\n",
    "\n",
    "# re-order cols to match our original df\n",
    "clean_cust = clean_cust[azdias_is.columns]\n"
   ]
  },
  {
   "cell_type": "code",
   "execution_count": 78,
   "metadata": {},
   "outputs": [
    {
     "name": "stdout",
     "output_type": "stream",
     "text": [
      "The number of columns in (cleaned) customer matches the number of columns of azdias.\n"
     ]
    }
   ],
   "source": [
    "# clean_cust.shape\n",
    "if clean_cust.shape[1] == azdias_is.shape[1]:\n",
    "    print(\"The number of columns in (cleaned) customer matches the number of columns of azdias.\")\n",
    "else:\n",
    "    print(\"The number of columns in (cleaned) customer does not match the number of columns from azdias\")\n"
   ]
  },
  {
   "cell_type": "code",
   "execution_count": 79,
   "metadata": {},
   "outputs": [],
   "source": [
    "imputed = imputer.transform(clean_cust)\n",
    "standardized = scaler.transform(imputed)"
   ]
  },
  {
   "cell_type": "code",
   "execution_count": 80,
   "metadata": {},
   "outputs": [
    {
     "name": "stdout",
     "output_type": "stream",
     "text": [
      "(141665, 286)\n"
     ]
    }
   ],
   "source": [
    "# Convert the NumPy array back to a DataFrame\n",
    "cust_is = pd.DataFrame(data=standardized, columns=clean_cust.columns)\n",
    "print(cust_is.shape)"
   ]
  },
  {
   "cell_type": "code",
   "execution_count": 81,
   "metadata": {},
   "outputs": [],
   "source": [
    "# PCA\n",
    "X_pca_cust = pca.transform(cust_is)"
   ]
  },
  {
   "cell_type": "code",
   "execution_count": 82,
   "metadata": {},
   "outputs": [
    {
     "data": {
      "text/plain": [
       "(141665, 128)"
      ]
     },
     "execution_count": 82,
     "metadata": {},
     "output_type": "execute_result"
    }
   ],
   "source": [
    "X_pca_cust.shape"
   ]
  },
  {
   "cell_type": "code",
   "execution_count": 83,
   "metadata": {},
   "outputs": [],
   "source": [
    "cust_kmean = final_model.predict(X_pca_cust)"
   ]
  },
  {
   "cell_type": "markdown",
   "metadata": {},
   "source": [
    "### Step 3.3: Compare Customer Data to Demographics Data\n",
    "\n",
    "At this point, you have clustered data based on demographics of the general population of Germany, and seen how the customer data for a mail-order sales company maps onto those demographic clusters. In this final substep, you will compare the two cluster distributions to see where the strongest customer base for the company is.\n",
    "\n",
    "Consider the proportion of persons in each cluster for the general population, and the proportions for the customers. If we think the company's customer base to be universal, then the cluster assignment proportions should be fairly similar between the two. If there are only particular segments of the population that are interested in the company's products, then we should see a mismatch from one to the other. If there is a higher proportion of persons in a cluster for the customer data compared to the general population (e.g. 5% of persons are assigned to a cluster for the general population, but 15% of the customer data is closest to that cluster's centroid) then that suggests the people in that cluster to be a target audience for the company. On the other hand, the proportion of the data in a cluster being larger in the general population than the customer data (e.g. only 2% of customers closest to a population centroid that captures 6% of the data) suggests that group of persons to be outside of the target demographics.\n",
    "\n",
    "Take a look at the following points in this step:\n",
    "\n",
    "- Compute the proportion of data points in each cluster for the general population and the customer data. Visualizations will be useful here: both for the individual dataset proportions, but also to visualize the ratios in cluster representation between groups. Seaborn's [`countplot()`](https://seaborn.pydata.org/generated/seaborn.countplot.html) or [`barplot()`](https://seaborn.pydata.org/generated/seaborn.barplot.html) function could be handy.\n",
    "  - Recall the analysis you performed in step 1.1.3 of the project, where you separated out certain data points from the dataset if they had more than a specified threshold of missing values. If you found that this group was qualitatively different from the main bulk of the data, you should treat this as an additional data cluster in this analysis. Make sure that you account for the number of data points in this subset, for both the general population and customer datasets, when making your computations!\n",
    "- Which cluster or clusters are overrepresented in the customer dataset compared to the general population? Select at least one such cluster and infer what kind of people might be represented by that cluster. Use the principal component interpretations from step 2.3 or look at additional components to help you make this inference. Alternatively, you can use the `.inverse_transform()` method of the PCA and StandardScaler objects to transform centroids back to the original data space and interpret the retrieved values directly.\n",
    "- Perform a similar investigation for the underrepresented clusters. Which cluster or clusters are underrepresented in the customer dataset compared to the general population, and what kinds of people are typified by these clusters?"
   ]
  },
  {
   "cell_type": "code",
   "execution_count": 86,
   "metadata": {},
   "outputs": [
    {
     "data": {
      "image/png": "[encoded data removed]",
      "text/plain": [
       "<Figure size 1600x800 with 1 Axes>"
      ]
     },
     "metadata": {},
     "output_type": "display_data"
    }
   ],
   "source": [
    "# Compare the proportion of data in each cluster for the customer data to the\n",
    "# proportion of data in each cluster for the general population.\n",
    "\n",
    "cust_clust = pd.DataFrame(cust_kmean,columns=['cust_preds'])\n",
    "gen_clust =  pd.DataFrame(gen_kmean,columns=['gen_preds'])\n",
    "\n",
    "prop_cust = cust_clust['cust_preds'].value_counts().sort_index()/ \\\n",
    "                sum(cust_clust['cust_preds'].value_counts())\n",
    "prop_gen = gen_clust['gen_preds'].value_counts().sort_index()/ \\\n",
    "                sum(gen_clust['gen_preds'].value_counts())\n",
    "\n",
    "fig,ax = plt.subplots(figsize=(16,8))\n",
    "width = 0.35\n",
    "\n",
    "cust = ax.bar(prop_cust.index-.51*width, prop_cust, width, color='red')\n",
    "gen = ax.bar(prop_gen.index+.51*width, prop_gen, width, color='blue')\n",
    "\n",
    "\n",
    "ax.set_ylabel('Proportion[%]')\n",
    "ax.set_xlabel('Labels')\n",
    "ax.set_title('General Population v. Customer Clusters')\n",
    "ax.set_xticks(prop_cust.index)\n",
    "ax.set_ylim(top=max(pd.concat([prop_cust, prop_gen])) * 1.15)\n",
    "ax.legend(('Customer Pop','General Pop'))\n",
    "\n",
    "def autolabel(rects):\n",
    "    \"\"\"\n",
    "    local labels / bar\n",
    "    \"\"\"\n",
    "    for rect in rects:\n",
    "        height = rect.get_height()\n",
    "        ax.text(rect.get_x() + rect.get_width()/2., 1.05*height,\n",
    "                '%.2f' % float(height),\n",
    "                ha='center', va='bottom')\n",
    "\n",
    "autolabel(cust)\n",
    "autolabel(gen)"
   ]
  },
  {
   "cell_type": "markdown",
   "metadata": {},
   "source": [
    "### On 1st run (not shown above) => Customers are\n",
    "\n",
    "#### Under-represented\n",
    "\n",
    "- 3: 8x\n",
    "- 4: 5x\n",
    "- 7: 5x\n",
    "- 9: 6x\n",
    "\n",
    "#### Over-represented\n",
    "\n",
    "- 2: 2x\n",
    "- 10: 3x\n",
    "- 14: 3x\n",
    "\n",
    "Overall at the first glance the customers seem significantly more under-represented vs. the general population.\n",
    "\n",
    "Multiple runs w/ new clustering fits yield different centroid indexes and % ratios, yet the general conclusions are further validated."
   ]
  },
  {
   "cell_type": "code",
   "execution_count": 182,
   "metadata": {},
   "outputs": [
    {
     "data": {
      "text/plain": [
       "(798003, 128)"
      ]
     },
     "execution_count": 182,
     "metadata": {},
     "output_type": "execute_result"
    }
   ],
   "source": [
    "azdias_is.shape\n",
    "azdias_pca.shape"
   ]
  },
  {
   "cell_type": "code",
   "execution_count": 208,
   "metadata": {},
   "outputs": [
    {
     "name": "stdout",
     "output_type": "stream",
     "text": [
      "Top PCA components for over-represented clusters 2:\n",
      "    pca_weights\n",
      "0     -5.112286\n",
      "7     -2.989457\n",
      "5     -2.219828\n",
      "22    -1.591686\n",
      "16     1.501476\n",
      "===================================================\n",
      "Top PCA components for over-represented clusters 10:\n",
      "    pca_weights\n",
      "10     6.017229\n",
      "9      3.734508\n",
      "0     -2.139783\n",
      "15    -2.025592\n",
      "2     -1.661668\n",
      "===================================================\n",
      "Top PCA components for over-represented clusters 14:\n",
      "    pca_weights\n",
      "0     -4.542427\n",
      "5      2.794925\n",
      "3      1.923854\n",
      "10    -1.273394\n",
      "13     1.130356\n",
      "===================================================\n"
     ]
    }
   ],
   "source": [
    "# What kinds of people are part of a cluster that is over-represented in the\n",
    "# customer data compared to the general population?\n",
    "\n",
    "# Selected centroids\n",
    "selected_centroids = [2, 10, 14]\n",
    "\n",
    "# Iterate over selected centroids\n",
    "for centroid_idx in selected_centroids:\n",
    "    centroid = final_model.cluster_centers_[centroid_idx]\n",
    "    centroid_df = pd.DataFrame(centroid, columns=['pca_weights'])\n",
    "    \n",
    "    # Sort PCA weights by absolute value in descending order\n",
    "    sorted_centroid_df = centroid_df.reindex(centroid_df['pca_weights'].abs().sort_values(ascending=False).index).head()\n",
    "    \n",
    "    # Print the head of sorted_centroid_df\n",
    "    print(f\"Top PCA components for over-represented clusters {centroid_idx}:\")\n",
    "    print(sorted_centroid_df)\n",
    "    print(\"===================================================\")\n",
    "\n"
   ]
  },
  {
   "cell_type": "code",
   "execution_count": 209,
   "metadata": {},
   "outputs": [
    {
     "name": "stdout",
     "output_type": "stream",
     "text": [
      "Top PCA components for under-represented clusters 3:\n",
      "    pca_weights\n",
      "0      4.996420\n",
      "1     -3.252104\n",
      "3     -1.333543\n",
      "14     1.159692\n",
      "9     -1.111062\n",
      "===================================================\n",
      "Top PCA components for under-represented clusters 4:\n",
      "    pca_weights\n",
      "0      4.975596\n",
      "1     -1.788617\n",
      "38     1.438618\n",
      "42     1.238119\n",
      "82     1.220609\n",
      "===================================================\n",
      "Top PCA components for under-represented clusters 7:\n",
      "    pca_weights\n",
      "1     -3.257242\n",
      "3     -2.915600\n",
      "7      1.955927\n",
      "8      1.841317\n",
      "19     1.590107\n",
      "===================================================\n",
      "Top PCA components for under-represented clusters 9:\n",
      "    pca_weights\n",
      "1     -4.334771\n",
      "6     -3.137063\n",
      "3      2.283249\n",
      "19    -2.038985\n",
      "5     -1.868824\n",
      "===================================================\n"
     ]
    }
   ],
   "source": [
    "# What kinds of people are part of a cluster that is under-represented in the\n",
    "# customer data compared to the general population?\n",
    "\n",
    "# Selected centroids\n",
    "selected_centroids = [3, 4, 7, 9] \n",
    "\n",
    "# Iterate over selected centroids\n",
    "for centroid_idx in selected_centroids:\n",
    "    centroid = final_model.cluster_centers_[centroid_idx]\n",
    "    centroid_df = pd.DataFrame(centroid, columns=['pca_weights'])\n",
    "    \n",
    "    # Sort PCA weights by absolute value in descending order\n",
    "    sorted_centroid_df = centroid_df.reindex(centroid_df['pca_weights'].abs().sort_values(ascending=False).index).head()\n",
    "    \n",
    "    # Print the head of sorted_centroid_df\n",
    "    print(f\"Top PCA components for under-represented clusters {centroid_idx}:\")\n",
    "    print(sorted_centroid_df)\n",
    "    print(\"===================================================\")\n"
   ]
  },
  {
   "cell_type": "markdown",
   "metadata": {},
   "source": [
    "### Perform visual exploration of selected top PCA components and associated features (based on our 1st clustering fit)\n",
    "- for the most interesting centroids from our lists \n",
    "- over [2, 10, 14]\n",
    "- under  [3, 4, 7, 9] \n",
    "- select the top PCA components for under- & over-represented clusters,\n",
    "- plot the top 10 features,\n",
    "- reason based on common sense, or ideally w/ SME help, the categories."
   ]
  },
  {
   "cell_type": "code",
   "execution_count": 218,
   "metadata": {},
   "outputs": [
    {
     "data": {
      "text/html": [
       "<div>\n",
       "<style scoped>\n",
       "    .dataframe tbody tr th:only-of-type {\n",
       "        vertical-align: middle;\n",
       "    }\n",
       "\n",
       "    .dataframe tbody tr th {\n",
       "        vertical-align: top;\n",
       "    }\n",
       "\n",
       "    .dataframe thead th {\n",
       "        text-align: right;\n",
       "    }\n",
       "</style>\n",
       "<table border=\"1\" class=\"dataframe\">\n",
       "  <thead>\n",
       "    <tr style=\"text-align: right;\">\n",
       "      <th></th>\n",
       "      <th>pca_weights</th>\n",
       "    </tr>\n",
       "  </thead>\n",
       "  <tbody>\n",
       "    <tr>\n",
       "      <th>10</th>\n",
       "      <td>6.017229</td>\n",
       "    </tr>\n",
       "    <tr>\n",
       "      <th>9</th>\n",
       "      <td>3.734508</td>\n",
       "    </tr>\n",
       "    <tr>\n",
       "      <th>0</th>\n",
       "      <td>-2.139783</td>\n",
       "    </tr>\n",
       "    <tr>\n",
       "      <th>15</th>\n",
       "      <td>-2.025592</td>\n",
       "    </tr>\n",
       "    <tr>\n",
       "      <th>2</th>\n",
       "      <td>-1.661668</td>\n",
       "    </tr>\n",
       "  </tbody>\n",
       "</table>\n",
       "</div>"
      ],
      "text/plain": [
       "    pca_weights\n",
       "10     6.017229\n",
       "9      3.734508\n",
       "0     -2.139783\n",
       "15    -2.025592\n",
       "2     -1.661668"
      ]
     },
     "execution_count": 218,
     "metadata": {},
     "output_type": "execute_result"
    }
   ],
   "source": [
    "# e.g., sample of over-represented cluster\n",
    "centroid = final_model.cluster_centers_[10]\n",
    "centroid_df = pd.DataFrame(centroid,columns=['pca_weights'])\n",
    "centroid_df.reindex(centroid_df.abs().sort_values('pca_weights',ascending=False).index).head()"
   ]
  },
  {
   "cell_type": "code",
   "execution_count": 222,
   "metadata": {},
   "outputs": [
    {
     "data": {
      "image/png": "[encoded data removed]",
      "text/plain": [
       "<Figure size 800x300 with 1 Axes>"
      ]
     },
     "metadata": {},
     "output_type": "display_data"
    },
    {
     "data": {
      "text/plain": [
       "LP_STATUS_GROB_2.0          0.3095\n",
       "LP_FAMILIE_GROB_4.0         0.2938\n",
       "LP_LEBENSPHASE_GROB_7.0     0.2401\n",
       "LP_LEBENSPHASE_FEIN_25.0    0.2004\n",
       "LP_FAMILIE_FEIN_8.0         0.1980\n",
       "LP_STATUS_FEIN_3.0          0.1926\n",
       "LP_STATUS_FEIN_4.0          0.1831\n",
       "LP_LEBENSPHASE_GROB_8.0     0.1747\n",
       "LP_FAMILIE_FEIN_7.0         0.1740\n",
       "LP_LEBENSPHASE_FEIN_24.0    0.1392\n",
       "LP_FAMILIE_FEIN_4.0        -0.0886\n",
       "LP_LEBENSPHASE_GROB_12.0   -0.0903\n",
       "LP_LEBENSPHASE_FEIN_23.0   -0.0958\n",
       "LP_LEBENSPHASE_GROB_5.0    -0.1028\n",
       "LP_LEBENSPHASE_FEIN_21.0   -0.1062\n",
       "LP_LEBENSPHASE_GROB_3.0    -0.1249\n",
       "LP_FAMILIE_GROB_3.0        -0.1344\n",
       "LP_LEBENSPHASE_GROB_6.0    -0.1344\n",
       "LP_STATUS_FEIN_9.0         -0.1462\n",
       "LP_STATUS_GROB_4.0         -0.1625\n",
       "Name: 8, dtype: float64"
      ]
     },
     "execution_count": 222,
     "metadata": {},
     "output_type": "execute_result"
    }
   ],
   "source": [
    "# Over cluster 10, top + => comp. 10\tw= +6.017229\n",
    "pca_plot(azdias_is, pca, 9, 10)"
   ]
  },
  {
   "cell_type": "code",
   "execution_count": 224,
   "metadata": {},
   "outputs": [
    {
     "data": {
      "image/png": "[encoded data removed]",
      "text/plain": [
       "<Figure size 800x300 with 1 Axes>"
      ]
     },
     "metadata": {},
     "output_type": "display_data"
    },
    {
     "data": {
      "text/plain": [
       "LP_LEBENSPHASE_FEIN_13.0    0.2144\n",
       "AGER_TYP_3                  0.2110\n",
       "GFK_URLAUBERTYP_7.0         0.2012\n",
       "LP_LEBENSPHASE_FEIN_17.0    0.1540\n",
       "LP_LEBENSPHASE_FEIN_27.0    0.1475\n",
       "CAMEO_DEU_2015_2A           0.1463\n",
       "LP_FAMILIE_FEIN_7.0         0.1415\n",
       "LP_FAMILIE_FEIN_4.0         0.1368\n",
       "TITEL_KZ_2.0                0.1331\n",
       "SHOPPER_TYP_3               0.1274\n",
       "LP_LEBENSPHASE_FEIN_4.0    -0.1166\n",
       "GFK_URLAUBERTYP_3.0        -0.1238\n",
       "CAMEO_DEU_2015_5D          -0.1243\n",
       "AGER_TYP_2                 -0.1526\n",
       "LP_FAMILIE_FEIN_6.0        -0.1626\n",
       "GFK_URLAUBERTYP_9.0        -0.1729\n",
       "LP_FAMILIE_FEIN_3.0        -0.1784\n",
       "TITEL_KZ_4.0               -0.1881\n",
       "LP_LEBENSPHASE_FEIN_11.0   -0.1954\n",
       "GEBAEUDETYP_2.0            -0.2911\n",
       "Name: 127, dtype: float64"
      ]
     },
     "execution_count": 224,
     "metadata": {},
     "output_type": "execute_result"
    }
   ],
   "source": [
    "# Over cluster 10, top - => comp. 0\tw= -2.139783\n",
    "pca_plot(azdias_is, pca, 0, 10)"
   ]
  },
  {
   "cell_type": "code",
   "execution_count": 225,
   "metadata": {},
   "outputs": [
    {
     "data": {
      "text/html": [
       "<div>\n",
       "<style scoped>\n",
       "    .dataframe tbody tr th:only-of-type {\n",
       "        vertical-align: middle;\n",
       "    }\n",
       "\n",
       "    .dataframe tbody tr th {\n",
       "        vertical-align: top;\n",
       "    }\n",
       "\n",
       "    .dataframe thead th {\n",
       "        text-align: right;\n",
       "    }\n",
       "</style>\n",
       "<table border=\"1\" class=\"dataframe\">\n",
       "  <thead>\n",
       "    <tr style=\"text-align: right;\">\n",
       "      <th></th>\n",
       "      <th>pca_weights</th>\n",
       "    </tr>\n",
       "  </thead>\n",
       "  <tbody>\n",
       "    <tr>\n",
       "      <th>0</th>\n",
       "      <td>4.996420</td>\n",
       "    </tr>\n",
       "    <tr>\n",
       "      <th>1</th>\n",
       "      <td>-3.252104</td>\n",
       "    </tr>\n",
       "    <tr>\n",
       "      <th>3</th>\n",
       "      <td>-1.333543</td>\n",
       "    </tr>\n",
       "    <tr>\n",
       "      <th>14</th>\n",
       "      <td>1.159692</td>\n",
       "    </tr>\n",
       "    <tr>\n",
       "      <th>9</th>\n",
       "      <td>-1.111062</td>\n",
       "    </tr>\n",
       "  </tbody>\n",
       "</table>\n",
       "</div>"
      ],
      "text/plain": [
       "    pca_weights\n",
       "0      4.996420\n",
       "1     -3.252104\n",
       "3     -1.333543\n",
       "14     1.159692\n",
       "9     -1.111062"
      ]
     },
     "execution_count": 225,
     "metadata": {},
     "output_type": "execute_result"
    }
   ],
   "source": [
    "# e.g., sample of under-represented cluster\n",
    "centroid = final_model.cluster_centers_[3]\n",
    "centroid_df = pd.DataFrame(centroid,columns=['pca_weights'])\n",
    "centroid_df.reindex(centroid_df.abs().sort_values('pca_weights',ascending=False).index).head()"
   ]
  },
  {
   "cell_type": "code",
   "execution_count": 226,
   "metadata": {},
   "outputs": [
    {
     "data": {
      "image/png": "[encoded data removed]",
      "text/plain": [
       "<Figure size 800x300 with 1 Axes>"
      ]
     },
     "metadata": {},
     "output_type": "display_data"
    },
    {
     "data": {
      "text/plain": [
       "LP_LEBENSPHASE_FEIN_13.0    0.2144\n",
       "AGER_TYP_3                  0.2110\n",
       "GFK_URLAUBERTYP_7.0         0.2012\n",
       "LP_LEBENSPHASE_FEIN_17.0    0.1540\n",
       "LP_LEBENSPHASE_FEIN_27.0    0.1475\n",
       "CAMEO_DEU_2015_2A           0.1463\n",
       "LP_FAMILIE_FEIN_7.0         0.1415\n",
       "LP_FAMILIE_FEIN_4.0         0.1368\n",
       "TITEL_KZ_2.0                0.1331\n",
       "SHOPPER_TYP_3               0.1274\n",
       "LP_LEBENSPHASE_FEIN_4.0    -0.1166\n",
       "GFK_URLAUBERTYP_3.0        -0.1238\n",
       "CAMEO_DEU_2015_5D          -0.1243\n",
       "AGER_TYP_2                 -0.1526\n",
       "LP_FAMILIE_FEIN_6.0        -0.1626\n",
       "GFK_URLAUBERTYP_9.0        -0.1729\n",
       "LP_FAMILIE_FEIN_3.0        -0.1784\n",
       "TITEL_KZ_4.0               -0.1881\n",
       "LP_LEBENSPHASE_FEIN_11.0   -0.1954\n",
       "GEBAEUDETYP_2.0            -0.2911\n",
       "Name: 127, dtype: float64"
      ]
     },
     "execution_count": 226,
     "metadata": {},
     "output_type": "execute_result"
    }
   ],
   "source": [
    "# Under cluster 3, top + => comp. 0\tw= +4.9964\n",
    "pca_plot(azdias_is, pca, 0, 10)"
   ]
  },
  {
   "cell_type": "code",
   "execution_count": 227,
   "metadata": {},
   "outputs": [
    {
     "data": {
      "image/png": "[encoded data removed]",
      "text/plain": [
       "<Figure size 800x300 with 1 Axes>"
      ]
     },
     "metadata": {},
     "output_type": "display_data"
    },
    {
     "data": {
      "text/plain": [
       "LP_STATUS_GROB_1.0    0.1842\n",
       "PLZ8_ANTG3            0.1736\n",
       "HH_EINKOMMEN_SCORE    0.1701\n",
       "PLZ8_ANTG4            0.1680\n",
       "ORTSGR_KLS9           0.1511\n",
       "EWDICHTE              0.1492\n",
       "FINANZ_HAUSBAUER      0.1439\n",
       "LP_STATUS_FEIN_1.0    0.1240\n",
       "KBA05_ANTG4           0.1231\n",
       "PLZ8_ANTG2            0.1199\n",
       "INNENSTADT           -0.1232\n",
       "PLZ8_GBZ             -0.1271\n",
       "KONSUMNAEHE          -0.1302\n",
       "KBA05_BAUMAX_1.0     -0.1364\n",
       "PLZ8_BAUMAX_1.0      -0.1632\n",
       "KBA05_GBZ            -0.1711\n",
       "PLZ8_ANTG1           -0.1739\n",
       "FINANZ_MINIMALIST    -0.1747\n",
       "KBA05_ANTG1          -0.1800\n",
       "MOBI_REGIO           -0.1933\n",
       "Name: 0, dtype: float64"
      ]
     },
     "execution_count": 227,
     "metadata": {},
     "output_type": "execute_result"
    }
   ],
   "source": [
    "# Under cluster 3, top - => comp. 1\tw= -3.25\n",
    "pca_plot(azdias_is, pca, 1, 10)"
   ]
  },
  {
   "cell_type": "markdown",
   "metadata": {},
   "source": [
    "### Discussion 3.3: Compare Customer Data to Demographics Data\n",
    "\n",
    "Again, the key centroids analysed were based on the 1st run and K-mean fit (and validated by 3 more runs after)\n",
    "\n",
    "#### Under-represented\n",
    "- 3: 8x\n",
    "- 4: 5x\n",
    "- 7: 5x\n",
    "- 9: 6x\n",
    "\n",
    "#### Over-represented\n",
    "- 2: 2x\n",
    "- 10: 3x\n",
    "- 14: 3x\n",
    "\n",
    "**Analysis and Discussion:**\n",
    "\n",
    "Aggregating these preliminary insights from a limited range of analyses (5 runs; non-SME student, single clustering, rash decisions in feat. eng. etc.), an early  understanding of customer segmentation and preferences for the mail-order company comes into focus. We attempt a first perspective on the segments that are relatively popular or unpopular with the company, offering our arguable guidance for targeted marketing strategies.\n",
    "\n",
    "**Relatively Popular Customer Segments:**\n",
    "\n",
    "1. **Distinct Cluster Attributes**: Clusters that are overrepresented in customer data exhibit common traits. These individuals are often wealthier, residing in larger households, and leaning towards conservative financial habits. They tend to be rational, materialistic, and dutiful, with characteristics that are more aligned with traditional values.\n",
    "\n",
    "2. **Affluent Older Demographics**: An evident pattern emerges among segments that consist of older, more affluent individuals. This demographic is characterized by higher financial status, a penchant for wealth accumulation, and a preference for larger residences.\n",
    "\n",
    "3. **Psychological Traits**: Overrepresented segments often encompass individuals who demonstrate rational financial behaviors, are less dreamful and socially-minded, and live in less densely populated areas.\n",
    "\n",
    "**Relatively Unpopular Customer Segments:**\n",
    "\n",
    "1. **Diverse Cluster Attributes**: Clusters underrepresented in customer data share varying characteristics. This includes environmentally conscious individuals living in densely populated regions with higher unemployment rates and segments comprised of younger individuals with lower financial awareness and status.\n",
    "\n",
    "2. **Challenges with Younger Audiences**: Younger individuals, particularly females, stand out as being relatively unpopular among the customer base. These segments often lack financial involvement, exhibit less conservative attitudes, and reside in densely populated areas.\n",
    "\n",
    "3. **Psychological Traits**: Unpopular segments also tend to possess attributes such as high financial interest, rationality, combative attitudes, or being male. These traits align with segments that do not resonate well with the company's offerings.\n",
    "\n",
    "\n",
    "**Potential Guidance for Marketing Strategy:**\n",
    "\n",
    "1. **Targeting Older and Wealthier**: Given the prevalence of overrepresented segments that are older and wealthier, it's advisable to direct marketing efforts towards this demographic. Crafting campaigns that emphasize affluence and financial stability could be effective.\n",
    "\n",
    "2. **Tailoring Psychological Messaging**: Understanding the psychological traits associated with both popular and unpopular segments provides an opportunity to craft messaging that resonates with each group's values and aspirations.\n",
    "\n",
    "3. **Leveraging Environmental and Economic Trends**: The environmentally conscious segments can be tapped into by aligning marketing efforts with green initiatives. On the other hand, addressing financial awareness among younger demographics is crucial for engagement.\n",
    "\n",
    "4. **Balancing Contradictory Traits**: Considering contradictory traits collectively, marketers should aim to identify potential customers based on combinations of attributes. This can provide a nuanced approach to reaching diverse audiences.\n",
    "\n",
    "In conclusion, this preliminary analysis draws from a range of k-mean cluster&PCA investigations, enabling the mail-order company to shape a sophisticated marketing strategy. By focusing on identified segments and crafting messaging that addresses the above mentioned attributes and traits, the company can position itself for success in attracting and engaging a wide-ranging customer base.\n",
    "\n",
    "\n",
    "**Limitations of our ML Analysis:**\n",
    "\n",
    "1. **Limited Number of Clusters:** The K-means clustering utilized only 16 clusters due to the absence of a clear elbow point in the sum of squared errors (SSE) curve. This limited granularity might not capture the intricate patterns within the data, leading to oversimplification of customer segments.\n",
    "\n",
    "2. **Lack of Ground Truth:** The absence of ground truth labels makes it challenging to objectively evaluate the clustering results. While domain expertise was employed, subjective interpretation can introduce bias into the segmentation process.\n",
    "\n",
    "3. **Cluster Interpretability:** Interpreting the meaning behind the clusters can be complex, as they are composed of high-dimensional principal components. Connecting these components to actionable insights can be challenging and might require further domain-specific knowledge.\n",
    "\n",
    "4. **Data Transformation Impact:** The reduction of features through PCA (from 284 to 128) introduces the risk of information loss. While it aids in dimensionality reduction, it might mask subtle nuances that play a crucial role in customer segmentation. We also dropped ca. 10% of the samples (93K rows), despite the KS tests advising to the contrary; hence we may have introduced a bias distorting our conclusions...?\n",
    "\n",
    "5. **Sensitive to Initialization:** The performance of K-means clustering can vary based on the initial placement of centroids. Different random initializations can lead to slightly different cluster assignments, impacting the stability of the results.\n",
    "\n",
    "**Future Work:**\n",
    "\n",
    "1. **Alternative Clustering Algorithms:** Exploring other clustering methods such as hierarchical clustering, DBSCAN, or Gaussian Mixture Models and EM could provide different perspectives on the data structure, potentially revealing more meaningful clusters.\n",
    "\n",
    "2. **Feature Engineering:** Careful selection and engineering of features can improve the quality of the clusters. Exploring new features or transformations might highlight more pronounced patterns.\n",
    "\n",
    "3. **Dimensionality Reduction Techniques:** Experimenting with other dimensionality reduction methods beyond PCA, such as t-SNE or UMAP, might help retain more of the original data's characteristics while reducing dimensionality.\n",
    "\n",
    "4. **Evaluation Metrics:** Introducing evaluation metrics like silhouette scores, Davies-Bouldin index, or silhouette plots could provide more objective means to assess the quality of the clustering results.\n",
    "\n",
    "5. **Hyperparameter Tuning:** Fine-tuning the parameters of the clustering algorithm, including the number of clusters, initialization methods, and convergence criteria, could lead to more stable and accurate segmentation.\n",
    "\n",
    "6. **Domain Expertise:** Collaborating closely with domain experts and incorporating their insights during both the preprocessing and clustering stages can enhance the accuracy and interpretability of the segmentation.\n",
    "\n",
    "7. **Ensemble Methods:** Combining results from multiple clustering algorithms through ensemble techniques can provide a more robust and reliable segmentation outcome.\n",
    "\n",
    "8. **External Validation:** Gathering external data, such as customer demographics or behavioral data, could be used to validate the generated clusters against real-world characteristics.\n",
    "\n",
    "9. **Iterative Approach:** Segmentation is not a one-time task. Regularly revisiting and updating the analysis based on new data and insights is important to ensure the strategy remains relevant.\n",
    "\n",
    "In conclusion, while our initial ML analysis provided valuable insights, it's important to acknowledge its limitations. Expanding the analysis through the mentioned future work avenues can enhance the accuracy, stability, and applicability of the customer segmentation process for the mail-order company.\n",
    "\n",
    "Intangible / remark: After 5 runs with different PCA and K-means, this student could not obtain the resemblance of an elbow in the SSE scores plots. This suggests the need for alternative clustering models and metrics."
   ]
  },
  {
   "cell_type": "markdown",
   "metadata": {},
   "source": [
    "> Congratulations on making it this far in the project! Before you finish, make sure to check through the entire notebook from top to bottom to make sure that your analysis follows a logical flow and all of your findings are documented in **Discussion** cells. Once you've checked over all of your work, you should export the notebook as an HTML document to submit for evaluation. You can do this from the menu, navigating to **File -> Download as -> HTML (.html)**. You will submit both that document and this notebook for your project submission."
   ]
  }
 ],
 "metadata": {
  "kernelspec": {
   "display_name": "Python 3",
   "language": "python",
   "name": "python3"
  },
  "language_info": {
   "codemirror_mode": {
    "name": "ipython",
    "version": 3
   },
   "file_extension": ".py",
   "mimetype": "text/x-python",
   "name": "python",
   "nbconvert_exporter": "python",
   "pygments_lexer": "ipython3",
   "version": "3.6.3"
  }
 },
 "nbformat": 4,
 "nbformat_minor": 2
}
